{
 "cells": [
  {
   "cell_type": "code",
   "execution_count": 175,
   "metadata": {
    "_cell_guid": "b1076dfc-b9ad-4769-8c92-a6c4dae69d19",
    "_uuid": "8f2839f25d086af736a60e9eeb907d3b93b6e0e5",
    "colab": {},
    "colab_type": "code",
    "id": "U2D2gTdJVp90"
   },
   "outputs": [],
   "source": [
    "import numpy as np\n",
    "import pandas as pd\n",
    "import seaborn as sns\n",
    "import matplotlib.pyplot as plt\n",
    "from collections import Counter"
   ]
  },
  {
   "cell_type": "code",
   "execution_count": 176,
   "metadata": {
    "_cell_guid": "79c7e3d0-c299-4dcb-8224-4455121ee9b0",
    "_uuid": "d629ff2d2480ee46fbb7e2d37f6b5fab8052498a",
    "colab": {},
    "colab_type": "code",
    "id": "oyGfxL3eVp9-",
    "scrolled": true
   },
   "outputs": [
    {
     "data": {
      "text/html": [
       "<div>\n",
       "<style scoped>\n",
       "    .dataframe tbody tr th:only-of-type {\n",
       "        vertical-align: middle;\n",
       "    }\n",
       "\n",
       "    .dataframe tbody tr th {\n",
       "        vertical-align: top;\n",
       "    }\n",
       "\n",
       "    .dataframe thead th {\n",
       "        text-align: right;\n",
       "    }\n",
       "</style>\n",
       "<table border=\"1\" class=\"dataframe\">\n",
       "  <thead>\n",
       "    <tr style=\"text-align: right;\">\n",
       "      <th></th>\n",
       "      <th>imdb_id</th>\n",
       "      <th>budget</th>\n",
       "      <th>revenue</th>\n",
       "      <th>original_title</th>\n",
       "      <th>cast</th>\n",
       "      <th>director</th>\n",
       "      <th>tagline</th>\n",
       "      <th>overview</th>\n",
       "      <th>runtime</th>\n",
       "      <th>genres</th>\n",
       "      <th>production_companies</th>\n",
       "      <th>release_date</th>\n",
       "      <th>vote_average</th>\n",
       "      <th>release_year</th>\n",
       "    </tr>\n",
       "  </thead>\n",
       "  <tbody>\n",
       "    <tr>\n",
       "      <th>931</th>\n",
       "      <td>tt0240900</td>\n",
       "      <td>14000000</td>\n",
       "      <td>6413915</td>\n",
       "      <td>Slackers</td>\n",
       "      <td>Jason Segel|Devon Sawa|Jason Schwartzman|Jaime...</td>\n",
       "      <td>Dewey Nicks</td>\n",
       "      <td>When all else fails... cheat.</td>\n",
       "      <td>Dave, Sam and Jeff are about to graduate from ...</td>\n",
       "      <td>86</td>\n",
       "      <td>Comedy|Romance</td>\n",
       "      <td>Sony Pictures|Screen Gems</td>\n",
       "      <td>2/1/2002</td>\n",
       "      <td>5.7</td>\n",
       "      <td>2002</td>\n",
       "    </tr>\n",
       "    <tr>\n",
       "      <th>765</th>\n",
       "      <td>tt1563738</td>\n",
       "      <td>15000000</td>\n",
       "      <td>59389433</td>\n",
       "      <td>One Day</td>\n",
       "      <td>Anne Hathaway|Jim Sturgess|Patricia Clarkson|R...</td>\n",
       "      <td>Lone Scherfig</td>\n",
       "      <td>Twenty years. Two people.</td>\n",
       "      <td>A romantic comedy centered on Dexter and Emma,...</td>\n",
       "      <td>107</td>\n",
       "      <td>Drama|Romance</td>\n",
       "      <td>Film 4|Color Force</td>\n",
       "      <td>3/2/2011</td>\n",
       "      <td>6.9</td>\n",
       "      <td>2011</td>\n",
       "    </tr>\n",
       "    <tr>\n",
       "      <th>299</th>\n",
       "      <td>tt1139668</td>\n",
       "      <td>16000000</td>\n",
       "      <td>76514050</td>\n",
       "      <td>The Unborn</td>\n",
       "      <td>Odette Annable|Gary Oldman|Meagan Good|Cam Gig...</td>\n",
       "      <td>David S. Goyer</td>\n",
       "      <td>Evil will do anything to live.</td>\n",
       "      <td>A young woman fights the spirit that is slowly...</td>\n",
       "      <td>87</td>\n",
       "      <td>Horror|Thriller|Mystery</td>\n",
       "      <td>Rogue Pictures|Phantom Four|Platinum Dunes|Rel...</td>\n",
       "      <td>1/9/2009</td>\n",
       "      <td>4.9</td>\n",
       "      <td>2009</td>\n",
       "    </tr>\n",
       "    <tr>\n",
       "      <th>657</th>\n",
       "      <td>tt0364970</td>\n",
       "      <td>70000000</td>\n",
       "      <td>72108608</td>\n",
       "      <td>Babylon A.D.</td>\n",
       "      <td>Vin Diesel|Michelle Yeoh|MÃ©lanie Thierry|Lamb...</td>\n",
       "      <td>Mathieu Kassovitz</td>\n",
       "      <td>Kill or be Killed.</td>\n",
       "      <td>In Babylon A.D Vin Diesel stars as a veteran-t...</td>\n",
       "      <td>101</td>\n",
       "      <td>Action|Adventure|Science Fiction|Thriller</td>\n",
       "      <td>StudioCanal|M6 Films|Canal+|CinÃ©CinÃ©ma|Babylon</td>\n",
       "      <td>8/20/2008</td>\n",
       "      <td>5.4</td>\n",
       "      <td>2008</td>\n",
       "    </tr>\n",
       "    <tr>\n",
       "      <th>208</th>\n",
       "      <td>tt2318092</td>\n",
       "      <td>20000000</td>\n",
       "      <td>34077920</td>\n",
       "      <td>Endless Love</td>\n",
       "      <td>Alex Pettyfer|Gabriella Wilde|Robert Patrick|R...</td>\n",
       "      <td>Shana Feste</td>\n",
       "      <td>Say Goodbye to Innocence</td>\n",
       "      <td>When beautiful Jade (Gabriella Wilde) meets ch...</td>\n",
       "      <td>103</td>\n",
       "      <td>Drama|Romance</td>\n",
       "      <td>Universal Pictures|Fake Empire|Bluegrass Films</td>\n",
       "      <td>2/12/2014</td>\n",
       "      <td>6.6</td>\n",
       "      <td>2014</td>\n",
       "    </tr>\n",
       "  </tbody>\n",
       "</table>\n",
       "</div>"
      ],
      "text/plain": [
       "       imdb_id    budget   revenue original_title  \\\n",
       "931  tt0240900  14000000   6413915       Slackers   \n",
       "765  tt1563738  15000000  59389433        One Day   \n",
       "299  tt1139668  16000000  76514050     The Unborn   \n",
       "657  tt0364970  70000000  72108608   Babylon A.D.   \n",
       "208  tt2318092  20000000  34077920   Endless Love   \n",
       "\n",
       "                                                  cast           director  \\\n",
       "931  Jason Segel|Devon Sawa|Jason Schwartzman|Jaime...        Dewey Nicks   \n",
       "765  Anne Hathaway|Jim Sturgess|Patricia Clarkson|R...      Lone Scherfig   \n",
       "299  Odette Annable|Gary Oldman|Meagan Good|Cam Gig...     David S. Goyer   \n",
       "657  Vin Diesel|Michelle Yeoh|MÃ©lanie Thierry|Lamb...  Mathieu Kassovitz   \n",
       "208  Alex Pettyfer|Gabriella Wilde|Robert Patrick|R...        Shana Feste   \n",
       "\n",
       "                            tagline  \\\n",
       "931   When all else fails... cheat.   \n",
       "765       Twenty years. Two people.   \n",
       "299  Evil will do anything to live.   \n",
       "657              Kill or be Killed.   \n",
       "208        Say Goodbye to Innocence   \n",
       "\n",
       "                                              overview  runtime  \\\n",
       "931  Dave, Sam and Jeff are about to graduate from ...       86   \n",
       "765  A romantic comedy centered on Dexter and Emma,...      107   \n",
       "299  A young woman fights the spirit that is slowly...       87   \n",
       "657  In Babylon A.D Vin Diesel stars as a veteran-t...      101   \n",
       "208  When beautiful Jade (Gabriella Wilde) meets ch...      103   \n",
       "\n",
       "                                        genres  \\\n",
       "931                             Comedy|Romance   \n",
       "765                              Drama|Romance   \n",
       "299                    Horror|Thriller|Mystery   \n",
       "657  Action|Adventure|Science Fiction|Thriller   \n",
       "208                              Drama|Romance   \n",
       "\n",
       "                                  production_companies release_date  \\\n",
       "931                          Sony Pictures|Screen Gems     2/1/2002   \n",
       "765                                 Film 4|Color Force     3/2/2011   \n",
       "299  Rogue Pictures|Phantom Four|Platinum Dunes|Rel...     1/9/2009   \n",
       "657   StudioCanal|M6 Films|Canal+|CinÃ©CinÃ©ma|Babylon    8/20/2008   \n",
       "208     Universal Pictures|Fake Empire|Bluegrass Films    2/12/2014   \n",
       "\n",
       "     vote_average  release_year  \n",
       "931           5.7          2002  \n",
       "765           6.9          2011  \n",
       "299           4.9          2009  \n",
       "657           5.4          2008  \n",
       "208           6.6          2014  "
      ]
     },
     "execution_count": 176,
     "metadata": {},
     "output_type": "execute_result"
    }
   ],
   "source": [
    "data = pd.read_csv('movie_bd_v5.csv')\n",
    "data.sample(5)"
   ]
  },
  {
   "cell_type": "code",
   "execution_count": 177,
   "metadata": {
    "colab": {},
    "colab_type": "code",
    "id": "CoYUnagMVp-C"
   },
   "outputs": [
    {
     "data": {
      "text/html": [
       "<div>\n",
       "<style scoped>\n",
       "    .dataframe tbody tr th:only-of-type {\n",
       "        vertical-align: middle;\n",
       "    }\n",
       "\n",
       "    .dataframe tbody tr th {\n",
       "        vertical-align: top;\n",
       "    }\n",
       "\n",
       "    .dataframe thead th {\n",
       "        text-align: right;\n",
       "    }\n",
       "</style>\n",
       "<table border=\"1\" class=\"dataframe\">\n",
       "  <thead>\n",
       "    <tr style=\"text-align: right;\">\n",
       "      <th></th>\n",
       "      <th>budget</th>\n",
       "      <th>revenue</th>\n",
       "      <th>runtime</th>\n",
       "      <th>vote_average</th>\n",
       "      <th>release_year</th>\n",
       "    </tr>\n",
       "  </thead>\n",
       "  <tbody>\n",
       "    <tr>\n",
       "      <th>count</th>\n",
       "      <td>1.889000e+03</td>\n",
       "      <td>1.889000e+03</td>\n",
       "      <td>1889.000000</td>\n",
       "      <td>1889.000000</td>\n",
       "      <td>1889.000000</td>\n",
       "    </tr>\n",
       "    <tr>\n",
       "      <th>mean</th>\n",
       "      <td>5.431083e+07</td>\n",
       "      <td>1.553653e+08</td>\n",
       "      <td>109.658549</td>\n",
       "      <td>6.140762</td>\n",
       "      <td>2007.860773</td>\n",
       "    </tr>\n",
       "    <tr>\n",
       "      <th>std</th>\n",
       "      <td>4.858721e+07</td>\n",
       "      <td>2.146698e+08</td>\n",
       "      <td>18.017041</td>\n",
       "      <td>0.764763</td>\n",
       "      <td>4.468841</td>\n",
       "    </tr>\n",
       "    <tr>\n",
       "      <th>min</th>\n",
       "      <td>5.000000e+06</td>\n",
       "      <td>2.033165e+06</td>\n",
       "      <td>63.000000</td>\n",
       "      <td>3.300000</td>\n",
       "      <td>2000.000000</td>\n",
       "    </tr>\n",
       "    <tr>\n",
       "      <th>25%</th>\n",
       "      <td>2.000000e+07</td>\n",
       "      <td>3.456058e+07</td>\n",
       "      <td>97.000000</td>\n",
       "      <td>5.600000</td>\n",
       "      <td>2004.000000</td>\n",
       "    </tr>\n",
       "    <tr>\n",
       "      <th>50%</th>\n",
       "      <td>3.800000e+07</td>\n",
       "      <td>8.361541e+07</td>\n",
       "      <td>107.000000</td>\n",
       "      <td>6.100000</td>\n",
       "      <td>2008.000000</td>\n",
       "    </tr>\n",
       "    <tr>\n",
       "      <th>75%</th>\n",
       "      <td>7.200000e+07</td>\n",
       "      <td>1.782626e+08</td>\n",
       "      <td>120.000000</td>\n",
       "      <td>6.600000</td>\n",
       "      <td>2012.000000</td>\n",
       "    </tr>\n",
       "    <tr>\n",
       "      <th>max</th>\n",
       "      <td>3.800000e+08</td>\n",
       "      <td>2.781506e+09</td>\n",
       "      <td>214.000000</td>\n",
       "      <td>8.100000</td>\n",
       "      <td>2015.000000</td>\n",
       "    </tr>\n",
       "  </tbody>\n",
       "</table>\n",
       "</div>"
      ],
      "text/plain": [
       "             budget       revenue      runtime  vote_average  release_year\n",
       "count  1.889000e+03  1.889000e+03  1889.000000   1889.000000   1889.000000\n",
       "mean   5.431083e+07  1.553653e+08   109.658549      6.140762   2007.860773\n",
       "std    4.858721e+07  2.146698e+08    18.017041      0.764763      4.468841\n",
       "min    5.000000e+06  2.033165e+06    63.000000      3.300000   2000.000000\n",
       "25%    2.000000e+07  3.456058e+07    97.000000      5.600000   2004.000000\n",
       "50%    3.800000e+07  8.361541e+07   107.000000      6.100000   2008.000000\n",
       "75%    7.200000e+07  1.782626e+08   120.000000      6.600000   2012.000000\n",
       "max    3.800000e+08  2.781506e+09   214.000000      8.100000   2015.000000"
      ]
     },
     "execution_count": 177,
     "metadata": {},
     "output_type": "execute_result"
    }
   ],
   "source": [
    "data.describe()"
   ]
  },
  {
   "cell_type": "markdown",
   "metadata": {
    "colab_type": "text",
    "id": "DTIt7ezGVp-G"
   },
   "source": [
    "# Предобработка"
   ]
  },
  {
   "cell_type": "code",
   "execution_count": 185,
   "metadata": {
    "colab": {},
    "colab_type": "code",
    "id": "jNb40DwKVp-H"
   },
   "outputs": [
    {
     "name": "stdout",
     "output_type": "stream",
     "text": [
      "<class 'pandas.core.frame.DataFrame'>\n",
      "RangeIndex: 1889 entries, 0 to 1888\n",
      "Data columns (total 15 columns):\n",
      " #   Column                Non-Null Count  Dtype  \n",
      "---  ------                --------------  -----  \n",
      " 0   imdb_id               1889 non-null   object \n",
      " 1   budget                1889 non-null   int64  \n",
      " 2   revenue               1889 non-null   int64  \n",
      " 3   original_title        1889 non-null   object \n",
      " 4   cast                  1889 non-null   object \n",
      " 5   director              1889 non-null   object \n",
      " 6   tagline               1889 non-null   object \n",
      " 7   overview              1889 non-null   object \n",
      " 8   runtime               1889 non-null   int64  \n",
      " 9   genres                1889 non-null   object \n",
      " 10  production_companies  1889 non-null   object \n",
      " 11  release_date          1889 non-null   object \n",
      " 12  vote_average          1889 non-null   float64\n",
      " 13  release_year          1889 non-null   int64  \n",
      " 14  profit                1889 non-null   int64  \n",
      "dtypes: float64(1), int64(5), object(9)\n",
      "memory usage: 221.5+ KB\n"
     ]
    }
   ],
   "source": [
    "answers = {} # создадим словарь для ответов\n",
    "\n",
    "# тут другие ваши предобработки колонок например:\n",
    "\n",
    "\n",
    "# Определяем основные параметры DataFrame\n",
    "data.info()\n",
    "\n",
    "\n",
    "#the time given in the dataset is in string format.\n",
    "#So we need to change this in datetime format\n",
    "# ..."
   ]
  },
  {
   "cell_type": "markdown",
   "metadata": {},
   "source": [
    "Создадим колонку profit (прибыль)"
   ]
  },
  {
   "cell_type": "code",
   "execution_count": 186,
   "metadata": {},
   "outputs": [],
   "source": [
    "data['profit'] = data.revenue - data.budget"
   ]
  },
  {
   "cell_type": "markdown",
   "metadata": {
    "colab_type": "text",
    "id": "YxZaH-nPVp-L"
   },
   "source": [
    "# 1. У какого фильма из списка самый большой бюджет?"
   ]
  },
  {
   "cell_type": "markdown",
   "metadata": {
    "colab_type": "text",
    "id": "Nd-G5gX6Vp-M"
   },
   "source": [
    "Использовать варианты ответов в коде решения запрещено.    \n",
    "Вы думаете и в жизни у вас будут варианты ответов?)"
   ]
  },
  {
   "cell_type": "code",
   "execution_count": 187,
   "metadata": {
    "colab": {},
    "colab_type": "code",
    "id": "uVnXAY5RVp-O"
   },
   "outputs": [],
   "source": [
    "# в словарь вставляем номер вопроса и ваш ответ на него\n",
    "# Пример: \n",
    "answers['1'] = '2. Spider-Man 3 (tt0413300)'\n",
    "# запишите свой вариант ответа\n",
    "answers['1'] = 'Pirates of the Caribbean: On Stranger Tide (tt1298650)'\n",
    "# если ответили верно, можете добавить комментарий со значком \"+\""
   ]
  },
  {
   "cell_type": "code",
   "execution_count": 188,
   "metadata": {
    "colab": {},
    "colab_type": "code",
    "id": "dZwb3m28Vp-S"
   },
   "outputs": [
    {
     "data": {
      "text/html": [
       "<div>\n",
       "<style scoped>\n",
       "    .dataframe tbody tr th:only-of-type {\n",
       "        vertical-align: middle;\n",
       "    }\n",
       "\n",
       "    .dataframe tbody tr th {\n",
       "        vertical-align: top;\n",
       "    }\n",
       "\n",
       "    .dataframe thead th {\n",
       "        text-align: right;\n",
       "    }\n",
       "</style>\n",
       "<table border=\"1\" class=\"dataframe\">\n",
       "  <thead>\n",
       "    <tr style=\"text-align: right;\">\n",
       "      <th></th>\n",
       "      <th>imdb_id</th>\n",
       "      <th>budget</th>\n",
       "      <th>revenue</th>\n",
       "      <th>original_title</th>\n",
       "      <th>cast</th>\n",
       "      <th>director</th>\n",
       "      <th>tagline</th>\n",
       "      <th>overview</th>\n",
       "      <th>runtime</th>\n",
       "      <th>genres</th>\n",
       "      <th>production_companies</th>\n",
       "      <th>release_date</th>\n",
       "      <th>vote_average</th>\n",
       "      <th>release_year</th>\n",
       "      <th>profit</th>\n",
       "    </tr>\n",
       "  </thead>\n",
       "  <tbody>\n",
       "    <tr>\n",
       "      <th>723</th>\n",
       "      <td>tt1298650</td>\n",
       "      <td>380000000</td>\n",
       "      <td>1021683000</td>\n",
       "      <td>Pirates of the Caribbean: On Stranger Tides</td>\n",
       "      <td>Johnny Depp|PenÃ©lope Cruz|Geoffrey Rush|Ian M...</td>\n",
       "      <td>Rob Marshall</td>\n",
       "      <td>Live Forever Or Die Trying.</td>\n",
       "      <td>Captain Jack Sparrow crosses paths with a woma...</td>\n",
       "      <td>136</td>\n",
       "      <td>Adventure|Action|Fantasy</td>\n",
       "      <td>Walt Disney Pictures|Jerry Bruckheimer Films|M...</td>\n",
       "      <td>5/11/2011</td>\n",
       "      <td>6.3</td>\n",
       "      <td>2011</td>\n",
       "      <td>641683000</td>\n",
       "    </tr>\n",
       "  </tbody>\n",
       "</table>\n",
       "</div>"
      ],
      "text/plain": [
       "       imdb_id     budget     revenue  \\\n",
       "723  tt1298650  380000000  1021683000   \n",
       "\n",
       "                                  original_title  \\\n",
       "723  Pirates of the Caribbean: On Stranger Tides   \n",
       "\n",
       "                                                  cast      director  \\\n",
       "723  Johnny Depp|PenÃ©lope Cruz|Geoffrey Rush|Ian M...  Rob Marshall   \n",
       "\n",
       "                         tagline  \\\n",
       "723  Live Forever Or Die Trying.   \n",
       "\n",
       "                                              overview  runtime  \\\n",
       "723  Captain Jack Sparrow crosses paths with a woma...      136   \n",
       "\n",
       "                       genres  \\\n",
       "723  Adventure|Action|Fantasy   \n",
       "\n",
       "                                  production_companies release_date  \\\n",
       "723  Walt Disney Pictures|Jerry Bruckheimer Films|M...    5/11/2011   \n",
       "\n",
       "     vote_average  release_year     profit  \n",
       "723           6.3          2011  641683000  "
      ]
     },
     "execution_count": 188,
     "metadata": {},
     "output_type": "execute_result"
    }
   ],
   "source": [
    "# тут пишем ваш код для решения данного вопроса:\n",
    "data[data.budget == data.budget.max()]"
   ]
  },
  {
   "cell_type": "markdown",
   "metadata": {
    "colab_type": "text",
    "id": "K7L3nbRXVp-X"
   },
   "source": [
    "ВАРИАНТ 2"
   ]
  },
  {
   "cell_type": "code",
   "execution_count": 0,
   "metadata": {
    "colab": {},
    "colab_type": "code",
    "id": "OGaoQI7rVp-X"
   },
   "outputs": [],
   "source": [
    "# можно добавлять разные варианты решения"
   ]
  },
  {
   "cell_type": "markdown",
   "metadata": {
    "colab_type": "text",
    "id": "FNRbbI3vVp-c"
   },
   "source": [
    "# 2. Какой из фильмов самый длительный (в минутах)?"
   ]
  },
  {
   "cell_type": "code",
   "execution_count": 189,
   "metadata": {
    "colab": {},
    "colab_type": "code",
    "id": "vHAoEXNTVp-d"
   },
   "outputs": [],
   "source": [
    "# думаю логику работы с этим словарем вы уже поняли, \n",
    "# по этому не буду больше его дублировать\n",
    "answers['2'] = 'Gods and Generals (tt0279111)'"
   ]
  },
  {
   "cell_type": "code",
   "execution_count": 190,
   "metadata": {
    "colab": {},
    "colab_type": "code",
    "id": "ot-VX2XrVp-g"
   },
   "outputs": [
    {
     "data": {
      "text/html": [
       "<div>\n",
       "<style scoped>\n",
       "    .dataframe tbody tr th:only-of-type {\n",
       "        vertical-align: middle;\n",
       "    }\n",
       "\n",
       "    .dataframe tbody tr th {\n",
       "        vertical-align: top;\n",
       "    }\n",
       "\n",
       "    .dataframe thead th {\n",
       "        text-align: right;\n",
       "    }\n",
       "</style>\n",
       "<table border=\"1\" class=\"dataframe\">\n",
       "  <thead>\n",
       "    <tr style=\"text-align: right;\">\n",
       "      <th></th>\n",
       "      <th>imdb_id</th>\n",
       "      <th>budget</th>\n",
       "      <th>revenue</th>\n",
       "      <th>original_title</th>\n",
       "      <th>cast</th>\n",
       "      <th>director</th>\n",
       "      <th>tagline</th>\n",
       "      <th>overview</th>\n",
       "      <th>runtime</th>\n",
       "      <th>genres</th>\n",
       "      <th>production_companies</th>\n",
       "      <th>release_date</th>\n",
       "      <th>vote_average</th>\n",
       "      <th>release_year</th>\n",
       "      <th>profit</th>\n",
       "    </tr>\n",
       "  </thead>\n",
       "  <tbody>\n",
       "    <tr>\n",
       "      <th>1157</th>\n",
       "      <td>tt0279111</td>\n",
       "      <td>56000000</td>\n",
       "      <td>12923936</td>\n",
       "      <td>Gods and Generals</td>\n",
       "      <td>Stephen Lang|Jeff Daniels|Robert Duvall|Kevin ...</td>\n",
       "      <td>Ronald F. Maxwell</td>\n",
       "      <td>The nations heart was touched by...</td>\n",
       "      <td>The film centers mostly around the personal an...</td>\n",
       "      <td>214</td>\n",
       "      <td>Drama|History|War</td>\n",
       "      <td>Turner Pictures|Antietam Filmworks</td>\n",
       "      <td>2/21/2003</td>\n",
       "      <td>5.8</td>\n",
       "      <td>2003</td>\n",
       "      <td>-43076064</td>\n",
       "    </tr>\n",
       "  </tbody>\n",
       "</table>\n",
       "</div>"
      ],
      "text/plain": [
       "        imdb_id    budget   revenue     original_title  \\\n",
       "1157  tt0279111  56000000  12923936  Gods and Generals   \n",
       "\n",
       "                                                   cast           director  \\\n",
       "1157  Stephen Lang|Jeff Daniels|Robert Duvall|Kevin ...  Ronald F. Maxwell   \n",
       "\n",
       "                                  tagline  \\\n",
       "1157  The nations heart was touched by...   \n",
       "\n",
       "                                               overview  runtime  \\\n",
       "1157  The film centers mostly around the personal an...      214   \n",
       "\n",
       "                 genres                production_companies release_date  \\\n",
       "1157  Drama|History|War  Turner Pictures|Antietam Filmworks    2/21/2003   \n",
       "\n",
       "      vote_average  release_year    profit  \n",
       "1157           5.8          2003 -43076064  "
      ]
     },
     "execution_count": 190,
     "metadata": {},
     "output_type": "execute_result"
    }
   ],
   "source": [
    "data[data.runtime == data.runtime.max()]"
   ]
  },
  {
   "cell_type": "markdown",
   "metadata": {
    "colab_type": "text",
    "id": "bapLlpW8Vp-k"
   },
   "source": [
    "# 3. Какой из фильмов самый короткий (в минутах)?\n",
    "\n",
    "\n",
    "\n"
   ]
  },
  {
   "cell_type": "code",
   "execution_count": 191,
   "metadata": {},
   "outputs": [],
   "source": [
    "answers['3'] = 'Winnie the Pooh (tt1449283)'"
   ]
  },
  {
   "cell_type": "code",
   "execution_count": 192,
   "metadata": {
    "colab": {},
    "colab_type": "code",
    "id": "YBxaSHuAVp-l"
   },
   "outputs": [
    {
     "data": {
      "text/html": [
       "<div>\n",
       "<style scoped>\n",
       "    .dataframe tbody tr th:only-of-type {\n",
       "        vertical-align: middle;\n",
       "    }\n",
       "\n",
       "    .dataframe tbody tr th {\n",
       "        vertical-align: top;\n",
       "    }\n",
       "\n",
       "    .dataframe thead th {\n",
       "        text-align: right;\n",
       "    }\n",
       "</style>\n",
       "<table border=\"1\" class=\"dataframe\">\n",
       "  <thead>\n",
       "    <tr style=\"text-align: right;\">\n",
       "      <th></th>\n",
       "      <th>imdb_id</th>\n",
       "      <th>budget</th>\n",
       "      <th>revenue</th>\n",
       "      <th>original_title</th>\n",
       "      <th>cast</th>\n",
       "      <th>director</th>\n",
       "      <th>tagline</th>\n",
       "      <th>overview</th>\n",
       "      <th>runtime</th>\n",
       "      <th>genres</th>\n",
       "      <th>production_companies</th>\n",
       "      <th>release_date</th>\n",
       "      <th>vote_average</th>\n",
       "      <th>release_year</th>\n",
       "      <th>profit</th>\n",
       "    </tr>\n",
       "  </thead>\n",
       "  <tbody>\n",
       "    <tr>\n",
       "      <th>768</th>\n",
       "      <td>tt1449283</td>\n",
       "      <td>30000000</td>\n",
       "      <td>14460000</td>\n",
       "      <td>Winnie the Pooh</td>\n",
       "      <td>Jim Cummings|Travis Oates|Jim Cummings|Bud Luc...</td>\n",
       "      <td>Stephen Anderson|Don Hall</td>\n",
       "      <td>Oh Pooh.</td>\n",
       "      <td>During an ordinary day in Hundred Acre Wood, W...</td>\n",
       "      <td>63</td>\n",
       "      <td>Animation|Family</td>\n",
       "      <td>Walt Disney Pictures|Walt Disney Animation Stu...</td>\n",
       "      <td>4/13/2011</td>\n",
       "      <td>6.8</td>\n",
       "      <td>2011</td>\n",
       "      <td>-15540000</td>\n",
       "    </tr>\n",
       "  </tbody>\n",
       "</table>\n",
       "</div>"
      ],
      "text/plain": [
       "       imdb_id    budget   revenue   original_title  \\\n",
       "768  tt1449283  30000000  14460000  Winnie the Pooh   \n",
       "\n",
       "                                                  cast  \\\n",
       "768  Jim Cummings|Travis Oates|Jim Cummings|Bud Luc...   \n",
       "\n",
       "                      director   tagline  \\\n",
       "768  Stephen Anderson|Don Hall  Oh Pooh.   \n",
       "\n",
       "                                              overview  runtime  \\\n",
       "768  During an ordinary day in Hundred Acre Wood, W...       63   \n",
       "\n",
       "               genres                               production_companies  \\\n",
       "768  Animation|Family  Walt Disney Pictures|Walt Disney Animation Stu...   \n",
       "\n",
       "    release_date  vote_average  release_year    profit  \n",
       "768    4/13/2011           6.8          2011 -15540000  "
      ]
     },
     "execution_count": 192,
     "metadata": {},
     "output_type": "execute_result"
    }
   ],
   "source": [
    "data[data.runtime == data.runtime.min()]"
   ]
  },
  {
   "cell_type": "markdown",
   "metadata": {
    "colab_type": "text",
    "id": "TfQbxbfNVp-p"
   },
   "source": [
    "# 4. Какова средняя длительность фильмов?\n"
   ]
  },
  {
   "cell_type": "code",
   "execution_count": 193,
   "metadata": {
    "colab": {},
    "colab_type": "code",
    "id": "5K6dKZYVVp-q"
   },
   "outputs": [],
   "source": [
    "answers['4'] = '110'"
   ]
  },
  {
   "cell_type": "code",
   "execution_count": 194,
   "metadata": {},
   "outputs": [
    {
     "data": {
      "text/plain": [
       "110"
      ]
     },
     "execution_count": 194,
     "metadata": {},
     "output_type": "execute_result"
    }
   ],
   "source": [
    "round(data.runtime.mean())"
   ]
  },
  {
   "cell_type": "markdown",
   "metadata": {
    "colab_type": "text",
    "id": "r5TvbnT_Vp-u"
   },
   "source": [
    "# 5. Каково медианное значение длительности фильмов? "
   ]
  },
  {
   "cell_type": "code",
   "execution_count": 195,
   "metadata": {},
   "outputs": [],
   "source": [
    "answers['5'] = '107.0'"
   ]
  },
  {
   "cell_type": "code",
   "execution_count": 196,
   "metadata": {
    "colab": {},
    "colab_type": "code",
    "id": "iBROplKnVp-v"
   },
   "outputs": [
    {
     "data": {
      "text/plain": [
       "107.0"
      ]
     },
     "execution_count": 196,
     "metadata": {},
     "output_type": "execute_result"
    }
   ],
   "source": [
    "data.runtime.median()"
   ]
  },
  {
   "cell_type": "markdown",
   "metadata": {
    "colab_type": "text",
    "id": "39P-deDSVp-y"
   },
   "source": [
    "# 6. Какой самый прибыльный фильм?\n",
    "#### Внимание! Здесь и далее под «прибылью» или «убытками» понимается разность между сборами и бюджетом фильма. (прибыль = сборы - бюджет) в нашем датасете это будет (profit = revenue - budget) "
   ]
  },
  {
   "cell_type": "code",
   "execution_count": 197,
   "metadata": {},
   "outputs": [],
   "source": [
    "answers['6'] = 'Avatar (tt0499549)'"
   ]
  },
  {
   "cell_type": "code",
   "execution_count": 198,
   "metadata": {
    "colab": {},
    "colab_type": "code",
    "id": "UYZh4T9WVp-y"
   },
   "outputs": [
    {
     "data": {
      "text/html": [
       "<div>\n",
       "<style scoped>\n",
       "    .dataframe tbody tr th:only-of-type {\n",
       "        vertical-align: middle;\n",
       "    }\n",
       "\n",
       "    .dataframe tbody tr th {\n",
       "        vertical-align: top;\n",
       "    }\n",
       "\n",
       "    .dataframe thead th {\n",
       "        text-align: right;\n",
       "    }\n",
       "</style>\n",
       "<table border=\"1\" class=\"dataframe\">\n",
       "  <thead>\n",
       "    <tr style=\"text-align: right;\">\n",
       "      <th></th>\n",
       "      <th>imdb_id</th>\n",
       "      <th>budget</th>\n",
       "      <th>revenue</th>\n",
       "      <th>original_title</th>\n",
       "      <th>cast</th>\n",
       "      <th>director</th>\n",
       "      <th>tagline</th>\n",
       "      <th>overview</th>\n",
       "      <th>runtime</th>\n",
       "      <th>genres</th>\n",
       "      <th>production_companies</th>\n",
       "      <th>release_date</th>\n",
       "      <th>vote_average</th>\n",
       "      <th>release_year</th>\n",
       "      <th>profit</th>\n",
       "    </tr>\n",
       "  </thead>\n",
       "  <tbody>\n",
       "    <tr>\n",
       "      <th>239</th>\n",
       "      <td>tt0499549</td>\n",
       "      <td>237000000</td>\n",
       "      <td>2781505847</td>\n",
       "      <td>Avatar</td>\n",
       "      <td>Sam Worthington|Zoe Saldana|Sigourney Weaver|S...</td>\n",
       "      <td>James Cameron</td>\n",
       "      <td>Enter the World of Pandora.</td>\n",
       "      <td>In the 22nd century, a paraplegic Marine is di...</td>\n",
       "      <td>162</td>\n",
       "      <td>Action|Adventure|Fantasy|Science Fiction</td>\n",
       "      <td>Ingenious Film Partners|Twentieth Century Fox ...</td>\n",
       "      <td>12/10/2009</td>\n",
       "      <td>7.1</td>\n",
       "      <td>2009</td>\n",
       "      <td>2544505847</td>\n",
       "    </tr>\n",
       "  </tbody>\n",
       "</table>\n",
       "</div>"
      ],
      "text/plain": [
       "       imdb_id     budget     revenue original_title  \\\n",
       "239  tt0499549  237000000  2781505847         Avatar   \n",
       "\n",
       "                                                  cast       director  \\\n",
       "239  Sam Worthington|Zoe Saldana|Sigourney Weaver|S...  James Cameron   \n",
       "\n",
       "                         tagline  \\\n",
       "239  Enter the World of Pandora.   \n",
       "\n",
       "                                              overview  runtime  \\\n",
       "239  In the 22nd century, a paraplegic Marine is di...      162   \n",
       "\n",
       "                                       genres  \\\n",
       "239  Action|Adventure|Fantasy|Science Fiction   \n",
       "\n",
       "                                  production_companies release_date  \\\n",
       "239  Ingenious Film Partners|Twentieth Century Fox ...   12/10/2009   \n",
       "\n",
       "     vote_average  release_year      profit  \n",
       "239           7.1          2009  2544505847  "
      ]
     },
     "execution_count": 198,
     "metadata": {},
     "output_type": "execute_result"
    }
   ],
   "source": [
    "# лучше код получения столбца profit вынести в Предобработку что в начале\n",
    "data[data.profit == data.profit.max()]"
   ]
  },
  {
   "cell_type": "markdown",
   "metadata": {
    "colab_type": "text",
    "id": "M99JmIX4Vp-2"
   },
   "source": [
    "# 7. Какой фильм самый убыточный? "
   ]
  },
  {
   "cell_type": "code",
   "execution_count": 199,
   "metadata": {},
   "outputs": [],
   "source": [
    "answers['7'] = 'The Lone Ranger (tt1210819)'"
   ]
  },
  {
   "cell_type": "code",
   "execution_count": 200,
   "metadata": {
    "colab": {},
    "colab_type": "code",
    "id": "w-D2m4XPVp-3"
   },
   "outputs": [
    {
     "data": {
      "text/html": [
       "<div>\n",
       "<style scoped>\n",
       "    .dataframe tbody tr th:only-of-type {\n",
       "        vertical-align: middle;\n",
       "    }\n",
       "\n",
       "    .dataframe tbody tr th {\n",
       "        vertical-align: top;\n",
       "    }\n",
       "\n",
       "    .dataframe thead th {\n",
       "        text-align: right;\n",
       "    }\n",
       "</style>\n",
       "<table border=\"1\" class=\"dataframe\">\n",
       "  <thead>\n",
       "    <tr style=\"text-align: right;\">\n",
       "      <th></th>\n",
       "      <th>imdb_id</th>\n",
       "      <th>budget</th>\n",
       "      <th>revenue</th>\n",
       "      <th>original_title</th>\n",
       "      <th>cast</th>\n",
       "      <th>director</th>\n",
       "      <th>tagline</th>\n",
       "      <th>overview</th>\n",
       "      <th>runtime</th>\n",
       "      <th>genres</th>\n",
       "      <th>production_companies</th>\n",
       "      <th>release_date</th>\n",
       "      <th>vote_average</th>\n",
       "      <th>release_year</th>\n",
       "      <th>profit</th>\n",
       "    </tr>\n",
       "  </thead>\n",
       "  <tbody>\n",
       "    <tr>\n",
       "      <th>1245</th>\n",
       "      <td>tt1210819</td>\n",
       "      <td>255000000</td>\n",
       "      <td>89289910</td>\n",
       "      <td>The Lone Ranger</td>\n",
       "      <td>Johnny Depp|Armie Hammer|William Fichtner|Hele...</td>\n",
       "      <td>Gore Verbinski</td>\n",
       "      <td>Never Take Off the Mask</td>\n",
       "      <td>The Texas Rangers chase down a gang of outlaws...</td>\n",
       "      <td>149</td>\n",
       "      <td>Action|Adventure|Western</td>\n",
       "      <td>Walt Disney Pictures|Jerry Bruckheimer Films|I...</td>\n",
       "      <td>7/3/2013</td>\n",
       "      <td>6.0</td>\n",
       "      <td>2013</td>\n",
       "      <td>-165710090</td>\n",
       "    </tr>\n",
       "  </tbody>\n",
       "</table>\n",
       "</div>"
      ],
      "text/plain": [
       "        imdb_id     budget   revenue   original_title  \\\n",
       "1245  tt1210819  255000000  89289910  The Lone Ranger   \n",
       "\n",
       "                                                   cast        director  \\\n",
       "1245  Johnny Depp|Armie Hammer|William Fichtner|Hele...  Gore Verbinski   \n",
       "\n",
       "                      tagline  \\\n",
       "1245  Never Take Off the Mask   \n",
       "\n",
       "                                               overview  runtime  \\\n",
       "1245  The Texas Rangers chase down a gang of outlaws...      149   \n",
       "\n",
       "                        genres  \\\n",
       "1245  Action|Adventure|Western   \n",
       "\n",
       "                                   production_companies release_date  \\\n",
       "1245  Walt Disney Pictures|Jerry Bruckheimer Films|I...     7/3/2013   \n",
       "\n",
       "      vote_average  release_year     profit  \n",
       "1245           6.0          2013 -165710090  "
      ]
     },
     "execution_count": 200,
     "metadata": {},
     "output_type": "execute_result"
    }
   ],
   "source": [
    "data[data.profit == data.profit.min()]"
   ]
  },
  {
   "cell_type": "markdown",
   "metadata": {
    "colab_type": "text",
    "id": "wEOM5ERVVp-6"
   },
   "source": [
    "# 8. У скольких фильмов из датасета объем сборов оказался выше бюджета?"
   ]
  },
  {
   "cell_type": "code",
   "execution_count": 201,
   "metadata": {},
   "outputs": [],
   "source": [
    "answers['8'] = '1478'"
   ]
  },
  {
   "cell_type": "code",
   "execution_count": 202,
   "metadata": {
    "colab": {},
    "colab_type": "code",
    "id": "y00_7HD6Vp-7"
   },
   "outputs": [
    {
     "data": {
      "text/plain": [
       "1478"
      ]
     },
     "execution_count": 202,
     "metadata": {},
     "output_type": "execute_result"
    }
   ],
   "source": [
    "len(data[data.revenue > data.budget])"
   ]
  },
  {
   "cell_type": "markdown",
   "metadata": {
    "colab_type": "text",
    "id": "xhpspA9KVp_A"
   },
   "source": [
    "# 9. Какой фильм оказался самым кассовым в 2008 году?"
   ]
  },
  {
   "cell_type": "code",
   "execution_count": 203,
   "metadata": {
    "colab": {},
    "colab_type": "code",
    "id": "MoUyQr9RVp_B"
   },
   "outputs": [],
   "source": [
    "answers['9'] = 'The Dark Knight (tt0468569)'"
   ]
  },
  {
   "cell_type": "code",
   "execution_count": 204,
   "metadata": {},
   "outputs": [
    {
     "data": {
      "text/html": [
       "<div>\n",
       "<style scoped>\n",
       "    .dataframe tbody tr th:only-of-type {\n",
       "        vertical-align: middle;\n",
       "    }\n",
       "\n",
       "    .dataframe tbody tr th {\n",
       "        vertical-align: top;\n",
       "    }\n",
       "\n",
       "    .dataframe thead th {\n",
       "        text-align: right;\n",
       "    }\n",
       "</style>\n",
       "<table border=\"1\" class=\"dataframe\">\n",
       "  <thead>\n",
       "    <tr style=\"text-align: right;\">\n",
       "      <th></th>\n",
       "      <th>imdb_id</th>\n",
       "      <th>budget</th>\n",
       "      <th>revenue</th>\n",
       "      <th>original_title</th>\n",
       "      <th>cast</th>\n",
       "      <th>director</th>\n",
       "      <th>tagline</th>\n",
       "      <th>overview</th>\n",
       "      <th>runtime</th>\n",
       "      <th>genres</th>\n",
       "      <th>production_companies</th>\n",
       "      <th>release_date</th>\n",
       "      <th>vote_average</th>\n",
       "      <th>release_year</th>\n",
       "      <th>profit</th>\n",
       "    </tr>\n",
       "  </thead>\n",
       "  <tbody>\n",
       "    <tr>\n",
       "      <th>599</th>\n",
       "      <td>tt0468569</td>\n",
       "      <td>185000000</td>\n",
       "      <td>1001921825</td>\n",
       "      <td>The Dark Knight</td>\n",
       "      <td>Christian Bale|Michael Caine|Heath Ledger|Aaro...</td>\n",
       "      <td>Christopher Nolan</td>\n",
       "      <td>Why So Serious?</td>\n",
       "      <td>Batman raises the stakes in his war on crime. ...</td>\n",
       "      <td>152</td>\n",
       "      <td>Drama|Action|Crime|Thriller</td>\n",
       "      <td>DC Comics|Legendary Pictures|Warner Bros.|Syncopy</td>\n",
       "      <td>7/16/2008</td>\n",
       "      <td>8.1</td>\n",
       "      <td>2008</td>\n",
       "      <td>816921825</td>\n",
       "    </tr>\n",
       "  </tbody>\n",
       "</table>\n",
       "</div>"
      ],
      "text/plain": [
       "       imdb_id     budget     revenue   original_title  \\\n",
       "599  tt0468569  185000000  1001921825  The Dark Knight   \n",
       "\n",
       "                                                  cast           director  \\\n",
       "599  Christian Bale|Michael Caine|Heath Ledger|Aaro...  Christopher Nolan   \n",
       "\n",
       "             tagline                                           overview  \\\n",
       "599  Why So Serious?  Batman raises the stakes in his war on crime. ...   \n",
       "\n",
       "     runtime                       genres  \\\n",
       "599      152  Drama|Action|Crime|Thriller   \n",
       "\n",
       "                                  production_companies release_date  \\\n",
       "599  DC Comics|Legendary Pictures|Warner Bros.|Syncopy    7/16/2008   \n",
       "\n",
       "     vote_average  release_year     profit  \n",
       "599           8.1          2008  816921825  "
      ]
     },
     "execution_count": 204,
     "metadata": {},
     "output_type": "execute_result"
    }
   ],
   "source": [
    "tmp = data[data.release_year == 2008] # создаем временный DataFrame с фильмами 2008 г.\n",
    "tmp[tmp.revenue == tmp.revenue.max()] "
   ]
  },
  {
   "cell_type": "markdown",
   "metadata": {
    "colab_type": "text",
    "id": "Zi4hDKidVp_F"
   },
   "source": [
    "# 10. Самый убыточный фильм за период с 2012 по 2014 г. (включительно)?\n"
   ]
  },
  {
   "cell_type": "code",
   "execution_count": 205,
   "metadata": {},
   "outputs": [],
   "source": [
    "answers['10'] = 'The Lone Ranger (tt1210819)'"
   ]
  },
  {
   "cell_type": "code",
   "execution_count": 206,
   "metadata": {
    "colab": {},
    "colab_type": "code",
    "id": "XqyRmufJVp_F"
   },
   "outputs": [
    {
     "data": {
      "text/html": [
       "<div>\n",
       "<style scoped>\n",
       "    .dataframe tbody tr th:only-of-type {\n",
       "        vertical-align: middle;\n",
       "    }\n",
       "\n",
       "    .dataframe tbody tr th {\n",
       "        vertical-align: top;\n",
       "    }\n",
       "\n",
       "    .dataframe thead th {\n",
       "        text-align: right;\n",
       "    }\n",
       "</style>\n",
       "<table border=\"1\" class=\"dataframe\">\n",
       "  <thead>\n",
       "    <tr style=\"text-align: right;\">\n",
       "      <th></th>\n",
       "      <th>imdb_id</th>\n",
       "      <th>budget</th>\n",
       "      <th>revenue</th>\n",
       "      <th>original_title</th>\n",
       "      <th>cast</th>\n",
       "      <th>director</th>\n",
       "      <th>tagline</th>\n",
       "      <th>overview</th>\n",
       "      <th>runtime</th>\n",
       "      <th>genres</th>\n",
       "      <th>production_companies</th>\n",
       "      <th>release_date</th>\n",
       "      <th>vote_average</th>\n",
       "      <th>release_year</th>\n",
       "      <th>profit</th>\n",
       "    </tr>\n",
       "  </thead>\n",
       "  <tbody>\n",
       "    <tr>\n",
       "      <th>1245</th>\n",
       "      <td>tt1210819</td>\n",
       "      <td>255000000</td>\n",
       "      <td>89289910</td>\n",
       "      <td>The Lone Ranger</td>\n",
       "      <td>Johnny Depp|Armie Hammer|William Fichtner|Hele...</td>\n",
       "      <td>Gore Verbinski</td>\n",
       "      <td>Never Take Off the Mask</td>\n",
       "      <td>The Texas Rangers chase down a gang of outlaws...</td>\n",
       "      <td>149</td>\n",
       "      <td>Action|Adventure|Western</td>\n",
       "      <td>Walt Disney Pictures|Jerry Bruckheimer Films|I...</td>\n",
       "      <td>7/3/2013</td>\n",
       "      <td>6.0</td>\n",
       "      <td>2013</td>\n",
       "      <td>-165710090</td>\n",
       "    </tr>\n",
       "  </tbody>\n",
       "</table>\n",
       "</div>"
      ],
      "text/plain": [
       "        imdb_id     budget   revenue   original_title  \\\n",
       "1245  tt1210819  255000000  89289910  The Lone Ranger   \n",
       "\n",
       "                                                   cast        director  \\\n",
       "1245  Johnny Depp|Armie Hammer|William Fichtner|Hele...  Gore Verbinski   \n",
       "\n",
       "                      tagline  \\\n",
       "1245  Never Take Off the Mask   \n",
       "\n",
       "                                               overview  runtime  \\\n",
       "1245  The Texas Rangers chase down a gang of outlaws...      149   \n",
       "\n",
       "                        genres  \\\n",
       "1245  Action|Adventure|Western   \n",
       "\n",
       "                                   production_companies release_date  \\\n",
       "1245  Walt Disney Pictures|Jerry Bruckheimer Films|I...     7/3/2013   \n",
       "\n",
       "      vote_average  release_year     profit  \n",
       "1245           6.0          2013 -165710090  "
      ]
     },
     "execution_count": 206,
     "metadata": {},
     "output_type": "execute_result"
    }
   ],
   "source": [
    "tmp = data[(data.release_year >= 2008)&(data.release_year <= 2014)] # создаем временный DataFrame с нужными годами\n",
    "tmp[tmp.profit == tmp.profit.min()] # находим наименьшую прибыль"
   ]
  },
  {
   "cell_type": "markdown",
   "metadata": {
    "colab_type": "text",
    "id": "EA7Sa9dkVp_I"
   },
   "source": [
    "# 11. Какого жанра фильмов больше всего?"
   ]
  },
  {
   "cell_type": "code",
   "execution_count": 207,
   "metadata": {},
   "outputs": [],
   "source": [
    "answers['11'] = 'Drama'"
   ]
  },
  {
   "cell_type": "code",
   "execution_count": 208,
   "metadata": {
    "colab": {},
    "colab_type": "code",
    "id": "zsJAwJ8QVp_J"
   },
   "outputs": [
    {
     "data": {
      "text/plain": [
       "NaN                4338\n",
       "Drama               782\n",
       "Comedy              683\n",
       "Thriller            596\n",
       "Action              582\n",
       "Adventure           415\n",
       "Crime               315\n",
       "Romance             308\n",
       "Family              260\n",
       "Science Fiction     248\n",
       "Fantasy             222\n",
       "Horror              176\n",
       "Mystery             168\n",
       "Animation           139\n",
       "Music                64\n",
       "History              62\n",
       "War                  58\n",
       "Western              19\n",
       "Documentary           8\n",
       "Foreign               2\n",
       "dtype: int64"
      ]
     },
     "execution_count": 208,
     "metadata": {},
     "output_type": "execute_result"
    }
   ],
   "source": [
    "# эту задачу тоже можно решать разными подходами, попробуй реализовать разные варианты\n",
    "# если будешь добавлять функцию - выноси ее в предобработку что в начале\n",
    "\n",
    "# Создаем Series с развернутым списком и колличеством элементов, сортируем его\n",
    "pd.Series(Counter(pd.DataFrame(data['genres'].str.split('|', expand=True)).values.ravel())).sort_values(ascending=False)"
   ]
  },
  {
   "cell_type": "markdown",
   "metadata": {
    "colab_type": "text",
    "id": "Ax6g2C8SVp_M"
   },
   "source": [
    "ВАРИАНТ 2"
   ]
  },
  {
   "cell_type": "code",
   "execution_count": 0,
   "metadata": {
    "colab": {},
    "colab_type": "code",
    "id": "otO3SbrSVp_N"
   },
   "outputs": [],
   "source": []
  },
  {
   "cell_type": "markdown",
   "metadata": {
    "colab_type": "text",
    "id": "T9_bPWpkVp_Q"
   },
   "source": [
    "# 12. Фильмы какого жанра чаще всего становятся прибыльными? "
   ]
  },
  {
   "cell_type": "code",
   "execution_count": 209,
   "metadata": {},
   "outputs": [],
   "source": [
    "answers['12'] = 'Drama'"
   ]
  },
  {
   "cell_type": "code",
   "execution_count": 210,
   "metadata": {},
   "outputs": [
    {
     "data": {
      "text/plain": [
       "NaN                3428\n",
       "Drama               560\n",
       "Comedy              551\n",
       "Thriller            446\n",
       "Action              444\n",
       "Adventure           337\n",
       "Romance             242\n",
       "Crime               231\n",
       "Family              226\n",
       "Science Fiction     195\n",
       "Fantasy             188\n",
       "Horror              150\n",
       "Animation           120\n",
       "Mystery             119\n",
       "Music                47\n",
       "History              46\n",
       "War                  41\n",
       "Western              12\n",
       "Documentary           7\n",
       "dtype: int64"
      ]
     },
     "execution_count": 210,
     "metadata": {},
     "output_type": "execute_result"
    }
   ],
   "source": [
    "# создаем временный DataFrame из фильмов с положительной прибылью\n",
    "tmp = data[data.profit > 0]\n",
    "# Создаем Series с развернутым списком и колличеством элементов, сортируем его\n",
    "pd.Series(Counter(pd.DataFrame(tmp['genres'].str.split('|', expand=True)).values.ravel())).sort_values(ascending=False)"
   ]
  },
  {
   "cell_type": "markdown",
   "metadata": {
    "colab_type": "text",
    "id": "0F23bgsDVp_U"
   },
   "source": [
    "# 13. У какого режиссера самые большие суммарные кассовые сборы?"
   ]
  },
  {
   "cell_type": "code",
   "execution_count": 211,
   "metadata": {},
   "outputs": [],
   "source": [
    "answers['13'] = 'Peter Jackson'"
   ]
  },
  {
   "cell_type": "code",
   "execution_count": 212,
   "metadata": {
    "colab": {},
    "colab_type": "code",
    "id": "K6Z3J8ygVp_X"
   },
   "outputs": [],
   "source": [
    "# Создаем список всех режесеров\n",
    "list_director = list(Counter(pd.DataFrame(data['director'].str.split('|', expand=True)).values.ravel()))"
   ]
  },
  {
   "cell_type": "code",
   "execution_count": 213,
   "metadata": {},
   "outputs": [
    {
     "data": {
      "text/plain": [
       "'Peter Jackson'"
      ]
     },
     "execution_count": 213,
     "metadata": {},
     "output_type": "execute_result"
    }
   ],
   "source": [
    "# Ищем режесера с наибольшими кассовыми сборами\n",
    "sum_profit = 0\n",
    "sum_max = 0\n",
    "Name_max = ''\n",
    "for i in list_director:\n",
    "    sum_profit = data[data.director.str.contains(str(i), na=False)].profit.sum()\n",
    "    if sum_max < sum_profit:\n",
    "        sum_max = sum_profit\n",
    "        Name_max = i\n",
    "Name_max"
   ]
  },
  {
   "cell_type": "markdown",
   "metadata": {
    "colab_type": "text",
    "id": "PsYC9FgRVp_a"
   },
   "source": [
    "# 14. Какой режисер снял больше всего фильмов в стиле Action?"
   ]
  },
  {
   "cell_type": "code",
   "execution_count": 214,
   "metadata": {
    "colab": {},
    "colab_type": "code",
    "id": "wd2M-wHeVp_b"
   },
   "outputs": [],
   "source": [
    "answers['14'] = 'Robert Rodriguez'"
   ]
  },
  {
   "cell_type": "code",
   "execution_count": 215,
   "metadata": {},
   "outputs": [
    {
     "data": {
      "text/plain": [
       "NaN                   2869\n",
       "Robert Rodriguez         9\n",
       "Paul W.S. Anderson       7\n",
       "Michael Bay              7\n",
       "Ridley Scott             6\n",
       "                      ... \n",
       "Jeff Wadlow              1\n",
       "Lexi Alexander           1\n",
       "Peter Segal              1\n",
       "Mathieu Kassovitz        1\n",
       "Des McAnuff              1\n",
       "Length: 365, dtype: int64"
      ]
     },
     "execution_count": 215,
     "metadata": {},
     "output_type": "execute_result"
    }
   ],
   "source": [
    "# создаем временный DataFrame из фильмов в жанре Action\n",
    "new_data = data[data.genres.str.contains('Action', na=False)]\n",
    "# Создаем Series с развернутым списком и колличеством элементов, сортируем его\n",
    "pd.Series(Counter(pd.DataFrame(new_data['director'].str.split('|', expand=True)).values.ravel())).sort_values(ascending=False)"
   ]
  },
  {
   "cell_type": "markdown",
   "metadata": {
    "colab_type": "text",
    "id": "PQ0KciD7Vp_f"
   },
   "source": [
    "# 15. Фильмы с каким актером принесли самые высокие кассовые сборы в 2012 году? "
   ]
  },
  {
   "cell_type": "code",
   "execution_count": 292,
   "metadata": {
    "colab": {},
    "colab_type": "code",
    "id": "aga62oeKVp_g"
   },
   "outputs": [],
   "source": [
    "answers['15'] = 'Emma Watson'"
   ]
  },
  {
   "cell_type": "code",
   "execution_count": 309,
   "metadata": {},
   "outputs": [],
   "source": [
    "# создаем временный DataFrame только с фильмами 2012г.\n",
    "data_new = data[data.release_year == 2012]"
   ]
  },
  {
   "cell_type": "code",
   "execution_count": 310,
   "metadata": {},
   "outputs": [],
   "source": [
    "# Создаем список всех актеров\n",
    "tmp = list(Counter(pd.DataFrame(data_new['cast'].str.split('|', expand=True)).values.ravel()))"
   ]
  },
  {
   "cell_type": "code",
   "execution_count": 313,
   "metadata": {},
   "outputs": [
    {
     "data": {
      "text/plain": [
       "'Emma Watson'"
      ]
     },
     "execution_count": 313,
     "metadata": {},
     "output_type": "execute_result"
    }
   ],
   "source": [
    "# Ищем актера \n",
    "sum_cast = 0\n",
    "sum_max = 0\n",
    "Name_max = ''\n",
    "for i in tmp:\n",
    "    sum_cast = data[data.cast.str.contains(str(i))].revenue.sum()\n",
    "    if sum_max < sum_cast:\n",
    "        sum_max = sum_cast\n",
    "        Name_max = i\n",
    "Name_max"
   ]
  },
  {
   "cell_type": "code",
   "execution_count": 274,
   "metadata": {},
   "outputs": [
    {
     "data": {
      "text/plain": [
       "2781505847"
      ]
     },
     "execution_count": 274,
     "metadata": {},
     "output_type": "execute_result"
    }
   ],
   "source": [
    "data.revenue.max()"
   ]
  },
  {
   "cell_type": "code",
   "execution_count": 276,
   "metadata": {},
   "outputs": [
    {
     "data": {
      "text/html": [
       "<div>\n",
       "<style scoped>\n",
       "    .dataframe tbody tr th:only-of-type {\n",
       "        vertical-align: middle;\n",
       "    }\n",
       "\n",
       "    .dataframe tbody tr th {\n",
       "        vertical-align: top;\n",
       "    }\n",
       "\n",
       "    .dataframe thead th {\n",
       "        text-align: right;\n",
       "    }\n",
       "</style>\n",
       "<table border=\"1\" class=\"dataframe\">\n",
       "  <thead>\n",
       "    <tr style=\"text-align: right;\">\n",
       "      <th></th>\n",
       "      <th>imdb_id</th>\n",
       "      <th>budget</th>\n",
       "      <th>revenue</th>\n",
       "      <th>original_title</th>\n",
       "      <th>cast</th>\n",
       "      <th>director</th>\n",
       "      <th>tagline</th>\n",
       "      <th>overview</th>\n",
       "      <th>runtime</th>\n",
       "      <th>genres</th>\n",
       "      <th>production_companies</th>\n",
       "      <th>release_date</th>\n",
       "      <th>vote_average</th>\n",
       "      <th>release_year</th>\n",
       "      <th>profit</th>\n",
       "    </tr>\n",
       "  </thead>\n",
       "  <tbody>\n",
       "    <tr>\n",
       "      <th>239</th>\n",
       "      <td>tt0499549</td>\n",
       "      <td>237000000</td>\n",
       "      <td>2781505847</td>\n",
       "      <td>Avatar</td>\n",
       "      <td>Sam Worthington|Zoe Saldana|Sigourney Weaver|S...</td>\n",
       "      <td>James Cameron</td>\n",
       "      <td>Enter the World of Pandora.</td>\n",
       "      <td>In the 22nd century, a paraplegic Marine is di...</td>\n",
       "      <td>162</td>\n",
       "      <td>Action|Adventure|Fantasy|Science Fiction</td>\n",
       "      <td>Ingenious Film Partners|Twentieth Century Fox ...</td>\n",
       "      <td>12/10/2009</td>\n",
       "      <td>7.1</td>\n",
       "      <td>2009</td>\n",
       "      <td>2544505847</td>\n",
       "    </tr>\n",
       "  </tbody>\n",
       "</table>\n",
       "</div>"
      ],
      "text/plain": [
       "       imdb_id     budget     revenue original_title  \\\n",
       "239  tt0499549  237000000  2781505847         Avatar   \n",
       "\n",
       "                                                  cast       director  \\\n",
       "239  Sam Worthington|Zoe Saldana|Sigourney Weaver|S...  James Cameron   \n",
       "\n",
       "                         tagline  \\\n",
       "239  Enter the World of Pandora.   \n",
       "\n",
       "                                              overview  runtime  \\\n",
       "239  In the 22nd century, a paraplegic Marine is di...      162   \n",
       "\n",
       "                                       genres  \\\n",
       "239  Action|Adventure|Fantasy|Science Fiction   \n",
       "\n",
       "                                  production_companies release_date  \\\n",
       "239  Ingenious Film Partners|Twentieth Century Fox ...   12/10/2009   \n",
       "\n",
       "     vote_average  release_year      profit  \n",
       "239           7.1          2009  2544505847  "
      ]
     },
     "execution_count": 276,
     "metadata": {},
     "output_type": "execute_result"
    }
   ],
   "source": [
    "data[data.revenue == 2781505847]"
   ]
  },
  {
   "cell_type": "code",
   "execution_count": 277,
   "metadata": {},
   "outputs": [
    {
     "data": {
      "text/plain": [
       "'Sam Worthington|Zoe Saldana|Sigourney Weaver|Stephen Lang|Michelle Rodriguez'"
      ]
     },
     "execution_count": 277,
     "metadata": {},
     "output_type": "execute_result"
    }
   ],
   "source": [
    "data.cast.loc[239]"
   ]
  },
  {
   "cell_type": "code",
   "execution_count": null,
   "metadata": {},
   "outputs": [],
   "source": []
  },
  {
   "cell_type": "code",
   "execution_count": null,
   "metadata": {},
   "outputs": [],
   "source": []
  },
  {
   "cell_type": "code",
   "execution_count": null,
   "metadata": {},
   "outputs": [],
   "source": []
  },
  {
   "cell_type": "code",
   "execution_count": null,
   "metadata": {},
   "outputs": [],
   "source": []
  },
  {
   "cell_type": "markdown",
   "metadata": {
    "colab_type": "text",
    "id": "mWHyyL7QVp_j"
   },
   "source": [
    "# 16. Какой актер снялся в большем количестве высокобюджетных фильмов?"
   ]
  },
  {
   "cell_type": "code",
   "execution_count": 228,
   "metadata": {
    "colab": {},
    "colab_type": "code",
    "id": "qQtmHKTFVp_k"
   },
   "outputs": [],
   "source": [
    "answers['16'] = 'Matt Damon'"
   ]
  },
  {
   "cell_type": "code",
   "execution_count": 229,
   "metadata": {},
   "outputs": [
    {
     "data": {
      "text/plain": [
       "Matt Damon           18\n",
       "Adam Sandler         17\n",
       "Angelina Jolie       16\n",
       "Samuel L. Jackson    15\n",
       "Eddie Murphy         15\n",
       "                     ..\n",
       "Cliff Robertson       1\n",
       "Carrie Coon           1\n",
       "Rip Torn              1\n",
       "Lara Flynn Boyle      1\n",
       "Piper Perabo          1\n",
       "Length: 1505, dtype: int64"
      ]
     },
     "execution_count": 229,
     "metadata": {},
     "output_type": "execute_result"
    }
   ],
   "source": [
    "# создаем временный DataFrame только с фильмами, бюджет которых выше среднего\n",
    "tmp = data[data.budget > data.budget.mean()]\n",
    "# Создаем Series с развернутым списком и колличеством элементов, сортируем его\n",
    "pd.Series(Counter(pd.DataFrame(tmp['cast'].str.split('|', expand=True)).values.ravel())).sort_values(ascending=False)"
   ]
  },
  {
   "cell_type": "markdown",
   "metadata": {
    "colab_type": "text",
    "id": "NIh6AaW5Vp_n"
   },
   "source": [
    "# 17. В фильмах какого жанра больше всего снимался Nicolas Cage? "
   ]
  },
  {
   "cell_type": "code",
   "execution_count": 230,
   "metadata": {
    "colab": {},
    "colab_type": "code",
    "id": "H74SJDIBVp_n"
   },
   "outputs": [],
   "source": [
    "answers['17'] = 'Action'"
   ]
  },
  {
   "cell_type": "code",
   "execution_count": 231,
   "metadata": {},
   "outputs": [],
   "source": [
    "# создаем временный DataFrame только с фильмами, где участвовал Nicolas Cage\n",
    "tmp = data[data.cast.str.contains('Nicolas Cage', na=False)]"
   ]
  },
  {
   "cell_type": "code",
   "execution_count": 232,
   "metadata": {},
   "outputs": [
    {
     "data": {
      "text/plain": [
       "NaN                42\n",
       "Action             17\n",
       "Thriller           15\n",
       "Drama              12\n",
       "Crime              10\n",
       "Fantasy             8\n",
       "Adventure           7\n",
       "Comedy              6\n",
       "Science Fiction     4\n",
       "Mystery             3\n",
       "Animation           3\n",
       "Family              3\n",
       "History             2\n",
       "War                 1\n",
       "Horror              1\n",
       "Romance             1\n",
       "dtype: int64"
      ]
     },
     "execution_count": 232,
     "metadata": {},
     "output_type": "execute_result"
    }
   ],
   "source": [
    "# Создаем Series с развернутым списком и колличеством элементов genres, сортируем\n",
    "pd.Series(Counter(pd.DataFrame(tmp['genres'].str.split('|', expand=True)).values.ravel())).sort_values(ascending=False)"
   ]
  },
  {
   "cell_type": "markdown",
   "metadata": {
    "colab_type": "text",
    "id": "RqOmPRfWVp_q"
   },
   "source": [
    "# 18. Самый убыточный фильм от Paramount Pictures"
   ]
  },
  {
   "cell_type": "code",
   "execution_count": 236,
   "metadata": {},
   "outputs": [],
   "source": [
    "answers['18'] = 'K-19: The Widowmaker'"
   ]
  },
  {
   "cell_type": "code",
   "execution_count": 234,
   "metadata": {
    "colab": {},
    "colab_type": "code",
    "id": "9E_B0Y96Vp_r"
   },
   "outputs": [],
   "source": [
    "# создаем временный DataFrame только с фильмами, где участвовал Paramount Pictures\n",
    "tmp = data[data.production_companies.str.contains('Paramount Pictures', na=False)]"
   ]
  },
  {
   "cell_type": "code",
   "execution_count": 235,
   "metadata": {},
   "outputs": [
    {
     "data": {
      "text/html": [
       "<div>\n",
       "<style scoped>\n",
       "    .dataframe tbody tr th:only-of-type {\n",
       "        vertical-align: middle;\n",
       "    }\n",
       "\n",
       "    .dataframe tbody tr th {\n",
       "        vertical-align: top;\n",
       "    }\n",
       "\n",
       "    .dataframe thead th {\n",
       "        text-align: right;\n",
       "    }\n",
       "</style>\n",
       "<table border=\"1\" class=\"dataframe\">\n",
       "  <thead>\n",
       "    <tr style=\"text-align: right;\">\n",
       "      <th></th>\n",
       "      <th>imdb_id</th>\n",
       "      <th>budget</th>\n",
       "      <th>revenue</th>\n",
       "      <th>original_title</th>\n",
       "      <th>cast</th>\n",
       "      <th>director</th>\n",
       "      <th>tagline</th>\n",
       "      <th>overview</th>\n",
       "      <th>runtime</th>\n",
       "      <th>genres</th>\n",
       "      <th>production_companies</th>\n",
       "      <th>release_date</th>\n",
       "      <th>vote_average</th>\n",
       "      <th>release_year</th>\n",
       "      <th>profit</th>\n",
       "    </tr>\n",
       "  </thead>\n",
       "  <tbody>\n",
       "    <tr>\n",
       "      <th>925</th>\n",
       "      <td>tt0267626</td>\n",
       "      <td>100000000</td>\n",
       "      <td>35168966</td>\n",
       "      <td>K-19: The Widowmaker</td>\n",
       "      <td>Harrison Ford|Liam Neeson|Peter Sarsgaard|Joss...</td>\n",
       "      <td>Kathryn Bigelow</td>\n",
       "      <td>Fate has found its hero.</td>\n",
       "      <td>When Russia's first nuclear submarine malfunct...</td>\n",
       "      <td>138</td>\n",
       "      <td>Thriller|Drama|History</td>\n",
       "      <td>Paramount Pictures|Intermedia Films|National G...</td>\n",
       "      <td>7/19/2002</td>\n",
       "      <td>6.0</td>\n",
       "      <td>2002</td>\n",
       "      <td>-64831034</td>\n",
       "    </tr>\n",
       "  </tbody>\n",
       "</table>\n",
       "</div>"
      ],
      "text/plain": [
       "       imdb_id     budget   revenue        original_title  \\\n",
       "925  tt0267626  100000000  35168966  K-19: The Widowmaker   \n",
       "\n",
       "                                                  cast         director  \\\n",
       "925  Harrison Ford|Liam Neeson|Peter Sarsgaard|Joss...  Kathryn Bigelow   \n",
       "\n",
       "                      tagline  \\\n",
       "925  Fate has found its hero.   \n",
       "\n",
       "                                              overview  runtime  \\\n",
       "925  When Russia's first nuclear submarine malfunct...      138   \n",
       "\n",
       "                     genres  \\\n",
       "925  Thriller|Drama|History   \n",
       "\n",
       "                                  production_companies release_date  \\\n",
       "925  Paramount Pictures|Intermedia Films|National G...    7/19/2002   \n",
       "\n",
       "     vote_average  release_year    profit  \n",
       "925           6.0          2002 -64831034  "
      ]
     },
     "execution_count": 235,
     "metadata": {},
     "output_type": "execute_result"
    }
   ],
   "source": [
    "# ищем самый самый убыточный фильм\n",
    "tmp[tmp.profit == tmp.profit.min()]"
   ]
  },
  {
   "cell_type": "markdown",
   "metadata": {
    "colab_type": "text",
    "id": "vS8Ur6ddVp_u"
   },
   "source": [
    "# 19. Какой год стал самым успешным по суммарным кассовым сборам?"
   ]
  },
  {
   "cell_type": "code",
   "execution_count": 237,
   "metadata": {},
   "outputs": [],
   "source": [
    "answers['19'] = '2015'"
   ]
  },
  {
   "cell_type": "code",
   "execution_count": 238,
   "metadata": {
    "colab": {},
    "colab_type": "code",
    "id": "Dnbt4GdIVp_v"
   },
   "outputs": [
    {
     "data": {
      "text/plain": [
       "release_year\n",
       "2000    10664099805\n",
       "2001    13017764865\n",
       "2002    14136361487\n",
       "2003    14346123312\n",
       "2004    15663430720\n",
       "2005    15309425558\n",
       "2006    14775042320\n",
       "2007    18162406801\n",
       "2008    18252781990\n",
       "2009    20261791024\n",
       "2010    21071204961\n",
       "2011    22676791872\n",
       "2012    23079001687\n",
       "2013    23213799791\n",
       "2014    23405862953\n",
       "2015    25449202382\n",
       "Name: revenue, dtype: int64"
      ]
     },
     "execution_count": 238,
     "metadata": {},
     "output_type": "execute_result"
    }
   ],
   "source": [
    "# групперуем и находим сумму\n",
    "data.groupby(['release_year'])['revenue'].sum()"
   ]
  },
  {
   "cell_type": "markdown",
   "metadata": {
    "colab_type": "text",
    "id": "JAzJh4QAVp_z"
   },
   "source": [
    "# 20. Какой самый прибыльный год для студии Warner Bros?"
   ]
  },
  {
   "cell_type": "code",
   "execution_count": 239,
   "metadata": {},
   "outputs": [],
   "source": [
    "answers['20'] = '2014'"
   ]
  },
  {
   "cell_type": "code",
   "execution_count": 240,
   "metadata": {
    "colab": {},
    "colab_type": "code",
    "id": "wgVu02DEVp_0"
   },
   "outputs": [],
   "source": [
    "# создаем временный DataFrame только с фильмами, где участвовал Warner Bros\n",
    "tmp = data[data.production_companies.str.contains('Warner Bros', na=False)]"
   ]
  },
  {
   "cell_type": "code",
   "execution_count": 241,
   "metadata": {},
   "outputs": [
    {
     "data": {
      "text/plain": [
       "release_year\n",
       "2000    1025531386\n",
       "2001    2266545668\n",
       "2002    1702709901\n",
       "2003    2745493377\n",
       "2004    2731933725\n",
       "2005    2412980298\n",
       "2006    1521170743\n",
       "2007    3183675217\n",
       "2008    3050595031\n",
       "2009    2737954136\n",
       "2010    3008712985\n",
       "2011    2845393682\n",
       "2012    1869520056\n",
       "2013    2599953400\n",
       "2014    3243064519\n",
       "2015    1691168351\n",
       "Name: revenue, dtype: int64"
      ]
     },
     "execution_count": 241,
     "metadata": {},
     "output_type": "execute_result"
    }
   ],
   "source": [
    "# групперуем и находим сумму\n",
    "tmp.groupby(['release_year'])['revenue'].sum()"
   ]
  },
  {
   "cell_type": "markdown",
   "metadata": {
    "colab_type": "text",
    "id": "8Im1S2HRVp_4"
   },
   "source": [
    "# 21. В каком месяце за все годы суммарно вышло больше всего фильмов?"
   ]
  },
  {
   "cell_type": "code",
   "execution_count": 242,
   "metadata": {
    "colab": {},
    "colab_type": "code",
    "id": "lev6TH7gVp_4"
   },
   "outputs": [],
   "source": [
    "answers['21'] = '9'"
   ]
  },
  {
   "cell_type": "code",
   "execution_count": 243,
   "metadata": {},
   "outputs": [
    {
     "data": {
      "text/plain": [
       "{1: 0, 2: 0, 3: 0, 4: 0, 5: 0, 6: 0, 7: 0, 8: 0, 9: 0, 10: 0, 11: 0, 12: 0}"
      ]
     },
     "execution_count": 243,
     "metadata": {},
     "output_type": "execute_result"
    }
   ],
   "source": [
    "# создаем словарь с номерами месяцев\n",
    "month = dict.fromkeys([1, 2, 3, 4, 5, 6, 7, 8, 9, 10, 11, 12], 0)\n",
    "month"
   ]
  },
  {
   "cell_type": "code",
   "execution_count": 244,
   "metadata": {},
   "outputs": [],
   "source": [
    "# создаем функцию фильтрации счетом\n",
    "def sum_month(x):\n",
    "    month_tmp = str(x).split('/')\n",
    "    month[int(month_tmp[0])] += 1\n",
    "    return x\n"
   ]
  },
  {
   "cell_type": "code",
   "execution_count": 245,
   "metadata": {},
   "outputs": [
    {
     "data": {
      "text/plain": [
       "0         6/9/2015\n",
       "1        5/13/2015\n",
       "2        3/18/2015\n",
       "3       12/15/2015\n",
       "4         4/1/2015\n",
       "           ...    \n",
       "1884     7/13/2000\n",
       "1885    10/27/2000\n",
       "1886     6/30/2000\n",
       "1887     2/16/2000\n",
       "1888     7/19/2000\n",
       "Name: release_date, Length: 1889, dtype: object"
      ]
     },
     "execution_count": 245,
     "metadata": {},
     "output_type": "execute_result"
    }
   ],
   "source": [
    "# применяем функцию фильтрации счетом к DataFrame\n",
    "data.release_date.apply(sum_month)"
   ]
  },
  {
   "cell_type": "code",
   "execution_count": 246,
   "metadata": {},
   "outputs": [
    {
     "data": {
      "text/plain": [
       "{1: 110,\n",
       " 2: 135,\n",
       " 3: 156,\n",
       " 4: 149,\n",
       " 5: 140,\n",
       " 6: 147,\n",
       " 7: 142,\n",
       " 8: 161,\n",
       " 9: 227,\n",
       " 10: 186,\n",
       " 11: 146,\n",
       " 12: 190}"
      ]
     },
     "execution_count": 246,
     "metadata": {},
     "output_type": "execute_result"
    }
   ],
   "source": [
    "# Смотрим результат\n",
    "month"
   ]
  },
  {
   "cell_type": "markdown",
   "metadata": {
    "colab_type": "text",
    "id": "uAJsZ_NeVp_7"
   },
   "source": [
    "# 22. Сколько суммарно вышло фильмов летом? (за июнь, июль, август)"
   ]
  },
  {
   "cell_type": "code",
   "execution_count": 247,
   "metadata": {
    "colab": {},
    "colab_type": "code",
    "id": "Aa-hEREoVp_8"
   },
   "outputs": [],
   "source": [
    "answers['22'] = '450'"
   ]
  },
  {
   "cell_type": "code",
   "execution_count": 248,
   "metadata": {},
   "outputs": [
    {
     "data": {
      "text/plain": [
       "450"
      ]
     },
     "execution_count": 248,
     "metadata": {},
     "output_type": "execute_result"
    }
   ],
   "source": [
    "# суммируем данные из предыдущего задантя\n",
    "sum_month = month[6] + month[7] + month[8]\n",
    "sum_month"
   ]
  },
  {
   "cell_type": "markdown",
   "metadata": {
    "colab_type": "text",
    "id": "G94ppOY1VqAA"
   },
   "source": [
    "# 23. Для какого режиссера зима – самое продуктивное время года? "
   ]
  },
  {
   "cell_type": "code",
   "execution_count": 289,
   "metadata": {
    "colab": {},
    "colab_type": "code",
    "id": "RhNTsamuVqAB"
   },
   "outputs": [],
   "source": [
    "answers['23'] = 'Peter Jackson'"
   ]
  },
  {
   "cell_type": "code",
   "execution_count": 286,
   "metadata": {},
   "outputs": [],
   "source": [
    "# Создаем временные DataFrame с нужными месяцами\n",
    "tmp1 = data[data.release_date.str.match('1/')]\n",
    "tmp2 = data[data.release_date.str.match('2/')]\n",
    "tmp3 = data[data.release_date.str.match('12/')]"
   ]
  },
  {
   "cell_type": "code",
   "execution_count": 287,
   "metadata": {},
   "outputs": [
    {
     "data": {
      "text/plain": [
       "['1/21/2015',\n",
       " '1/1/2015',\n",
       " '1/24/2015',\n",
       " '1/21/2015',\n",
       " '1/13/2015',\n",
       " '1/16/2015',\n",
       " '1/30/2015',\n",
       " '1/30/2015',\n",
       " '1/17/2014',\n",
       " '1/15/2014',\n",
       " '1/26/2014',\n",
       " '1/30/2014',\n",
       " '1/24/2014',\n",
       " '1/22/2014',\n",
       " '1/29/2014',\n",
       " '1/10/2014',\n",
       " '1/8/2014',\n",
       " '1/22/2009',\n",
       " '1/7/2009',\n",
       " '1/15/2009',\n",
       " '1/27/2009',\n",
       " '1/9/2009',\n",
       " '1/9/2009',\n",
       " '1/6/2009',\n",
       " '1/16/2009',\n",
       " '1/18/2009',\n",
       " '1/16/2009',\n",
       " '1/16/2009',\n",
       " '1/30/2009',\n",
       " '1/14/2010',\n",
       " '1/8/2010',\n",
       " '1/21/2010',\n",
       " '1/12/2010',\n",
       " '1/14/2010',\n",
       " '1/15/2010',\n",
       " '1/21/2010',\n",
       " '1/13/2010',\n",
       " '1/29/2010',\n",
       " '1/12/2001',\n",
       " '1/26/2001',\n",
       " '1/12/2001',\n",
       " '1/24/2001',\n",
       " '1/24/2008',\n",
       " '1/15/2008',\n",
       " '1/10/2008',\n",
       " '1/30/2008',\n",
       " '1/18/2008',\n",
       " '1/22/2008',\n",
       " '1/24/2008',\n",
       " '1/10/2011',\n",
       " '1/13/2011',\n",
       " '1/12/2011',\n",
       " '1/28/2011',\n",
       " '1/7/2011',\n",
       " '1/12/2011',\n",
       " '1/21/2011',\n",
       " '1/13/2011',\n",
       " '1/13/2011',\n",
       " '1/20/2011',\n",
       " '1/25/2002',\n",
       " '1/12/2002',\n",
       " '1/4/2002',\n",
       " '1/25/2002',\n",
       " '1/19/2012',\n",
       " '1/19/2012',\n",
       " '1/18/2012',\n",
       " '1/12/2012',\n",
       " '1/13/2012',\n",
       " '1/26/2012',\n",
       " '1/19/2012',\n",
       " '1/31/2003',\n",
       " '1/9/2003',\n",
       " '1/17/2003',\n",
       " '1/31/2013',\n",
       " '1/17/2013',\n",
       " '1/24/2013',\n",
       " '1/31/2013',\n",
       " '1/23/2013',\n",
       " '1/10/2013',\n",
       " '1/3/2013',\n",
       " '1/17/2013',\n",
       " '1/1/2013',\n",
       " '1/1/2013',\n",
       " '1/18/2013',\n",
       " '1/15/2005',\n",
       " '1/13/2005',\n",
       " '1/27/2005',\n",
       " '1/6/2005',\n",
       " '1/14/2005',\n",
       " '1/19/2005',\n",
       " '1/20/2005',\n",
       " '1/7/2005',\n",
       " '1/28/2005',\n",
       " '1/12/2006',\n",
       " '1/26/2006',\n",
       " '1/13/2006',\n",
       " '1/6/2006',\n",
       " '1/27/2006',\n",
       " '1/22/2004',\n",
       " '1/16/2004',\n",
       " '1/20/2004',\n",
       " '1/16/2004',\n",
       " '1/30/2004',\n",
       " '1/19/2007',\n",
       " '1/1/2007',\n",
       " '1/25/2007',\n",
       " '1/5/2007',\n",
       " '1/11/2007',\n",
       " '1/12/2000',\n",
       " '1/14/2000',\n",
       " '2/4/2015',\n",
       " '2/11/2015',\n",
       " '2/25/2015',\n",
       " '2/20/2015',\n",
       " '2/5/2015',\n",
       " '2/16/2015',\n",
       " '2/26/2014',\n",
       " '2/6/2014',\n",
       " '2/7/2014',\n",
       " '2/18/2014',\n",
       " '2/12/2014',\n",
       " '2/13/2014',\n",
       " '2/14/2014',\n",
       " '2/28/2014',\n",
       " '2/6/2009',\n",
       " '2/5/2009',\n",
       " '2/5/2009',\n",
       " '2/6/2009',\n",
       " '2/3/2009',\n",
       " '2/6/2009',\n",
       " '2/11/2009',\n",
       " '2/27/2009',\n",
       " '2/18/2010',\n",
       " '2/1/2010',\n",
       " '2/4/2010',\n",
       " '2/10/2010',\n",
       " '2/12/2010',\n",
       " '2/26/2010',\n",
       " '2/15/2010',\n",
       " '2/26/2010',\n",
       " '2/11/2001',\n",
       " '2/16/2001',\n",
       " '2/23/2001',\n",
       " '2/9/2001',\n",
       " '2/2/2001',\n",
       " '2/8/2001',\n",
       " '2/23/2001',\n",
       " '2/18/2008',\n",
       " '2/10/2008',\n",
       " '2/22/2008',\n",
       " '2/14/2008',\n",
       " '2/7/2008',\n",
       " '2/1/2008',\n",
       " '2/3/2008',\n",
       " '2/8/2008',\n",
       " '2/14/2008',\n",
       " '2/1/2008',\n",
       " '2/8/2008',\n",
       " '2/24/2011',\n",
       " '2/10/2011',\n",
       " '2/25/2011',\n",
       " '2/18/2011',\n",
       " '2/16/2011',\n",
       " '2/14/2011',\n",
       " '2/4/2011',\n",
       " '2/8/2011',\n",
       " '2/3/2011',\n",
       " '2/16/2011',\n",
       " '2/11/2011',\n",
       " '2/11/2011',\n",
       " '2/22/2002',\n",
       " '2/6/2002',\n",
       " '2/15/2002',\n",
       " '2/10/2002',\n",
       " '2/14/2002',\n",
       " '2/1/2002',\n",
       " '2/15/2002',\n",
       " '2/8/2002',\n",
       " '2/15/2002',\n",
       " '2/22/2002',\n",
       " '2/5/2012',\n",
       " '2/1/2012',\n",
       " '2/24/2012',\n",
       " '2/24/2012',\n",
       " '2/1/2012',\n",
       " '2/9/2012',\n",
       " '2/2/2012',\n",
       " '2/14/2003',\n",
       " '2/7/2003',\n",
       " '2/21/2003',\n",
       " '2/7/2003',\n",
       " '2/6/2003',\n",
       " '2/28/2003',\n",
       " '2/21/2003',\n",
       " '2/21/2003',\n",
       " '2/6/2013',\n",
       " '2/27/2013',\n",
       " '2/7/2013',\n",
       " '2/14/2013',\n",
       " '2/7/2013',\n",
       " '2/7/2013',\n",
       " '2/21/2013',\n",
       " '2/28/2013',\n",
       " '2/15/2005',\n",
       " '2/10/2005',\n",
       " '2/2/2005',\n",
       " '2/24/2005',\n",
       " '2/4/2005',\n",
       " '2/4/2005',\n",
       " '2/12/2005',\n",
       " '2/18/2005',\n",
       " '2/24/2006',\n",
       " '2/17/2006',\n",
       " '2/10/2006',\n",
       " '2/10/2006',\n",
       " '2/17/2006',\n",
       " '2/17/2006',\n",
       " '2/10/2006',\n",
       " '2/3/2006',\n",
       " '2/13/2004',\n",
       " '2/20/2004',\n",
       " '2/9/2004',\n",
       " '2/27/2004',\n",
       " '2/17/2004',\n",
       " '2/25/2004',\n",
       " '2/27/2004',\n",
       " '2/6/2004',\n",
       " '2/27/2004',\n",
       " '2/16/2007',\n",
       " '2/16/2007',\n",
       " '2/23/2007',\n",
       " '2/14/2007',\n",
       " '2/8/2007',\n",
       " '2/8/2007',\n",
       " '2/9/2007',\n",
       " '2/6/2007',\n",
       " '2/14/2007',\n",
       " '2/23/2007',\n",
       " '2/18/2000',\n",
       " '2/18/2000',\n",
       " '2/18/2000',\n",
       " '2/11/2000',\n",
       " '2/3/2000',\n",
       " '2/25/2000',\n",
       " '2/16/2000',\n",
       " '12/15/2015',\n",
       " '12/25/2015',\n",
       " '12/25/2015',\n",
       " '12/11/2015',\n",
       " '12/3/2015',\n",
       " '12/25/2015',\n",
       " '12/18/2015',\n",
       " '12/10/2014',\n",
       " '12/17/2014',\n",
       " '12/25/2014',\n",
       " '12/11/2014',\n",
       " '12/3/2014',\n",
       " '12/12/2014',\n",
       " '12/25/2014',\n",
       " '12/30/2014',\n",
       " '12/25/2014',\n",
       " '12/25/2014',\n",
       " '12/25/2014',\n",
       " '12/19/2014',\n",
       " '12/24/2014',\n",
       " '12/25/2014',\n",
       " '12/4/2014',\n",
       " '12/25/2014',\n",
       " '12/10/2009',\n",
       " '12/8/2009',\n",
       " '12/26/2009',\n",
       " '12/21/2009',\n",
       " '12/23/2009',\n",
       " '12/23/2009',\n",
       " '12/10/2009',\n",
       " '12/4/2009',\n",
       " '12/16/2009',\n",
       " '12/17/2009',\n",
       " '12/2/2010',\n",
       " '12/10/2010',\n",
       " '12/8/2010',\n",
       " '12/22/2010',\n",
       " '12/21/2010',\n",
       " '12/25/2010',\n",
       " '12/17/2010',\n",
       " '12/17/2010',\n",
       " '12/11/2010',\n",
       " '12/22/2010',\n",
       " '12/18/2001',\n",
       " '12/7/2001',\n",
       " '12/11/2001',\n",
       " '12/28/2001',\n",
       " '12/7/2001',\n",
       " '12/21/2001',\n",
       " '12/10/2001',\n",
       " '12/28/2001',\n",
       " '12/11/2001',\n",
       " '12/21/2001',\n",
       " '12/21/2001',\n",
       " '12/9/2008',\n",
       " '12/25/2008',\n",
       " '12/10/2008',\n",
       " '12/18/2008',\n",
       " '12/9/2008',\n",
       " '12/25/2008',\n",
       " '12/11/2008',\n",
       " '12/24/2008',\n",
       " '12/5/2008',\n",
       " '12/31/2008',\n",
       " '12/25/2008',\n",
       " '12/19/2008',\n",
       " '12/7/2011',\n",
       " '12/14/2011',\n",
       " '12/25/2011',\n",
       " '12/10/2011',\n",
       " '12/16/2011',\n",
       " '12/22/2011',\n",
       " '12/25/2011',\n",
       " '12/11/2011',\n",
       " '12/8/2011',\n",
       " '12/24/2011',\n",
       " '12/14/2011',\n",
       " '12/9/2011',\n",
       " '12/30/2011',\n",
       " '12/21/2011',\n",
       " '12/18/2002',\n",
       " '12/25/2002',\n",
       " '12/12/2002',\n",
       " '12/14/2002',\n",
       " '12/19/2002',\n",
       " '12/12/2002',\n",
       " '12/6/2002',\n",
       " '12/27/2002',\n",
       " '12/6/2002',\n",
       " '12/14/2002',\n",
       " '12/26/2002',\n",
       " '12/13/2002',\n",
       " '12/30/2002',\n",
       " '12/19/2002',\n",
       " '12/13/2002',\n",
       " '12/25/2012',\n",
       " '12/20/2012',\n",
       " '12/18/2012',\n",
       " '12/19/2012',\n",
       " '12/20/2012',\n",
       " '12/25/2012',\n",
       " '12/1/2003',\n",
       " '12/25/2003',\n",
       " '12/25/2003',\n",
       " '12/5/2003',\n",
       " '12/25/2003',\n",
       " '12/12/2003',\n",
       " '12/24/2003',\n",
       " '12/24/2003',\n",
       " '12/10/2003',\n",
       " '12/25/2013',\n",
       " '12/11/2013',\n",
       " '12/18/2013',\n",
       " '12/18/2013',\n",
       " '12/12/2013',\n",
       " '12/6/2013',\n",
       " '12/24/2013',\n",
       " '12/18/2013',\n",
       " '12/25/2013',\n",
       " '12/26/2013',\n",
       " '12/18/2013',\n",
       " '12/26/2013',\n",
       " '12/31/2013',\n",
       " '12/6/2013',\n",
       " '12/6/2013',\n",
       " '12/7/2005',\n",
       " '12/11/2005',\n",
       " '12/6/2005',\n",
       " '12/14/2005',\n",
       " '12/23/2005',\n",
       " '12/16/2005',\n",
       " '12/21/2005',\n",
       " '12/22/2005',\n",
       " '12/21/2005',\n",
       " '12/8/2006',\n",
       " '12/7/2006',\n",
       " '12/20/2006',\n",
       " '12/14/2006',\n",
       " '12/7/2006',\n",
       " '12/11/2006',\n",
       " '12/9/2006',\n",
       " '12/12/2006',\n",
       " '12/14/2006',\n",
       " '12/19/2006',\n",
       " '12/26/2006',\n",
       " '12/25/2006',\n",
       " '12/3/2006',\n",
       " '12/8/2006',\n",
       " '12/25/2006',\n",
       " '12/8/2006',\n",
       " '12/25/2006',\n",
       " '12/9/2004',\n",
       " '12/15/2004',\n",
       " '12/25/2004',\n",
       " '12/8/2004',\n",
       " '12/16/2004',\n",
       " '12/14/2004',\n",
       " '12/1/2004',\n",
       " '12/17/2004',\n",
       " '12/8/2004',\n",
       " '12/10/2004',\n",
       " '12/17/2004',\n",
       " '12/3/2004',\n",
       " '12/14/2007',\n",
       " '12/13/2007',\n",
       " '12/5/2007',\n",
       " '12/28/2007',\n",
       " '12/20/2007',\n",
       " '12/13/2007',\n",
       " '12/19/2007',\n",
       " '12/4/2007',\n",
       " '12/25/2007',\n",
       " '12/27/2007',\n",
       " '12/25/2007',\n",
       " '12/21/2007',\n",
       " '12/17/2007',\n",
       " '12/22/2000',\n",
       " '12/9/2000',\n",
       " '12/14/2000',\n",
       " '12/14/2000',\n",
       " '12/22/2000',\n",
       " '12/27/2000',\n",
       " '12/15/2000',\n",
       " '12/12/2000',\n",
       " '12/14/2000',\n",
       " '12/24/2000',\n",
       " '12/8/2000',\n",
       " '12/22/2000',\n",
       " '12/21/2000',\n",
       " '12/8/2000']"
      ]
     },
     "execution_count": 287,
     "metadata": {},
     "output_type": "execute_result"
    }
   ],
   "source": [
    "# Соединяем в один\n",
    "tmp = pd.concat([tmp1, tmp2, tmp3])\n",
    "list(tmp.release_date)"
   ]
  },
  {
   "cell_type": "code",
   "execution_count": 288,
   "metadata": {},
   "outputs": [
    {
     "data": {
      "text/plain": [
       "NaN                   4749\n",
       "Peter Jackson            7\n",
       "Steven Soderbergh        6\n",
       "Clint Eastwood           6\n",
       "Martin Scorsese          4\n",
       "                      ... \n",
       "Paul W.S. Anderson       1\n",
       "Rob Minkoff              1\n",
       "Christopher Miller       1\n",
       "Phil Lord                1\n",
       "Courtney Solomon         1\n",
       "Length: 359, dtype: int64"
      ]
     },
     "execution_count": 288,
     "metadata": {},
     "output_type": "execute_result"
    }
   ],
   "source": [
    "# Создаем Series с развернутым списком и колличеством элементов, фильтруем его\n",
    "pd.Series(Counter(pd.DataFrame(tmp['director'].str.split('|', expand=True)).values.ravel())).sort_values(ascending=False)"
   ]
  },
  {
   "cell_type": "markdown",
   "metadata": {
    "colab_type": "text",
    "id": "RBo0JVjVVqAF"
   },
   "source": [
    "# 24. Какая студия дает самые длинные названия своим фильмам по количеству символов?"
   ]
  },
  {
   "cell_type": "code",
   "execution_count": 253,
   "metadata": {},
   "outputs": [],
   "source": [
    "answers['24'] = 'Twentieth Century Fox Film Corporation|Four By Two Productions'"
   ]
  },
  {
   "cell_type": "code",
   "execution_count": 254,
   "metadata": {},
   "outputs": [],
   "source": [
    "# создаем функцию подсчета колличества символов\n",
    "def long_Name(x):\n",
    "    x = len(x)\n",
    "    return x"
   ]
  },
  {
   "cell_type": "code",
   "execution_count": 255,
   "metadata": {},
   "outputs": [
    {
     "data": {
      "text/plain": [
       "1448    83\n",
       "1314    62\n",
       "219     59\n",
       "1751    58\n",
       "385     56\n",
       "        ..\n",
       "1483     2\n",
       "714      2\n",
       "1172     2\n",
       "1282     2\n",
       "252      1\n",
       "Name: original_title, Length: 1889, dtype: int64"
      ]
     },
     "execution_count": 255,
     "metadata": {},
     "output_type": "execute_result"
    }
   ],
   "source": [
    "# применяем функцию и фильтруем результат\n",
    "data.original_title.apply(long_Name).sort_values(ascending=False)\n",
    "# второй вариант через lambda \n",
    "data.original_title.apply(lambda x:len(x)).sort_values(ascending=False)"
   ]
  },
  {
   "cell_type": "code",
   "execution_count": 256,
   "metadata": {},
   "outputs": [
    {
     "name": "stdout",
     "output_type": "stream",
     "text": [
      "Twentieth Century Fox Film Corporation|Four By Two Productions\n"
     ]
    }
   ],
   "source": [
    "# смотрим результат\n",
    "print(data.production_companies.loc[1448])"
   ]
  },
  {
   "cell_type": "markdown",
   "metadata": {
    "colab_type": "text",
    "id": "9G0hbvR7VqAK"
   },
   "source": [
    "# 25. Описание фильмов какой студии в среднем самые длинные по количеству слов?"
   ]
  },
  {
   "cell_type": "code",
   "execution_count": 280,
   "metadata": {},
   "outputs": [],
   "source": [
    "answers['25'] = 'Midnight Picture Show'"
   ]
  },
  {
   "cell_type": "code",
   "execution_count": 76,
   "metadata": {
    "colab": {},
    "colab_type": "code",
    "id": "Ge2GsLNxVqAK"
   },
   "outputs": [],
   "source": [
    "# создаем список студий\n",
    "tmp_list = list(Counter(Counter(pd.DataFrame(data['production_companies'].str.split('|', expand=True)).values.ravel())))"
   ]
  },
  {
   "cell_type": "code",
   "execution_count": 258,
   "metadata": {},
   "outputs": [
    {
     "data": {
      "text/plain": [
       "'Midnight Picture Show'"
      ]
     },
     "execution_count": 258,
     "metadata": {},
     "output_type": "execute_result"
    }
   ],
   "source": [
    "# Обьявляем переменные для определения средней длинны\n",
    "Name_companies = ''\n",
    "old_mean = 0\n",
    "new_mean = 0\n",
    "\n",
    "# поочередно создаем временные DataFrame со всеми компаниями и считаем среднюю длинну описания\n",
    "for i in tmp_list:\n",
    "    new_data = data[data.production_companies.str.contains(str(i), na=False)]\n",
    "    new_mean = new_data.overview.apply(lambda x: len(x)).mean()\n",
    "    if old_mean < new_mean:\n",
    "        old_mean = new_mean\n",
    "        Name_companies = i\n",
    "\n",
    "# Выводим имя студии\n",
    "Name_companies"
   ]
  },
  {
   "cell_type": "markdown",
   "metadata": {
    "colab_type": "text",
    "id": "FJ1AFt90VqAP"
   },
   "source": [
    "# 26. Какие фильмы входят в 1 процент лучших по рейтингу? \n",
    "по vote_average"
   ]
  },
  {
   "cell_type": "code",
   "execution_count": 259,
   "metadata": {},
   "outputs": [],
   "source": [
    "answers['26'] = 'The Dark Knight'"
   ]
  },
  {
   "cell_type": "code",
   "execution_count": 260,
   "metadata": {
    "colab": {},
    "colab_type": "code",
    "id": "8qmJVq4CVqAQ"
   },
   "outputs": [
    {
     "data": {
      "text/plain": [
       "8.1"
      ]
     },
     "execution_count": 260,
     "metadata": {},
     "output_type": "execute_result"
    }
   ],
   "source": [
    "# находим пределы 1 процента по рейтенгу\n",
    "data['vote_average'].max()"
   ]
  },
  {
   "cell_type": "code",
   "execution_count": 173,
   "metadata": {},
   "outputs": [
    {
     "data": {
      "text/html": [
       "<div>\n",
       "<style scoped>\n",
       "    .dataframe tbody tr th:only-of-type {\n",
       "        vertical-align: middle;\n",
       "    }\n",
       "\n",
       "    .dataframe tbody tr th {\n",
       "        vertical-align: top;\n",
       "    }\n",
       "\n",
       "    .dataframe thead th {\n",
       "        text-align: right;\n",
       "    }\n",
       "</style>\n",
       "<table border=\"1\" class=\"dataframe\">\n",
       "  <thead>\n",
       "    <tr style=\"text-align: right;\">\n",
       "      <th></th>\n",
       "      <th>imdb_id</th>\n",
       "      <th>budget</th>\n",
       "      <th>revenue</th>\n",
       "      <th>original_title</th>\n",
       "      <th>cast</th>\n",
       "      <th>director</th>\n",
       "      <th>tagline</th>\n",
       "      <th>overview</th>\n",
       "      <th>runtime</th>\n",
       "      <th>genres</th>\n",
       "      <th>production_companies</th>\n",
       "      <th>release_date</th>\n",
       "      <th>vote_average</th>\n",
       "      <th>release_year</th>\n",
       "      <th>profit</th>\n",
       "    </tr>\n",
       "  </thead>\n",
       "  <tbody>\n",
       "    <tr>\n",
       "      <th>9</th>\n",
       "      <td>tt2096673</td>\n",
       "      <td>175000000</td>\n",
       "      <td>853708609</td>\n",
       "      <td>Inside Out</td>\n",
       "      <td>Amy Poehler|Phyllis Smith|Richard Kind|Bill Ha...</td>\n",
       "      <td>Pete Docter</td>\n",
       "      <td>Meet the little voices inside your head.</td>\n",
       "      <td>Growing up can be a bumpy road, and it's no ex...</td>\n",
       "      <td>94</td>\n",
       "      <td>Comedy|Animation|Family</td>\n",
       "      <td>Walt Disney Pictures|Pixar Animation Studios|W...</td>\n",
       "      <td>6/9/2015</td>\n",
       "      <td>8.0</td>\n",
       "      <td>2015</td>\n",
       "      <td>678708609</td>\n",
       "    </tr>\n",
       "    <tr>\n",
       "      <th>34</th>\n",
       "      <td>tt3170832</td>\n",
       "      <td>6000000</td>\n",
       "      <td>35401758</td>\n",
       "      <td>Room</td>\n",
       "      <td>Brie Larson|Jacob Tremblay|Joan Allen|Sean Bri...</td>\n",
       "      <td>Lenny Abrahamson</td>\n",
       "      <td>Love knows no boundaries</td>\n",
       "      <td>Jack is a young boy of 5 years old who has liv...</td>\n",
       "      <td>117</td>\n",
       "      <td>Drama|Thriller</td>\n",
       "      <td>Element Pictures|No Trace Camping|A24|Duperele...</td>\n",
       "      <td>10/16/2015</td>\n",
       "      <td>8.0</td>\n",
       "      <td>2015</td>\n",
       "      <td>29401758</td>\n",
       "    </tr>\n",
       "    <tr>\n",
       "      <th>118</th>\n",
       "      <td>tt0816692</td>\n",
       "      <td>165000000</td>\n",
       "      <td>621752480</td>\n",
       "      <td>Interstellar</td>\n",
       "      <td>Matthew McConaughey|Jessica Chastain|Anne Hath...</td>\n",
       "      <td>Christopher Nolan</td>\n",
       "      <td>Mankind was born on Earth. It was never meant ...</td>\n",
       "      <td>Interstellar chronicles the adventures of a gr...</td>\n",
       "      <td>169</td>\n",
       "      <td>Adventure|Drama|Science Fiction</td>\n",
       "      <td>Paramount Pictures|Legendary Pictures|Warner B...</td>\n",
       "      <td>11/5/2014</td>\n",
       "      <td>8.0</td>\n",
       "      <td>2014</td>\n",
       "      <td>456752480</td>\n",
       "    </tr>\n",
       "    <tr>\n",
       "      <th>125</th>\n",
       "      <td>tt2084970</td>\n",
       "      <td>14000000</td>\n",
       "      <td>233555708</td>\n",
       "      <td>The Imitation Game</td>\n",
       "      <td>Benedict Cumberbatch|Keira Knightley|Matthew G...</td>\n",
       "      <td>Morten Tyldum</td>\n",
       "      <td>The true enigma was the man who cracked the code.</td>\n",
       "      <td>Based on the real life story of legendary cryp...</td>\n",
       "      <td>113</td>\n",
       "      <td>History|Drama|Thriller|War</td>\n",
       "      <td>Black Bear Pictures|Bristol Automotive</td>\n",
       "      <td>11/14/2014</td>\n",
       "      <td>8.0</td>\n",
       "      <td>2014</td>\n",
       "      <td>219555708</td>\n",
       "    </tr>\n",
       "    <tr>\n",
       "      <th>599</th>\n",
       "      <td>tt0468569</td>\n",
       "      <td>185000000</td>\n",
       "      <td>1001921825</td>\n",
       "      <td>The Dark Knight</td>\n",
       "      <td>Christian Bale|Michael Caine|Heath Ledger|Aaro...</td>\n",
       "      <td>Christopher Nolan</td>\n",
       "      <td>Why So Serious?</td>\n",
       "      <td>Batman raises the stakes in his war on crime. ...</td>\n",
       "      <td>152</td>\n",
       "      <td>Drama|Action|Crime|Thriller</td>\n",
       "      <td>DC Comics|Legendary Pictures|Warner Bros.|Syncopy</td>\n",
       "      <td>7/16/2008</td>\n",
       "      <td>8.1</td>\n",
       "      <td>2008</td>\n",
       "      <td>816921825</td>\n",
       "    </tr>\n",
       "  </tbody>\n",
       "</table>\n",
       "</div>"
      ],
      "text/plain": [
       "       imdb_id     budget     revenue      original_title  \\\n",
       "9    tt2096673  175000000   853708609          Inside Out   \n",
       "34   tt3170832    6000000    35401758                Room   \n",
       "118  tt0816692  165000000   621752480        Interstellar   \n",
       "125  tt2084970   14000000   233555708  The Imitation Game   \n",
       "599  tt0468569  185000000  1001921825     The Dark Knight   \n",
       "\n",
       "                                                  cast           director  \\\n",
       "9    Amy Poehler|Phyllis Smith|Richard Kind|Bill Ha...        Pete Docter   \n",
       "34   Brie Larson|Jacob Tremblay|Joan Allen|Sean Bri...   Lenny Abrahamson   \n",
       "118  Matthew McConaughey|Jessica Chastain|Anne Hath...  Christopher Nolan   \n",
       "125  Benedict Cumberbatch|Keira Knightley|Matthew G...      Morten Tyldum   \n",
       "599  Christian Bale|Michael Caine|Heath Ledger|Aaro...  Christopher Nolan   \n",
       "\n",
       "                                               tagline  \\\n",
       "9             Meet the little voices inside your head.   \n",
       "34                            Love knows no boundaries   \n",
       "118  Mankind was born on Earth. It was never meant ...   \n",
       "125  The true enigma was the man who cracked the code.   \n",
       "599                                    Why So Serious?   \n",
       "\n",
       "                                              overview  runtime  \\\n",
       "9    Growing up can be a bumpy road, and it's no ex...       94   \n",
       "34   Jack is a young boy of 5 years old who has liv...      117   \n",
       "118  Interstellar chronicles the adventures of a gr...      169   \n",
       "125  Based on the real life story of legendary cryp...      113   \n",
       "599  Batman raises the stakes in his war on crime. ...      152   \n",
       "\n",
       "                              genres  \\\n",
       "9            Comedy|Animation|Family   \n",
       "34                    Drama|Thriller   \n",
       "118  Adventure|Drama|Science Fiction   \n",
       "125       History|Drama|Thriller|War   \n",
       "599      Drama|Action|Crime|Thriller   \n",
       "\n",
       "                                  production_companies release_date  \\\n",
       "9    Walt Disney Pictures|Pixar Animation Studios|W...     6/9/2015   \n",
       "34   Element Pictures|No Trace Camping|A24|Duperele...   10/16/2015   \n",
       "118  Paramount Pictures|Legendary Pictures|Warner B...    11/5/2014   \n",
       "125             Black Bear Pictures|Bristol Automotive   11/14/2014   \n",
       "599  DC Comics|Legendary Pictures|Warner Bros.|Syncopy    7/16/2008   \n",
       "\n",
       "     vote_average  release_year     profit  \n",
       "9             8.0          2015  678708609  \n",
       "34            8.0          2015   29401758  \n",
       "118           8.0          2014  456752480  \n",
       "125           8.0          2014  219555708  \n",
       "599           8.1          2008  816921825  "
      ]
     },
     "execution_count": 173,
     "metadata": {},
     "output_type": "execute_result"
    }
   ],
   "source": [
    "data[data.vote_average >= 8]"
   ]
  },
  {
   "cell_type": "markdown",
   "metadata": {
    "colab_type": "text",
    "id": "MdXsUXbCVqAV"
   },
   "source": [
    "# 27. Какие актеры чаще всего снимаются в одном фильме вместе?\n"
   ]
  },
  {
   "cell_type": "code",
   "execution_count": 261,
   "metadata": {},
   "outputs": [],
   "source": [
    "answers['27'] = 'Daniel Radcliffe,Rupert Grint и Daniel Radcliffe,Emma Watson'"
   ]
  },
  {
   "cell_type": "code",
   "execution_count": 262,
   "metadata": {},
   "outputs": [],
   "source": [
    "# уменьшаем DataFrame до фильмов, где снималось более 1 актера\n",
    "data_cast = data[data.cast.str.contains('|', na=False)]"
   ]
  },
  {
   "cell_type": "code",
   "execution_count": 263,
   "metadata": {},
   "outputs": [],
   "source": [
    "# создаем список для хранения данных из DataFrame\n",
    "partners_list = []\n",
    "\n",
    "# создаем функцию обработки DataFrame\n",
    "def search_partners(x):\n",
    "    x = list(x.split('|'))\n",
    "    partners_list.append(x) \n",
    "    "
   ]
  },
  {
   "cell_type": "code",
   "execution_count": 264,
   "metadata": {
    "scrolled": true
   },
   "outputs": [
    {
     "data": {
      "text/plain": [
       "Daniel Radcliffe,Rupert Grint       8\n",
       "Daniel Radcliffe,Emma Watson        8\n",
       "Adam Sandler,Kevin James            5\n",
       "Johnny Depp,Helena Bonham Carter    5\n",
       "Ben Stiller,Owen Wilson             5\n",
       "                                   ..\n",
       "Lizzy Caplan,Mike Vogel             1\n",
       "Lizzy Caplan,Michael Stahl-David    1\n",
       "Lizzy Caplan,Odette Annable         1\n",
       "Lizzy Caplan,Jessica Lucas          1\n",
       "Susan Ward,Tess Harper              1\n",
       "Length: 7163, dtype: int64"
      ]
     },
     "execution_count": 264,
     "metadata": {},
     "output_type": "execute_result"
    }
   ],
   "source": [
    "# извлекаем данные из DataFrame\n",
    "data_cast.cast.apply(search_partners)\n",
    "\n",
    "ans_list = {}\n",
    "\n",
    "# обрабатываем получившийся массив\n",
    "for i in partners_list:\n",
    "    for j in i:\n",
    "        if j != i[0]:\n",
    "            key_list = i[0] + ',' + j\n",
    "            if key_list in ans_list:\n",
    "                ans_list[key_list] += 1\n",
    "            else:\n",
    "                ans_list[key_list] = 1\n",
    "\n",
    "# преобразуем словарь в serias и фильтруем\n",
    "pd.Series(ans_list).sort_values(ascending=False)"
   ]
  },
  {
   "cell_type": "markdown",
   "metadata": {
    "colab_type": "text",
    "id": "U0nONFnGVqAX"
   },
   "source": [
    "# Submission"
   ]
  },
  {
   "cell_type": "code",
   "execution_count": 290,
   "metadata": {
    "colab": {},
    "colab_type": "code",
    "id": "IfcaRO9-VqAX",
    "outputId": "0f132912-32bb-4196-c98c-abfbc4ad5a5f"
   },
   "outputs": [
    {
     "data": {
      "text/plain": [
       "{'1': 'Pirates of the Caribbean: On Stranger Tide (tt1298650)',\n",
       " '2': 'Gods and Generals (tt0279111)',\n",
       " '3': 'Winnie the Pooh (tt1449283)',\n",
       " '4': '110',\n",
       " '5': '107.0',\n",
       " '6': 'Avatar (tt0499549)',\n",
       " '7': 'The Lone Ranger (tt1210819)',\n",
       " '8': '1478',\n",
       " '9': 'The Dark Knight (tt0468569)',\n",
       " '10': 'The Lone Ranger (tt1210819)',\n",
       " '11': 'Drama',\n",
       " '12': 'Drama',\n",
       " '13': 'Peter Jackson',\n",
       " '14': 'Robert Rodriguez',\n",
       " '15': 'Sam Worthington|Zoe Saldana|Sigourney Weaver|Stephen Lang|Michelle Rodriguez',\n",
       " '16': 'Matt Damon',\n",
       " '17': 'Action',\n",
       " '18': 'K-19: The Widowmaker',\n",
       " '19': '2015',\n",
       " '20': '2014',\n",
       " '21': '9',\n",
       " '22': '450',\n",
       " '23': 'Peter Jackson',\n",
       " '24': 'Twentieth Century Fox Film Corporation|Four By Two Productions',\n",
       " '26': 'The Dark Knight',\n",
       " '27': 'Daniel Radcliffe,Rupert Grint и Daniel Radcliffe,Emma Watson',\n",
       " '25': 'Midnight Picture Show'}"
      ]
     },
     "execution_count": 290,
     "metadata": {},
     "output_type": "execute_result"
    }
   ],
   "source": [
    "# в конце можно посмотреть свои ответы к каждому вопросу\n",
    "answers"
   ]
  },
  {
   "cell_type": "code",
   "execution_count": 291,
   "metadata": {
    "colab": {},
    "colab_type": "code",
    "id": "SiRmHPl8VqAd"
   },
   "outputs": [
    {
     "data": {
      "text/plain": [
       "27"
      ]
     },
     "execution_count": 291,
     "metadata": {},
     "output_type": "execute_result"
    }
   ],
   "source": [
    "# и убедиться что ни чего не пропустил)\n",
    "len(answers)"
   ]
  },
  {
   "cell_type": "code",
   "execution_count": 0,
   "metadata": {
    "colab": {},
    "colab_type": "code",
    "id": "uCfuTkRbVqAg"
   },
   "outputs": [],
   "source": []
  },
  {
   "cell_type": "code",
   "execution_count": 0,
   "metadata": {
    "colab": {},
    "colab_type": "code",
    "id": "Vwx3NrkSVqAl"
   },
   "outputs": [],
   "source": []
  }
 ],
 "metadata": {
  "colab": {
   "name": "Copy of [SF-DST] Movies IMBD v4.1 TEMPLATE.ipynb",
   "provenance": []
  },
  "kernelspec": {
   "display_name": "Python 3",
   "language": "python",
   "name": "python3"
  },
  "language_info": {
   "codemirror_mode": {
    "name": "ipython",
    "version": 3
   },
   "file_extension": ".py",
   "mimetype": "text/x-python",
   "name": "python",
   "nbconvert_exporter": "python",
   "pygments_lexer": "ipython3",
   "version": "3.8.10"
  }
 },
 "nbformat": 4,
 "nbformat_minor": 1
}
