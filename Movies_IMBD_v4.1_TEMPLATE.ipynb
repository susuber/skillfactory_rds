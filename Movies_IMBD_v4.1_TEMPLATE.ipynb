{
 "cells": [
  {
   "cell_type": "code",
   "execution_count": 338,
   "metadata": {
    "_cell_guid": "b1076dfc-b9ad-4769-8c92-a6c4dae69d19",
    "_uuid": "8f2839f25d086af736a60e9eeb907d3b93b6e0e5",
    "colab": {},
    "colab_type": "code",
    "id": "U2D2gTdJVp90"
   },
   "outputs": [],
   "source": [
    "import numpy as np\n",
    "import pandas as pd\n",
    "import seaborn as sns\n",
    "import matplotlib.pyplot as plt\n",
    "from collections import Counter"
   ]
  },
  {
   "cell_type": "code",
   "execution_count": 391,
   "metadata": {
    "_cell_guid": "79c7e3d0-c299-4dcb-8224-4455121ee9b0",
    "_uuid": "d629ff2d2480ee46fbb7e2d37f6b5fab8052498a",
    "colab": {},
    "colab_type": "code",
    "id": "oyGfxL3eVp9-"
   },
   "outputs": [
    {
     "data": {
      "text/html": [
       "<div>\n",
       "<style scoped>\n",
       "    .dataframe tbody tr th:only-of-type {\n",
       "        vertical-align: middle;\n",
       "    }\n",
       "\n",
       "    .dataframe tbody tr th {\n",
       "        vertical-align: top;\n",
       "    }\n",
       "\n",
       "    .dataframe thead th {\n",
       "        text-align: right;\n",
       "    }\n",
       "</style>\n",
       "<table border=\"1\" class=\"dataframe\">\n",
       "  <thead>\n",
       "    <tr style=\"text-align: right;\">\n",
       "      <th></th>\n",
       "      <th>imdb_id</th>\n",
       "      <th>budget</th>\n",
       "      <th>revenue</th>\n",
       "      <th>original_title</th>\n",
       "      <th>cast</th>\n",
       "      <th>director</th>\n",
       "      <th>tagline</th>\n",
       "      <th>overview</th>\n",
       "      <th>runtime</th>\n",
       "      <th>genres</th>\n",
       "      <th>production_companies</th>\n",
       "      <th>release_date</th>\n",
       "      <th>vote_average</th>\n",
       "      <th>release_year</th>\n",
       "    </tr>\n",
       "  </thead>\n",
       "  <tbody>\n",
       "    <tr>\n",
       "      <th>1380</th>\n",
       "      <td>tt0399146</td>\n",
       "      <td>32000000</td>\n",
       "      <td>60740827</td>\n",
       "      <td>A History of Violence</td>\n",
       "      <td>Viggo Mortensen|Maria Bello|Heidi Hayes|Ashton...</td>\n",
       "      <td>David Cronenberg</td>\n",
       "      <td>Tom Stall had the perfect life... until he bec...</td>\n",
       "      <td>An average family is thrust into the spotlight...</td>\n",
       "      <td>96</td>\n",
       "      <td>Drama|Thriller|Crime</td>\n",
       "      <td>New Line Cinema|DC Comics|BenderSpink</td>\n",
       "      <td>9/23/2005</td>\n",
       "      <td>6.7</td>\n",
       "      <td>2005</td>\n",
       "    </tr>\n",
       "    <tr>\n",
       "      <th>1619</th>\n",
       "      <td>tt0368008</td>\n",
       "      <td>80000000</td>\n",
       "      <td>96105964</td>\n",
       "      <td>The Manchurian Candidate</td>\n",
       "      <td>Denzel Washington|Meryl Streep|Liev Schreiber|...</td>\n",
       "      <td>Jonathan Demme</td>\n",
       "      <td>This summer everything is under control.</td>\n",
       "      <td>When his army unit was ambushed during the fir...</td>\n",
       "      <td>129</td>\n",
       "      <td>Drama|Thriller|Mystery</td>\n",
       "      <td>Paramount Pictures|Scott Rudin Productions|Cli...</td>\n",
       "      <td>7/30/2004</td>\n",
       "      <td>6.1</td>\n",
       "      <td>2004</td>\n",
       "    </tr>\n",
       "    <tr>\n",
       "      <th>691</th>\n",
       "      <td>tt0483607</td>\n",
       "      <td>30000000</td>\n",
       "      <td>22211426</td>\n",
       "      <td>Doomsday</td>\n",
       "      <td>Rhona Mitra|Bob Hoskins|Malcolm McDowell|Alexa...</td>\n",
       "      <td>Neil Marshall</td>\n",
       "      <td>Mankind has an expiration date.</td>\n",
       "      <td>A lethal virus spreads throughout the British ...</td>\n",
       "      <td>105</td>\n",
       "      <td>Action|Thriller|Science Fiction</td>\n",
       "      <td>Rogue Pictures|Intrepid Pictures|Scion Films|M...</td>\n",
       "      <td>3/14/2008</td>\n",
       "      <td>5.8</td>\n",
       "      <td>2008</td>\n",
       "    </tr>\n",
       "    <tr>\n",
       "      <th>1780</th>\n",
       "      <td>tt0452623</td>\n",
       "      <td>19000000</td>\n",
       "      <td>34619699</td>\n",
       "      <td>Gone Baby Gone</td>\n",
       "      <td>Casey Affleck|Michelle Monaghan|Morgan Freeman...</td>\n",
       "      <td>Ben Affleck</td>\n",
       "      <td>Everyone wants the truth... until they find it.</td>\n",
       "      <td>When 4 year old Amanda McCready disappears fro...</td>\n",
       "      <td>113</td>\n",
       "      <td>Crime|Drama|Mystery</td>\n",
       "      <td>Miramax Films|The Ladd Company</td>\n",
       "      <td>10/19/2007</td>\n",
       "      <td>7.0</td>\n",
       "      <td>2007</td>\n",
       "    </tr>\n",
       "    <tr>\n",
       "      <th>1110</th>\n",
       "      <td>tt0311113</td>\n",
       "      <td>150000000</td>\n",
       "      <td>212011111</td>\n",
       "      <td>Master and Commander: The Far Side of the World</td>\n",
       "      <td>Russell Crowe|Paul Bettany|James D'Arcy|Billy ...</td>\n",
       "      <td>Peter Weir</td>\n",
       "      <td>The Courage to Do the Impossible Lies in the H...</td>\n",
       "      <td>After an abrupt and violent encounter with a F...</td>\n",
       "      <td>138</td>\n",
       "      <td>Adventure</td>\n",
       "      <td>Universal Pictures|Twentieth Century Fox Film ...</td>\n",
       "      <td>11/14/2003</td>\n",
       "      <td>6.6</td>\n",
       "      <td>2003</td>\n",
       "    </tr>\n",
       "  </tbody>\n",
       "</table>\n",
       "</div>"
      ],
      "text/plain": [
       "        imdb_id     budget    revenue  \\\n",
       "1380  tt0399146   32000000   60740827   \n",
       "1619  tt0368008   80000000   96105964   \n",
       "691   tt0483607   30000000   22211426   \n",
       "1780  tt0452623   19000000   34619699   \n",
       "1110  tt0311113  150000000  212011111   \n",
       "\n",
       "                                       original_title  \\\n",
       "1380                            A History of Violence   \n",
       "1619                         The Manchurian Candidate   \n",
       "691                                          Doomsday   \n",
       "1780                                   Gone Baby Gone   \n",
       "1110  Master and Commander: The Far Side of the World   \n",
       "\n",
       "                                                   cast          director  \\\n",
       "1380  Viggo Mortensen|Maria Bello|Heidi Hayes|Ashton...  David Cronenberg   \n",
       "1619  Denzel Washington|Meryl Streep|Liev Schreiber|...    Jonathan Demme   \n",
       "691   Rhona Mitra|Bob Hoskins|Malcolm McDowell|Alexa...     Neil Marshall   \n",
       "1780  Casey Affleck|Michelle Monaghan|Morgan Freeman...       Ben Affleck   \n",
       "1110  Russell Crowe|Paul Bettany|James D'Arcy|Billy ...        Peter Weir   \n",
       "\n",
       "                                                tagline  \\\n",
       "1380  Tom Stall had the perfect life... until he bec...   \n",
       "1619           This summer everything is under control.   \n",
       "691                     Mankind has an expiration date.   \n",
       "1780    Everyone wants the truth... until they find it.   \n",
       "1110  The Courage to Do the Impossible Lies in the H...   \n",
       "\n",
       "                                               overview  runtime  \\\n",
       "1380  An average family is thrust into the spotlight...       96   \n",
       "1619  When his army unit was ambushed during the fir...      129   \n",
       "691   A lethal virus spreads throughout the British ...      105   \n",
       "1780  When 4 year old Amanda McCready disappears fro...      113   \n",
       "1110  After an abrupt and violent encounter with a F...      138   \n",
       "\n",
       "                               genres  \\\n",
       "1380             Drama|Thriller|Crime   \n",
       "1619           Drama|Thriller|Mystery   \n",
       "691   Action|Thriller|Science Fiction   \n",
       "1780              Crime|Drama|Mystery   \n",
       "1110                        Adventure   \n",
       "\n",
       "                                   production_companies release_date  \\\n",
       "1380              New Line Cinema|DC Comics|BenderSpink    9/23/2005   \n",
       "1619  Paramount Pictures|Scott Rudin Productions|Cli...    7/30/2004   \n",
       "691   Rogue Pictures|Intrepid Pictures|Scion Films|M...    3/14/2008   \n",
       "1780                     Miramax Films|The Ladd Company   10/19/2007   \n",
       "1110  Universal Pictures|Twentieth Century Fox Film ...   11/14/2003   \n",
       "\n",
       "      vote_average  release_year  \n",
       "1380           6.7          2005  \n",
       "1619           6.1          2004  \n",
       "691            5.8          2008  \n",
       "1780           7.0          2007  \n",
       "1110           6.6          2003  "
      ]
     },
     "execution_count": 391,
     "metadata": {},
     "output_type": "execute_result"
    }
   ],
   "source": [
    "data = pd.read_csv('movie_bd_v5.csv')\n",
    "data.sample(5)"
   ]
  },
  {
   "cell_type": "code",
   "execution_count": 339,
   "metadata": {
    "colab": {},
    "colab_type": "code",
    "id": "CoYUnagMVp-C"
   },
   "outputs": [
    {
     "data": {
      "text/html": [
       "<div>\n",
       "<style scoped>\n",
       "    .dataframe tbody tr th:only-of-type {\n",
       "        vertical-align: middle;\n",
       "    }\n",
       "\n",
       "    .dataframe tbody tr th {\n",
       "        vertical-align: top;\n",
       "    }\n",
       "\n",
       "    .dataframe thead th {\n",
       "        text-align: right;\n",
       "    }\n",
       "</style>\n",
       "<table border=\"1\" class=\"dataframe\">\n",
       "  <thead>\n",
       "    <tr style=\"text-align: right;\">\n",
       "      <th></th>\n",
       "      <th>budget</th>\n",
       "      <th>revenue</th>\n",
       "      <th>runtime</th>\n",
       "      <th>vote_average</th>\n",
       "      <th>release_year</th>\n",
       "    </tr>\n",
       "  </thead>\n",
       "  <tbody>\n",
       "    <tr>\n",
       "      <th>count</th>\n",
       "      <td>1.889000e+03</td>\n",
       "      <td>1.889000e+03</td>\n",
       "      <td>1889.000000</td>\n",
       "      <td>1889.000000</td>\n",
       "      <td>1889.000000</td>\n",
       "    </tr>\n",
       "    <tr>\n",
       "      <th>mean</th>\n",
       "      <td>5.431083e+07</td>\n",
       "      <td>1.553653e+08</td>\n",
       "      <td>109.658549</td>\n",
       "      <td>6.140762</td>\n",
       "      <td>2007.860773</td>\n",
       "    </tr>\n",
       "    <tr>\n",
       "      <th>std</th>\n",
       "      <td>4.858721e+07</td>\n",
       "      <td>2.146698e+08</td>\n",
       "      <td>18.017041</td>\n",
       "      <td>0.764763</td>\n",
       "      <td>4.468841</td>\n",
       "    </tr>\n",
       "    <tr>\n",
       "      <th>min</th>\n",
       "      <td>5.000000e+06</td>\n",
       "      <td>2.033165e+06</td>\n",
       "      <td>63.000000</td>\n",
       "      <td>3.300000</td>\n",
       "      <td>2000.000000</td>\n",
       "    </tr>\n",
       "    <tr>\n",
       "      <th>25%</th>\n",
       "      <td>2.000000e+07</td>\n",
       "      <td>3.456058e+07</td>\n",
       "      <td>97.000000</td>\n",
       "      <td>5.600000</td>\n",
       "      <td>2004.000000</td>\n",
       "    </tr>\n",
       "    <tr>\n",
       "      <th>50%</th>\n",
       "      <td>3.800000e+07</td>\n",
       "      <td>8.361541e+07</td>\n",
       "      <td>107.000000</td>\n",
       "      <td>6.100000</td>\n",
       "      <td>2008.000000</td>\n",
       "    </tr>\n",
       "    <tr>\n",
       "      <th>75%</th>\n",
       "      <td>7.200000e+07</td>\n",
       "      <td>1.782626e+08</td>\n",
       "      <td>120.000000</td>\n",
       "      <td>6.600000</td>\n",
       "      <td>2012.000000</td>\n",
       "    </tr>\n",
       "    <tr>\n",
       "      <th>max</th>\n",
       "      <td>3.800000e+08</td>\n",
       "      <td>2.781506e+09</td>\n",
       "      <td>214.000000</td>\n",
       "      <td>8.100000</td>\n",
       "      <td>2015.000000</td>\n",
       "    </tr>\n",
       "  </tbody>\n",
       "</table>\n",
       "</div>"
      ],
      "text/plain": [
       "             budget       revenue      runtime  vote_average  release_year\n",
       "count  1.889000e+03  1.889000e+03  1889.000000   1889.000000   1889.000000\n",
       "mean   5.431083e+07  1.553653e+08   109.658549      6.140762   2007.860773\n",
       "std    4.858721e+07  2.146698e+08    18.017041      0.764763      4.468841\n",
       "min    5.000000e+06  2.033165e+06    63.000000      3.300000   2000.000000\n",
       "25%    2.000000e+07  3.456058e+07    97.000000      5.600000   2004.000000\n",
       "50%    3.800000e+07  8.361541e+07   107.000000      6.100000   2008.000000\n",
       "75%    7.200000e+07  1.782626e+08   120.000000      6.600000   2012.000000\n",
       "max    3.800000e+08  2.781506e+09   214.000000      8.100000   2015.000000"
      ]
     },
     "execution_count": 339,
     "metadata": {},
     "output_type": "execute_result"
    }
   ],
   "source": [
    "data.describe()"
   ]
  },
  {
   "cell_type": "markdown",
   "metadata": {
    "colab_type": "text",
    "id": "DTIt7ezGVp-G"
   },
   "source": [
    "# Предобработка"
   ]
  },
  {
   "cell_type": "code",
   "execution_count": 340,
   "metadata": {
    "colab": {},
    "colab_type": "code",
    "id": "jNb40DwKVp-H"
   },
   "outputs": [
    {
     "name": "stdout",
     "output_type": "stream",
     "text": [
      "<class 'pandas.core.frame.DataFrame'>\n",
      "RangeIndex: 1889 entries, 0 to 1888\n",
      "Data columns (total 14 columns):\n",
      " #   Column                Non-Null Count  Dtype  \n",
      "---  ------                --------------  -----  \n",
      " 0   imdb_id               1889 non-null   object \n",
      " 1   budget                1889 non-null   int64  \n",
      " 2   revenue               1889 non-null   int64  \n",
      " 3   original_title        1889 non-null   object \n",
      " 4   cast                  1889 non-null   object \n",
      " 5   director              1889 non-null   object \n",
      " 6   tagline               1889 non-null   object \n",
      " 7   overview              1889 non-null   object \n",
      " 8   runtime               1889 non-null   int64  \n",
      " 9   genres                1889 non-null   object \n",
      " 10  production_companies  1889 non-null   object \n",
      " 11  release_date          1889 non-null   object \n",
      " 12  vote_average          1889 non-null   float64\n",
      " 13  release_year          1889 non-null   int64  \n",
      "dtypes: float64(1), int64(4), object(9)\n",
      "memory usage: 206.7+ KB\n"
     ]
    }
   ],
   "source": [
    "answers = {} # создадим словарь для ответов\n",
    "\n",
    "# тут другие ваши предобработки колонок например:\n",
    "\n",
    "# Определяем основные параметры DataFrame\n",
    "data.info()\n",
    "\n",
    "\n",
    "#the time given in the dataset is in string format.\n",
    "#So we need to change this in datetime format\n",
    "# ..."
   ]
  },
  {
   "cell_type": "markdown",
   "metadata": {},
   "source": [
    "Создадим колонку profit (прибыль)"
   ]
  },
  {
   "cell_type": "code",
   "execution_count": 393,
   "metadata": {},
   "outputs": [
    {
     "data": {
      "text/html": [
       "<div>\n",
       "<style scoped>\n",
       "    .dataframe tbody tr th:only-of-type {\n",
       "        vertical-align: middle;\n",
       "    }\n",
       "\n",
       "    .dataframe tbody tr th {\n",
       "        vertical-align: top;\n",
       "    }\n",
       "\n",
       "    .dataframe thead th {\n",
       "        text-align: right;\n",
       "    }\n",
       "</style>\n",
       "<table border=\"1\" class=\"dataframe\">\n",
       "  <thead>\n",
       "    <tr style=\"text-align: right;\">\n",
       "      <th></th>\n",
       "      <th>imdb_id</th>\n",
       "      <th>budget</th>\n",
       "      <th>revenue</th>\n",
       "      <th>original_title</th>\n",
       "      <th>cast</th>\n",
       "      <th>director</th>\n",
       "      <th>tagline</th>\n",
       "      <th>overview</th>\n",
       "      <th>runtime</th>\n",
       "      <th>genres</th>\n",
       "      <th>production_companies</th>\n",
       "      <th>release_date</th>\n",
       "      <th>vote_average</th>\n",
       "      <th>release_year</th>\n",
       "      <th>profit</th>\n",
       "    </tr>\n",
       "  </thead>\n",
       "  <tbody>\n",
       "    <tr>\n",
       "      <th>0</th>\n",
       "      <td>tt0369610</td>\n",
       "      <td>150000000</td>\n",
       "      <td>1513528810</td>\n",
       "      <td>Jurassic World</td>\n",
       "      <td>Chris Pratt|Bryce Dallas Howard|Irrfan Khan|Vi...</td>\n",
       "      <td>Colin Trevorrow</td>\n",
       "      <td>The park is open.</td>\n",
       "      <td>Twenty-two years after the events of Jurassic ...</td>\n",
       "      <td>124</td>\n",
       "      <td>Action|Adventure|Science Fiction|Thriller</td>\n",
       "      <td>Universal Studios|Amblin Entertainment|Legenda...</td>\n",
       "      <td>6/9/2015</td>\n",
       "      <td>6.5</td>\n",
       "      <td>2015</td>\n",
       "      <td>1363528810</td>\n",
       "    </tr>\n",
       "    <tr>\n",
       "      <th>1</th>\n",
       "      <td>tt1392190</td>\n",
       "      <td>150000000</td>\n",
       "      <td>378436354</td>\n",
       "      <td>Mad Max: Fury Road</td>\n",
       "      <td>Tom Hardy|Charlize Theron|Hugh Keays-Byrne|Nic...</td>\n",
       "      <td>George Miller</td>\n",
       "      <td>What a Lovely Day.</td>\n",
       "      <td>An apocalyptic story set in the furthest reach...</td>\n",
       "      <td>120</td>\n",
       "      <td>Action|Adventure|Science Fiction|Thriller</td>\n",
       "      <td>Village Roadshow Pictures|Kennedy Miller Produ...</td>\n",
       "      <td>5/13/2015</td>\n",
       "      <td>7.1</td>\n",
       "      <td>2015</td>\n",
       "      <td>228436354</td>\n",
       "    </tr>\n",
       "    <tr>\n",
       "      <th>2</th>\n",
       "      <td>tt2908446</td>\n",
       "      <td>110000000</td>\n",
       "      <td>295238201</td>\n",
       "      <td>Insurgent</td>\n",
       "      <td>Shailene Woodley|Theo James|Kate Winslet|Ansel...</td>\n",
       "      <td>Robert Schwentke</td>\n",
       "      <td>One Choice Can Destroy You</td>\n",
       "      <td>Beatrice Prior must confront her inner demons ...</td>\n",
       "      <td>119</td>\n",
       "      <td>Adventure|Science Fiction|Thriller</td>\n",
       "      <td>Summit Entertainment|Mandeville Films|Red Wago...</td>\n",
       "      <td>3/18/2015</td>\n",
       "      <td>6.3</td>\n",
       "      <td>2015</td>\n",
       "      <td>185238201</td>\n",
       "    </tr>\n",
       "    <tr>\n",
       "      <th>3</th>\n",
       "      <td>tt2488496</td>\n",
       "      <td>200000000</td>\n",
       "      <td>2068178225</td>\n",
       "      <td>Star Wars: The Force Awakens</td>\n",
       "      <td>Harrison Ford|Mark Hamill|Carrie Fisher|Adam D...</td>\n",
       "      <td>J.J. Abrams</td>\n",
       "      <td>Every generation has a story.</td>\n",
       "      <td>Thirty years after defeating the Galactic Empi...</td>\n",
       "      <td>136</td>\n",
       "      <td>Action|Adventure|Science Fiction|Fantasy</td>\n",
       "      <td>Lucasfilm|Truenorth Productions|Bad Robot</td>\n",
       "      <td>12/15/2015</td>\n",
       "      <td>7.5</td>\n",
       "      <td>2015</td>\n",
       "      <td>1868178225</td>\n",
       "    </tr>\n",
       "    <tr>\n",
       "      <th>4</th>\n",
       "      <td>tt2820852</td>\n",
       "      <td>190000000</td>\n",
       "      <td>1506249360</td>\n",
       "      <td>Furious 7</td>\n",
       "      <td>Vin Diesel|Paul Walker|Jason Statham|Michelle ...</td>\n",
       "      <td>James Wan</td>\n",
       "      <td>Vengeance Hits Home</td>\n",
       "      <td>Deckard Shaw seeks revenge against Dominic Tor...</td>\n",
       "      <td>137</td>\n",
       "      <td>Action|Crime|Thriller</td>\n",
       "      <td>Universal Pictures|Original Film|Media Rights ...</td>\n",
       "      <td>4/1/2015</td>\n",
       "      <td>7.3</td>\n",
       "      <td>2015</td>\n",
       "      <td>1316249360</td>\n",
       "    </tr>\n",
       "    <tr>\n",
       "      <th>...</th>\n",
       "      <td>...</td>\n",
       "      <td>...</td>\n",
       "      <td>...</td>\n",
       "      <td>...</td>\n",
       "      <td>...</td>\n",
       "      <td>...</td>\n",
       "      <td>...</td>\n",
       "      <td>...</td>\n",
       "      <td>...</td>\n",
       "      <td>...</td>\n",
       "      <td>...</td>\n",
       "      <td>...</td>\n",
       "      <td>...</td>\n",
       "      <td>...</td>\n",
       "      <td>...</td>\n",
       "    </tr>\n",
       "    <tr>\n",
       "      <th>1884</th>\n",
       "      <td>tt0120903</td>\n",
       "      <td>75000000</td>\n",
       "      <td>157299717</td>\n",
       "      <td>X-Men</td>\n",
       "      <td>Patrick Stewart|Hugh Jackman|Ian McKellen|Hall...</td>\n",
       "      <td>Bryan Singer</td>\n",
       "      <td>Evolution Begins</td>\n",
       "      <td>Two mutants, Rogue and Wolverine, come to a pr...</td>\n",
       "      <td>104</td>\n",
       "      <td>Adventure|Action|Science Fiction</td>\n",
       "      <td>Twentieth Century Fox Film Corporation|Donners...</td>\n",
       "      <td>7/13/2000</td>\n",
       "      <td>6.6</td>\n",
       "      <td>2000</td>\n",
       "      <td>82299717</td>\n",
       "    </tr>\n",
       "    <tr>\n",
       "      <th>1885</th>\n",
       "      <td>tt0192255</td>\n",
       "      <td>22000000</td>\n",
       "      <td>13555988</td>\n",
       "      <td>The Little Vampire</td>\n",
       "      <td>Richard E. Grant|Jonathan Lipnicki|Jim Carter|...</td>\n",
       "      <td>Uli Edel</td>\n",
       "      <td>They're not just best friends, they're blood b...</td>\n",
       "      <td>Based on the popular books, the story tells of...</td>\n",
       "      <td>95</td>\n",
       "      <td>Horror|Family|Foreign</td>\n",
       "      <td>New Line Cinema</td>\n",
       "      <td>10/27/2000</td>\n",
       "      <td>6.4</td>\n",
       "      <td>2000</td>\n",
       "      <td>-8444012</td>\n",
       "    </tr>\n",
       "    <tr>\n",
       "      <th>1886</th>\n",
       "      <td>tt0131704</td>\n",
       "      <td>76000000</td>\n",
       "      <td>35134820</td>\n",
       "      <td>The Adventures of Rocky &amp; Bullwinkle</td>\n",
       "      <td>Rene Russo|Jason Alexander|Piper Perabo|Randy ...</td>\n",
       "      <td>Des McAnuff</td>\n",
       "      <td>This summer it's not the same old bull.</td>\n",
       "      <td>Rocky and Bullwinkle have been living off the ...</td>\n",
       "      <td>88</td>\n",
       "      <td>Adventure|Animation|Action|Comedy|Family</td>\n",
       "      <td>Universal Pictures|Capella International|KC Me...</td>\n",
       "      <td>6/30/2000</td>\n",
       "      <td>4.0</td>\n",
       "      <td>2000</td>\n",
       "      <td>-40865180</td>\n",
       "    </tr>\n",
       "    <tr>\n",
       "      <th>1887</th>\n",
       "      <td>tt0162983</td>\n",
       "      <td>40000000</td>\n",
       "      <td>36037909</td>\n",
       "      <td>Hanging Up</td>\n",
       "      <td>Meg Ryan|Diane Keaton|Lisa Kudrow|Walter Matth...</td>\n",
       "      <td>Diane Keaton</td>\n",
       "      <td>Every family has a few hang-ups.</td>\n",
       "      <td>A trio of sisters bond over their ambivalence ...</td>\n",
       "      <td>94</td>\n",
       "      <td>Comedy|Drama</td>\n",
       "      <td>Laurence Mark Productions|Columbia Pictures Co...</td>\n",
       "      <td>2/16/2000</td>\n",
       "      <td>5.2</td>\n",
       "      <td>2000</td>\n",
       "      <td>-3962091</td>\n",
       "    </tr>\n",
       "    <tr>\n",
       "      <th>1888</th>\n",
       "      <td>tt0163676</td>\n",
       "      <td>15000000</td>\n",
       "      <td>5217498</td>\n",
       "      <td>The In Crowd</td>\n",
       "      <td>Susan Ward|Lori Heuring|Matthew Settle|Nathan ...</td>\n",
       "      <td>Mary Lambert</td>\n",
       "      <td>What would you do to get in?</td>\n",
       "      <td>A mentally disturbed young woman takes a job a...</td>\n",
       "      <td>105</td>\n",
       "      <td>Thriller</td>\n",
       "      <td>Warner Bros. Pictures</td>\n",
       "      <td>7/19/2000</td>\n",
       "      <td>5.2</td>\n",
       "      <td>2000</td>\n",
       "      <td>-9782502</td>\n",
       "    </tr>\n",
       "  </tbody>\n",
       "</table>\n",
       "<p>1889 rows × 15 columns</p>\n",
       "</div>"
      ],
      "text/plain": [
       "        imdb_id     budget     revenue                        original_title  \\\n",
       "0     tt0369610  150000000  1513528810                        Jurassic World   \n",
       "1     tt1392190  150000000   378436354                    Mad Max: Fury Road   \n",
       "2     tt2908446  110000000   295238201                             Insurgent   \n",
       "3     tt2488496  200000000  2068178225          Star Wars: The Force Awakens   \n",
       "4     tt2820852  190000000  1506249360                             Furious 7   \n",
       "...         ...        ...         ...                                   ...   \n",
       "1884  tt0120903   75000000   157299717                                 X-Men   \n",
       "1885  tt0192255   22000000    13555988                    The Little Vampire   \n",
       "1886  tt0131704   76000000    35134820  The Adventures of Rocky & Bullwinkle   \n",
       "1887  tt0162983   40000000    36037909                            Hanging Up   \n",
       "1888  tt0163676   15000000     5217498                          The In Crowd   \n",
       "\n",
       "                                                   cast          director  \\\n",
       "0     Chris Pratt|Bryce Dallas Howard|Irrfan Khan|Vi...   Colin Trevorrow   \n",
       "1     Tom Hardy|Charlize Theron|Hugh Keays-Byrne|Nic...     George Miller   \n",
       "2     Shailene Woodley|Theo James|Kate Winslet|Ansel...  Robert Schwentke   \n",
       "3     Harrison Ford|Mark Hamill|Carrie Fisher|Adam D...       J.J. Abrams   \n",
       "4     Vin Diesel|Paul Walker|Jason Statham|Michelle ...         James Wan   \n",
       "...                                                 ...               ...   \n",
       "1884  Patrick Stewart|Hugh Jackman|Ian McKellen|Hall...      Bryan Singer   \n",
       "1885  Richard E. Grant|Jonathan Lipnicki|Jim Carter|...          Uli Edel   \n",
       "1886  Rene Russo|Jason Alexander|Piper Perabo|Randy ...       Des McAnuff   \n",
       "1887  Meg Ryan|Diane Keaton|Lisa Kudrow|Walter Matth...      Diane Keaton   \n",
       "1888  Susan Ward|Lori Heuring|Matthew Settle|Nathan ...      Mary Lambert   \n",
       "\n",
       "                                                tagline  \\\n",
       "0                                     The park is open.   \n",
       "1                                    What a Lovely Day.   \n",
       "2                            One Choice Can Destroy You   \n",
       "3                         Every generation has a story.   \n",
       "4                                   Vengeance Hits Home   \n",
       "...                                                 ...   \n",
       "1884                                   Evolution Begins   \n",
       "1885  They're not just best friends, they're blood b...   \n",
       "1886            This summer it's not the same old bull.   \n",
       "1887                   Every family has a few hang-ups.   \n",
       "1888                       What would you do to get in?   \n",
       "\n",
       "                                               overview  runtime  \\\n",
       "0     Twenty-two years after the events of Jurassic ...      124   \n",
       "1     An apocalyptic story set in the furthest reach...      120   \n",
       "2     Beatrice Prior must confront her inner demons ...      119   \n",
       "3     Thirty years after defeating the Galactic Empi...      136   \n",
       "4     Deckard Shaw seeks revenge against Dominic Tor...      137   \n",
       "...                                                 ...      ...   \n",
       "1884  Two mutants, Rogue and Wolverine, come to a pr...      104   \n",
       "1885  Based on the popular books, the story tells of...       95   \n",
       "1886  Rocky and Bullwinkle have been living off the ...       88   \n",
       "1887  A trio of sisters bond over their ambivalence ...       94   \n",
       "1888  A mentally disturbed young woman takes a job a...      105   \n",
       "\n",
       "                                         genres  \\\n",
       "0     Action|Adventure|Science Fiction|Thriller   \n",
       "1     Action|Adventure|Science Fiction|Thriller   \n",
       "2            Adventure|Science Fiction|Thriller   \n",
       "3      Action|Adventure|Science Fiction|Fantasy   \n",
       "4                         Action|Crime|Thriller   \n",
       "...                                         ...   \n",
       "1884           Adventure|Action|Science Fiction   \n",
       "1885                      Horror|Family|Foreign   \n",
       "1886   Adventure|Animation|Action|Comedy|Family   \n",
       "1887                               Comedy|Drama   \n",
       "1888                                   Thriller   \n",
       "\n",
       "                                   production_companies release_date  \\\n",
       "0     Universal Studios|Amblin Entertainment|Legenda...     6/9/2015   \n",
       "1     Village Roadshow Pictures|Kennedy Miller Produ...    5/13/2015   \n",
       "2     Summit Entertainment|Mandeville Films|Red Wago...    3/18/2015   \n",
       "3             Lucasfilm|Truenorth Productions|Bad Robot   12/15/2015   \n",
       "4     Universal Pictures|Original Film|Media Rights ...     4/1/2015   \n",
       "...                                                 ...          ...   \n",
       "1884  Twentieth Century Fox Film Corporation|Donners...    7/13/2000   \n",
       "1885                                    New Line Cinema   10/27/2000   \n",
       "1886  Universal Pictures|Capella International|KC Me...    6/30/2000   \n",
       "1887  Laurence Mark Productions|Columbia Pictures Co...    2/16/2000   \n",
       "1888                              Warner Bros. Pictures    7/19/2000   \n",
       "\n",
       "      vote_average  release_year      profit  \n",
       "0              6.5          2015  1363528810  \n",
       "1              7.1          2015   228436354  \n",
       "2              6.3          2015   185238201  \n",
       "3              7.5          2015  1868178225  \n",
       "4              7.3          2015  1316249360  \n",
       "...            ...           ...         ...  \n",
       "1884           6.6          2000    82299717  \n",
       "1885           6.4          2000    -8444012  \n",
       "1886           4.0          2000   -40865180  \n",
       "1887           5.2          2000    -3962091  \n",
       "1888           5.2          2000    -9782502  \n",
       "\n",
       "[1889 rows x 15 columns]"
      ]
     },
     "execution_count": 393,
     "metadata": {},
     "output_type": "execute_result"
    }
   ],
   "source": [
    "data['profit'] = data.revenue - data.budget\n",
    "data"
   ]
  },
  {
   "cell_type": "markdown",
   "metadata": {
    "colab_type": "text",
    "id": "YxZaH-nPVp-L"
   },
   "source": [
    "# 1. У какого фильма из списка самый большой бюджет?"
   ]
  },
  {
   "cell_type": "markdown",
   "metadata": {
    "colab_type": "text",
    "id": "Nd-G5gX6Vp-M"
   },
   "source": [
    "Использовать варианты ответов в коде решения запрещено.    \n",
    "Вы думаете и в жизни у вас будут варианты ответов?)"
   ]
  },
  {
   "cell_type": "code",
   "execution_count": 344,
   "metadata": {
    "colab": {},
    "colab_type": "code",
    "id": "uVnXAY5RVp-O"
   },
   "outputs": [],
   "source": [
    "# в словарь вставляем номер вопроса и ваш ответ на него\n",
    "# Пример: \n",
    "answers['1'] = '2. Spider-Man 3 (tt0413300)'\n",
    "# запишите свой вариант ответа\n",
    "answers['1'] = 'Pirates of the Caribbean: On Stranger Tide (tt1298650)'\n",
    "# если ответили верно, можете добавить комментарий со значком \"+\""
   ]
  },
  {
   "cell_type": "code",
   "execution_count": 345,
   "metadata": {
    "colab": {},
    "colab_type": "code",
    "id": "dZwb3m28Vp-S"
   },
   "outputs": [
    {
     "data": {
      "text/html": [
       "<div>\n",
       "<style scoped>\n",
       "    .dataframe tbody tr th:only-of-type {\n",
       "        vertical-align: middle;\n",
       "    }\n",
       "\n",
       "    .dataframe tbody tr th {\n",
       "        vertical-align: top;\n",
       "    }\n",
       "\n",
       "    .dataframe thead th {\n",
       "        text-align: right;\n",
       "    }\n",
       "</style>\n",
       "<table border=\"1\" class=\"dataframe\">\n",
       "  <thead>\n",
       "    <tr style=\"text-align: right;\">\n",
       "      <th></th>\n",
       "      <th>imdb_id</th>\n",
       "      <th>budget</th>\n",
       "      <th>revenue</th>\n",
       "      <th>original_title</th>\n",
       "      <th>cast</th>\n",
       "      <th>director</th>\n",
       "      <th>tagline</th>\n",
       "      <th>overview</th>\n",
       "      <th>runtime</th>\n",
       "      <th>genres</th>\n",
       "      <th>production_companies</th>\n",
       "      <th>release_date</th>\n",
       "      <th>vote_average</th>\n",
       "      <th>release_year</th>\n",
       "      <th>profit</th>\n",
       "    </tr>\n",
       "  </thead>\n",
       "  <tbody>\n",
       "    <tr>\n",
       "      <th>723</th>\n",
       "      <td>tt1298650</td>\n",
       "      <td>380000000</td>\n",
       "      <td>1021683000</td>\n",
       "      <td>Pirates of the Caribbean: On Stranger Tides</td>\n",
       "      <td>Johnny Depp|PenÃ©lope Cruz|Geoffrey Rush|Ian M...</td>\n",
       "      <td>Rob Marshall</td>\n",
       "      <td>Live Forever Or Die Trying.</td>\n",
       "      <td>Captain Jack Sparrow crosses paths with a woma...</td>\n",
       "      <td>136</td>\n",
       "      <td>Adventure|Action|Fantasy</td>\n",
       "      <td>Walt Disney Pictures|Jerry Bruckheimer Films|M...</td>\n",
       "      <td>5/11/2011</td>\n",
       "      <td>6.3</td>\n",
       "      <td>2011</td>\n",
       "      <td>641683000</td>\n",
       "    </tr>\n",
       "  </tbody>\n",
       "</table>\n",
       "</div>"
      ],
      "text/plain": [
       "       imdb_id     budget     revenue  \\\n",
       "723  tt1298650  380000000  1021683000   \n",
       "\n",
       "                                  original_title  \\\n",
       "723  Pirates of the Caribbean: On Stranger Tides   \n",
       "\n",
       "                                                  cast      director  \\\n",
       "723  Johnny Depp|PenÃ©lope Cruz|Geoffrey Rush|Ian M...  Rob Marshall   \n",
       "\n",
       "                         tagline  \\\n",
       "723  Live Forever Or Die Trying.   \n",
       "\n",
       "                                              overview  runtime  \\\n",
       "723  Captain Jack Sparrow crosses paths with a woma...      136   \n",
       "\n",
       "                       genres  \\\n",
       "723  Adventure|Action|Fantasy   \n",
       "\n",
       "                                  production_companies release_date  \\\n",
       "723  Walt Disney Pictures|Jerry Bruckheimer Films|M...    5/11/2011   \n",
       "\n",
       "     vote_average  release_year     profit  \n",
       "723           6.3          2011  641683000  "
      ]
     },
     "execution_count": 345,
     "metadata": {},
     "output_type": "execute_result"
    }
   ],
   "source": [
    "# тут пишем ваш код для решения данного вопроса:\n",
    "data[data.budget == data.budget.max()]"
   ]
  },
  {
   "cell_type": "markdown",
   "metadata": {
    "colab_type": "text",
    "id": "K7L3nbRXVp-X"
   },
   "source": [
    "ВАРИАНТ 2"
   ]
  },
  {
   "cell_type": "code",
   "execution_count": 0,
   "metadata": {
    "colab": {},
    "colab_type": "code",
    "id": "OGaoQI7rVp-X"
   },
   "outputs": [],
   "source": [
    "# можно добавлять разные варианты решения"
   ]
  },
  {
   "cell_type": "markdown",
   "metadata": {
    "colab_type": "text",
    "id": "FNRbbI3vVp-c"
   },
   "source": [
    "# 2. Какой из фильмов самый длительный (в минутах)?"
   ]
  },
  {
   "cell_type": "code",
   "execution_count": 346,
   "metadata": {
    "colab": {},
    "colab_type": "code",
    "id": "vHAoEXNTVp-d"
   },
   "outputs": [],
   "source": [
    "# думаю логику работы с этим словарем вы уже поняли, \n",
    "# по этому не буду больше его дублировать\n",
    "answers['2'] = 'Gods and Generals (tt0279111)'"
   ]
  },
  {
   "cell_type": "code",
   "execution_count": 347,
   "metadata": {
    "colab": {},
    "colab_type": "code",
    "id": "ot-VX2XrVp-g"
   },
   "outputs": [
    {
     "data": {
      "text/html": [
       "<div>\n",
       "<style scoped>\n",
       "    .dataframe tbody tr th:only-of-type {\n",
       "        vertical-align: middle;\n",
       "    }\n",
       "\n",
       "    .dataframe tbody tr th {\n",
       "        vertical-align: top;\n",
       "    }\n",
       "\n",
       "    .dataframe thead th {\n",
       "        text-align: right;\n",
       "    }\n",
       "</style>\n",
       "<table border=\"1\" class=\"dataframe\">\n",
       "  <thead>\n",
       "    <tr style=\"text-align: right;\">\n",
       "      <th></th>\n",
       "      <th>imdb_id</th>\n",
       "      <th>budget</th>\n",
       "      <th>revenue</th>\n",
       "      <th>original_title</th>\n",
       "      <th>cast</th>\n",
       "      <th>director</th>\n",
       "      <th>tagline</th>\n",
       "      <th>overview</th>\n",
       "      <th>runtime</th>\n",
       "      <th>genres</th>\n",
       "      <th>production_companies</th>\n",
       "      <th>release_date</th>\n",
       "      <th>vote_average</th>\n",
       "      <th>release_year</th>\n",
       "      <th>profit</th>\n",
       "    </tr>\n",
       "  </thead>\n",
       "  <tbody>\n",
       "    <tr>\n",
       "      <th>1157</th>\n",
       "      <td>tt0279111</td>\n",
       "      <td>56000000</td>\n",
       "      <td>12923936</td>\n",
       "      <td>Gods and Generals</td>\n",
       "      <td>Stephen Lang|Jeff Daniels|Robert Duvall|Kevin ...</td>\n",
       "      <td>Ronald F. Maxwell</td>\n",
       "      <td>The nations heart was touched by...</td>\n",
       "      <td>The film centers mostly around the personal an...</td>\n",
       "      <td>214</td>\n",
       "      <td>Drama|History|War</td>\n",
       "      <td>Turner Pictures|Antietam Filmworks</td>\n",
       "      <td>2/21/2003</td>\n",
       "      <td>5.8</td>\n",
       "      <td>2003</td>\n",
       "      <td>-43076064</td>\n",
       "    </tr>\n",
       "  </tbody>\n",
       "</table>\n",
       "</div>"
      ],
      "text/plain": [
       "        imdb_id    budget   revenue     original_title  \\\n",
       "1157  tt0279111  56000000  12923936  Gods and Generals   \n",
       "\n",
       "                                                   cast           director  \\\n",
       "1157  Stephen Lang|Jeff Daniels|Robert Duvall|Kevin ...  Ronald F. Maxwell   \n",
       "\n",
       "                                  tagline  \\\n",
       "1157  The nations heart was touched by...   \n",
       "\n",
       "                                               overview  runtime  \\\n",
       "1157  The film centers mostly around the personal an...      214   \n",
       "\n",
       "                 genres                production_companies release_date  \\\n",
       "1157  Drama|History|War  Turner Pictures|Antietam Filmworks    2/21/2003   \n",
       "\n",
       "      vote_average  release_year    profit  \n",
       "1157           5.8          2003 -43076064  "
      ]
     },
     "execution_count": 347,
     "metadata": {},
     "output_type": "execute_result"
    }
   ],
   "source": [
    "data[data.runtime == data.runtime.max()]"
   ]
  },
  {
   "cell_type": "markdown",
   "metadata": {
    "colab_type": "text",
    "id": "bapLlpW8Vp-k"
   },
   "source": [
    "# 3. Какой из фильмов самый короткий (в минутах)?\n",
    "\n",
    "\n",
    "\n"
   ]
  },
  {
   "cell_type": "code",
   "execution_count": 348,
   "metadata": {},
   "outputs": [],
   "source": [
    "answers['3'] = 'Winnie the Pooh (tt1449283)'"
   ]
  },
  {
   "cell_type": "code",
   "execution_count": 349,
   "metadata": {
    "colab": {},
    "colab_type": "code",
    "id": "YBxaSHuAVp-l"
   },
   "outputs": [
    {
     "data": {
      "text/html": [
       "<div>\n",
       "<style scoped>\n",
       "    .dataframe tbody tr th:only-of-type {\n",
       "        vertical-align: middle;\n",
       "    }\n",
       "\n",
       "    .dataframe tbody tr th {\n",
       "        vertical-align: top;\n",
       "    }\n",
       "\n",
       "    .dataframe thead th {\n",
       "        text-align: right;\n",
       "    }\n",
       "</style>\n",
       "<table border=\"1\" class=\"dataframe\">\n",
       "  <thead>\n",
       "    <tr style=\"text-align: right;\">\n",
       "      <th></th>\n",
       "      <th>imdb_id</th>\n",
       "      <th>budget</th>\n",
       "      <th>revenue</th>\n",
       "      <th>original_title</th>\n",
       "      <th>cast</th>\n",
       "      <th>director</th>\n",
       "      <th>tagline</th>\n",
       "      <th>overview</th>\n",
       "      <th>runtime</th>\n",
       "      <th>genres</th>\n",
       "      <th>production_companies</th>\n",
       "      <th>release_date</th>\n",
       "      <th>vote_average</th>\n",
       "      <th>release_year</th>\n",
       "      <th>profit</th>\n",
       "    </tr>\n",
       "  </thead>\n",
       "  <tbody>\n",
       "    <tr>\n",
       "      <th>768</th>\n",
       "      <td>tt1449283</td>\n",
       "      <td>30000000</td>\n",
       "      <td>14460000</td>\n",
       "      <td>Winnie the Pooh</td>\n",
       "      <td>Jim Cummings|Travis Oates|Jim Cummings|Bud Luc...</td>\n",
       "      <td>Stephen Anderson|Don Hall</td>\n",
       "      <td>Oh Pooh.</td>\n",
       "      <td>During an ordinary day in Hundred Acre Wood, W...</td>\n",
       "      <td>63</td>\n",
       "      <td>Animation|Family</td>\n",
       "      <td>Walt Disney Pictures|Walt Disney Animation Stu...</td>\n",
       "      <td>4/13/2011</td>\n",
       "      <td>6.8</td>\n",
       "      <td>2011</td>\n",
       "      <td>-15540000</td>\n",
       "    </tr>\n",
       "  </tbody>\n",
       "</table>\n",
       "</div>"
      ],
      "text/plain": [
       "       imdb_id    budget   revenue   original_title  \\\n",
       "768  tt1449283  30000000  14460000  Winnie the Pooh   \n",
       "\n",
       "                                                  cast  \\\n",
       "768  Jim Cummings|Travis Oates|Jim Cummings|Bud Luc...   \n",
       "\n",
       "                      director   tagline  \\\n",
       "768  Stephen Anderson|Don Hall  Oh Pooh.   \n",
       "\n",
       "                                              overview  runtime  \\\n",
       "768  During an ordinary day in Hundred Acre Wood, W...       63   \n",
       "\n",
       "               genres                               production_companies  \\\n",
       "768  Animation|Family  Walt Disney Pictures|Walt Disney Animation Stu...   \n",
       "\n",
       "    release_date  vote_average  release_year    profit  \n",
       "768    4/13/2011           6.8          2011 -15540000  "
      ]
     },
     "execution_count": 349,
     "metadata": {},
     "output_type": "execute_result"
    }
   ],
   "source": [
    "data[data.runtime == data.runtime.min()]"
   ]
  },
  {
   "cell_type": "markdown",
   "metadata": {
    "colab_type": "text",
    "id": "TfQbxbfNVp-p"
   },
   "source": [
    "# 4. Какова средняя длительность фильмов?\n"
   ]
  },
  {
   "cell_type": "code",
   "execution_count": 374,
   "metadata": {
    "colab": {},
    "colab_type": "code",
    "id": "5K6dKZYVVp-q"
   },
   "outputs": [],
   "source": [
    "answers['4'] = '110'"
   ]
  },
  {
   "cell_type": "code",
   "execution_count": 373,
   "metadata": {},
   "outputs": [
    {
     "data": {
      "text/plain": [
       "110"
      ]
     },
     "execution_count": 373,
     "metadata": {},
     "output_type": "execute_result"
    }
   ],
   "source": [
    "round(data.runtime.mean())"
   ]
  },
  {
   "cell_type": "markdown",
   "metadata": {
    "colab_type": "text",
    "id": "r5TvbnT_Vp-u"
   },
   "source": [
    "# 5. Каково медианное значение длительности фильмов? "
   ]
  },
  {
   "cell_type": "code",
   "execution_count": 352,
   "metadata": {},
   "outputs": [],
   "source": [
    "answers['5'] = '107.0'"
   ]
  },
  {
   "cell_type": "code",
   "execution_count": 376,
   "metadata": {
    "colab": {},
    "colab_type": "code",
    "id": "iBROplKnVp-v"
   },
   "outputs": [
    {
     "data": {
      "text/plain": [
       "107.0"
      ]
     },
     "execution_count": 376,
     "metadata": {},
     "output_type": "execute_result"
    }
   ],
   "source": [
    "data.runtime.median()"
   ]
  },
  {
   "cell_type": "markdown",
   "metadata": {
    "colab_type": "text",
    "id": "39P-deDSVp-y"
   },
   "source": [
    "# 6. Какой самый прибыльный фильм?\n",
    "#### Внимание! Здесь и далее под «прибылью» или «убытками» понимается разность между сборами и бюджетом фильма. (прибыль = сборы - бюджет) в нашем датасете это будет (profit = revenue - budget) "
   ]
  },
  {
   "cell_type": "code",
   "execution_count": 354,
   "metadata": {},
   "outputs": [],
   "source": [
    "answers['6'] = 'Avatar (tt0499549)'"
   ]
  },
  {
   "cell_type": "code",
   "execution_count": 394,
   "metadata": {
    "colab": {},
    "colab_type": "code",
    "id": "UYZh4T9WVp-y"
   },
   "outputs": [
    {
     "data": {
      "text/html": [
       "<div>\n",
       "<style scoped>\n",
       "    .dataframe tbody tr th:only-of-type {\n",
       "        vertical-align: middle;\n",
       "    }\n",
       "\n",
       "    .dataframe tbody tr th {\n",
       "        vertical-align: top;\n",
       "    }\n",
       "\n",
       "    .dataframe thead th {\n",
       "        text-align: right;\n",
       "    }\n",
       "</style>\n",
       "<table border=\"1\" class=\"dataframe\">\n",
       "  <thead>\n",
       "    <tr style=\"text-align: right;\">\n",
       "      <th></th>\n",
       "      <th>imdb_id</th>\n",
       "      <th>budget</th>\n",
       "      <th>revenue</th>\n",
       "      <th>original_title</th>\n",
       "      <th>cast</th>\n",
       "      <th>director</th>\n",
       "      <th>tagline</th>\n",
       "      <th>overview</th>\n",
       "      <th>runtime</th>\n",
       "      <th>genres</th>\n",
       "      <th>production_companies</th>\n",
       "      <th>release_date</th>\n",
       "      <th>vote_average</th>\n",
       "      <th>release_year</th>\n",
       "      <th>profit</th>\n",
       "    </tr>\n",
       "  </thead>\n",
       "  <tbody>\n",
       "    <tr>\n",
       "      <th>239</th>\n",
       "      <td>tt0499549</td>\n",
       "      <td>237000000</td>\n",
       "      <td>2781505847</td>\n",
       "      <td>Avatar</td>\n",
       "      <td>Sam Worthington|Zoe Saldana|Sigourney Weaver|S...</td>\n",
       "      <td>James Cameron</td>\n",
       "      <td>Enter the World of Pandora.</td>\n",
       "      <td>In the 22nd century, a paraplegic Marine is di...</td>\n",
       "      <td>162</td>\n",
       "      <td>Action|Adventure|Fantasy|Science Fiction</td>\n",
       "      <td>Ingenious Film Partners|Twentieth Century Fox ...</td>\n",
       "      <td>12/10/2009</td>\n",
       "      <td>7.1</td>\n",
       "      <td>2009</td>\n",
       "      <td>2544505847</td>\n",
       "    </tr>\n",
       "  </tbody>\n",
       "</table>\n",
       "</div>"
      ],
      "text/plain": [
       "       imdb_id     budget     revenue original_title  \\\n",
       "239  tt0499549  237000000  2781505847         Avatar   \n",
       "\n",
       "                                                  cast       director  \\\n",
       "239  Sam Worthington|Zoe Saldana|Sigourney Weaver|S...  James Cameron   \n",
       "\n",
       "                         tagline  \\\n",
       "239  Enter the World of Pandora.   \n",
       "\n",
       "                                              overview  runtime  \\\n",
       "239  In the 22nd century, a paraplegic Marine is di...      162   \n",
       "\n",
       "                                       genres  \\\n",
       "239  Action|Adventure|Fantasy|Science Fiction   \n",
       "\n",
       "                                  production_companies release_date  \\\n",
       "239  Ingenious Film Partners|Twentieth Century Fox ...   12/10/2009   \n",
       "\n",
       "     vote_average  release_year      profit  \n",
       "239           7.1          2009  2544505847  "
      ]
     },
     "execution_count": 394,
     "metadata": {},
     "output_type": "execute_result"
    }
   ],
   "source": [
    "# лучше код получения столбца profit вынести в Предобработку что в начале\n",
    "data[data.profit == data.profit.max()]"
   ]
  },
  {
   "cell_type": "markdown",
   "metadata": {
    "colab_type": "text",
    "id": "M99JmIX4Vp-2"
   },
   "source": [
    "# 7. Какой фильм самый убыточный? "
   ]
  },
  {
   "cell_type": "code",
   "execution_count": 356,
   "metadata": {},
   "outputs": [],
   "source": [
    "answers['7'] = 'The Lone Ranger (tt1210819)'"
   ]
  },
  {
   "cell_type": "code",
   "execution_count": 357,
   "metadata": {
    "colab": {},
    "colab_type": "code",
    "id": "w-D2m4XPVp-3"
   },
   "outputs": [
    {
     "data": {
      "text/html": [
       "<div>\n",
       "<style scoped>\n",
       "    .dataframe tbody tr th:only-of-type {\n",
       "        vertical-align: middle;\n",
       "    }\n",
       "\n",
       "    .dataframe tbody tr th {\n",
       "        vertical-align: top;\n",
       "    }\n",
       "\n",
       "    .dataframe thead th {\n",
       "        text-align: right;\n",
       "    }\n",
       "</style>\n",
       "<table border=\"1\" class=\"dataframe\">\n",
       "  <thead>\n",
       "    <tr style=\"text-align: right;\">\n",
       "      <th></th>\n",
       "      <th>imdb_id</th>\n",
       "      <th>budget</th>\n",
       "      <th>revenue</th>\n",
       "      <th>original_title</th>\n",
       "      <th>cast</th>\n",
       "      <th>director</th>\n",
       "      <th>tagline</th>\n",
       "      <th>overview</th>\n",
       "      <th>runtime</th>\n",
       "      <th>genres</th>\n",
       "      <th>production_companies</th>\n",
       "      <th>release_date</th>\n",
       "      <th>vote_average</th>\n",
       "      <th>release_year</th>\n",
       "      <th>profit</th>\n",
       "    </tr>\n",
       "  </thead>\n",
       "  <tbody>\n",
       "    <tr>\n",
       "      <th>1245</th>\n",
       "      <td>tt1210819</td>\n",
       "      <td>255000000</td>\n",
       "      <td>89289910</td>\n",
       "      <td>The Lone Ranger</td>\n",
       "      <td>Johnny Depp|Armie Hammer|William Fichtner|Hele...</td>\n",
       "      <td>Gore Verbinski</td>\n",
       "      <td>Never Take Off the Mask</td>\n",
       "      <td>The Texas Rangers chase down a gang of outlaws...</td>\n",
       "      <td>149</td>\n",
       "      <td>Action|Adventure|Western</td>\n",
       "      <td>Walt Disney Pictures|Jerry Bruckheimer Films|I...</td>\n",
       "      <td>7/3/2013</td>\n",
       "      <td>6.0</td>\n",
       "      <td>2013</td>\n",
       "      <td>-165710090</td>\n",
       "    </tr>\n",
       "  </tbody>\n",
       "</table>\n",
       "</div>"
      ],
      "text/plain": [
       "        imdb_id     budget   revenue   original_title  \\\n",
       "1245  tt1210819  255000000  89289910  The Lone Ranger   \n",
       "\n",
       "                                                   cast        director  \\\n",
       "1245  Johnny Depp|Armie Hammer|William Fichtner|Hele...  Gore Verbinski   \n",
       "\n",
       "                      tagline  \\\n",
       "1245  Never Take Off the Mask   \n",
       "\n",
       "                                               overview  runtime  \\\n",
       "1245  The Texas Rangers chase down a gang of outlaws...      149   \n",
       "\n",
       "                        genres  \\\n",
       "1245  Action|Adventure|Western   \n",
       "\n",
       "                                   production_companies release_date  \\\n",
       "1245  Walt Disney Pictures|Jerry Bruckheimer Films|I...     7/3/2013   \n",
       "\n",
       "      vote_average  release_year     profit  \n",
       "1245           6.0          2013 -165710090  "
      ]
     },
     "execution_count": 357,
     "metadata": {},
     "output_type": "execute_result"
    }
   ],
   "source": [
    "data[data.profit == data.profit.min()]"
   ]
  },
  {
   "cell_type": "markdown",
   "metadata": {
    "colab_type": "text",
    "id": "wEOM5ERVVp-6"
   },
   "source": [
    "# 8. У скольких фильмов из датасета объем сборов оказался выше бюджета?"
   ]
  },
  {
   "cell_type": "code",
   "execution_count": 358,
   "metadata": {},
   "outputs": [],
   "source": [
    "answers['8'] = '1478'"
   ]
  },
  {
   "cell_type": "code",
   "execution_count": 381,
   "metadata": {
    "colab": {},
    "colab_type": "code",
    "id": "y00_7HD6Vp-7"
   },
   "outputs": [
    {
     "data": {
      "text/plain": [
       "1478"
      ]
     },
     "execution_count": 381,
     "metadata": {},
     "output_type": "execute_result"
    }
   ],
   "source": [
    "len(data[data.revenue > data.budget])"
   ]
  },
  {
   "cell_type": "markdown",
   "metadata": {
    "colab_type": "text",
    "id": "xhpspA9KVp_A"
   },
   "source": [
    "# 9. Какой фильм оказался самым кассовым в 2008 году?"
   ]
  },
  {
   "cell_type": "code",
   "execution_count": 360,
   "metadata": {
    "colab": {},
    "colab_type": "code",
    "id": "MoUyQr9RVp_B"
   },
   "outputs": [],
   "source": [
    "answers['9'] = 'The Dark Knight (tt0468569)'"
   ]
  },
  {
   "cell_type": "code",
   "execution_count": 382,
   "metadata": {},
   "outputs": [
    {
     "data": {
      "text/html": [
       "<div>\n",
       "<style scoped>\n",
       "    .dataframe tbody tr th:only-of-type {\n",
       "        vertical-align: middle;\n",
       "    }\n",
       "\n",
       "    .dataframe tbody tr th {\n",
       "        vertical-align: top;\n",
       "    }\n",
       "\n",
       "    .dataframe thead th {\n",
       "        text-align: right;\n",
       "    }\n",
       "</style>\n",
       "<table border=\"1\" class=\"dataframe\">\n",
       "  <thead>\n",
       "    <tr style=\"text-align: right;\">\n",
       "      <th></th>\n",
       "      <th>imdb_id</th>\n",
       "      <th>budget</th>\n",
       "      <th>revenue</th>\n",
       "      <th>original_title</th>\n",
       "      <th>cast</th>\n",
       "      <th>director</th>\n",
       "      <th>tagline</th>\n",
       "      <th>overview</th>\n",
       "      <th>runtime</th>\n",
       "      <th>genres</th>\n",
       "      <th>production_companies</th>\n",
       "      <th>release_date</th>\n",
       "      <th>vote_average</th>\n",
       "      <th>release_year</th>\n",
       "      <th>profit</th>\n",
       "    </tr>\n",
       "  </thead>\n",
       "  <tbody>\n",
       "    <tr>\n",
       "      <th>599</th>\n",
       "      <td>tt0468569</td>\n",
       "      <td>185000000</td>\n",
       "      <td>1001921825</td>\n",
       "      <td>The Dark Knight</td>\n",
       "      <td>Christian Bale|Michael Caine|Heath Ledger|Aaro...</td>\n",
       "      <td>Christopher Nolan</td>\n",
       "      <td>Why So Serious?</td>\n",
       "      <td>Batman raises the stakes in his war on crime. ...</td>\n",
       "      <td>152</td>\n",
       "      <td>Drama|Action|Crime|Thriller</td>\n",
       "      <td>DC Comics|Legendary Pictures|Warner Bros.|Syncopy</td>\n",
       "      <td>7/16/2008</td>\n",
       "      <td>8.1</td>\n",
       "      <td>2008</td>\n",
       "      <td>816921825</td>\n",
       "    </tr>\n",
       "  </tbody>\n",
       "</table>\n",
       "</div>"
      ],
      "text/plain": [
       "       imdb_id     budget     revenue   original_title  \\\n",
       "599  tt0468569  185000000  1001921825  The Dark Knight   \n",
       "\n",
       "                                                  cast           director  \\\n",
       "599  Christian Bale|Michael Caine|Heath Ledger|Aaro...  Christopher Nolan   \n",
       "\n",
       "             tagline                                           overview  \\\n",
       "599  Why So Serious?  Batman raises the stakes in his war on crime. ...   \n",
       "\n",
       "     runtime                       genres  \\\n",
       "599      152  Drama|Action|Crime|Thriller   \n",
       "\n",
       "                                  production_companies release_date  \\\n",
       "599  DC Comics|Legendary Pictures|Warner Bros.|Syncopy    7/16/2008   \n",
       "\n",
       "     vote_average  release_year     profit  \n",
       "599           8.1          2008  816921825  "
      ]
     },
     "execution_count": 382,
     "metadata": {},
     "output_type": "execute_result"
    }
   ],
   "source": [
    "tmp = data[data.release_year == 2008] # создаем временный DataFrame с фильмами 2008 г.\n",
    "tmp[tmp.revenue == tmp.revenue.max()] "
   ]
  },
  {
   "cell_type": "markdown",
   "metadata": {
    "colab_type": "text",
    "id": "Zi4hDKidVp_F"
   },
   "source": [
    "# 10. Самый убыточный фильм за период с 2012 по 2014 г. (включительно)?\n"
   ]
  },
  {
   "cell_type": "code",
   "execution_count": 362,
   "metadata": {},
   "outputs": [],
   "source": [
    "answers['10'] = 'The Lone Ranger (tt1210819)'"
   ]
  },
  {
   "cell_type": "code",
   "execution_count": 383,
   "metadata": {
    "colab": {},
    "colab_type": "code",
    "id": "XqyRmufJVp_F"
   },
   "outputs": [
    {
     "data": {
      "text/html": [
       "<div>\n",
       "<style scoped>\n",
       "    .dataframe tbody tr th:only-of-type {\n",
       "        vertical-align: middle;\n",
       "    }\n",
       "\n",
       "    .dataframe tbody tr th {\n",
       "        vertical-align: top;\n",
       "    }\n",
       "\n",
       "    .dataframe thead th {\n",
       "        text-align: right;\n",
       "    }\n",
       "</style>\n",
       "<table border=\"1\" class=\"dataframe\">\n",
       "  <thead>\n",
       "    <tr style=\"text-align: right;\">\n",
       "      <th></th>\n",
       "      <th>imdb_id</th>\n",
       "      <th>budget</th>\n",
       "      <th>revenue</th>\n",
       "      <th>original_title</th>\n",
       "      <th>cast</th>\n",
       "      <th>director</th>\n",
       "      <th>tagline</th>\n",
       "      <th>overview</th>\n",
       "      <th>runtime</th>\n",
       "      <th>genres</th>\n",
       "      <th>production_companies</th>\n",
       "      <th>release_date</th>\n",
       "      <th>vote_average</th>\n",
       "      <th>release_year</th>\n",
       "      <th>profit</th>\n",
       "    </tr>\n",
       "  </thead>\n",
       "  <tbody>\n",
       "    <tr>\n",
       "      <th>1245</th>\n",
       "      <td>tt1210819</td>\n",
       "      <td>255000000</td>\n",
       "      <td>89289910</td>\n",
       "      <td>The Lone Ranger</td>\n",
       "      <td>Johnny Depp|Armie Hammer|William Fichtner|Hele...</td>\n",
       "      <td>Gore Verbinski</td>\n",
       "      <td>Never Take Off the Mask</td>\n",
       "      <td>The Texas Rangers chase down a gang of outlaws...</td>\n",
       "      <td>149</td>\n",
       "      <td>Action|Adventure|Western</td>\n",
       "      <td>Walt Disney Pictures|Jerry Bruckheimer Films|I...</td>\n",
       "      <td>7/3/2013</td>\n",
       "      <td>6.0</td>\n",
       "      <td>2013</td>\n",
       "      <td>-165710090</td>\n",
       "    </tr>\n",
       "  </tbody>\n",
       "</table>\n",
       "</div>"
      ],
      "text/plain": [
       "        imdb_id     budget   revenue   original_title  \\\n",
       "1245  tt1210819  255000000  89289910  The Lone Ranger   \n",
       "\n",
       "                                                   cast        director  \\\n",
       "1245  Johnny Depp|Armie Hammer|William Fichtner|Hele...  Gore Verbinski   \n",
       "\n",
       "                      tagline  \\\n",
       "1245  Never Take Off the Mask   \n",
       "\n",
       "                                               overview  runtime  \\\n",
       "1245  The Texas Rangers chase down a gang of outlaws...      149   \n",
       "\n",
       "                        genres  \\\n",
       "1245  Action|Adventure|Western   \n",
       "\n",
       "                                   production_companies release_date  \\\n",
       "1245  Walt Disney Pictures|Jerry Bruckheimer Films|I...     7/3/2013   \n",
       "\n",
       "      vote_average  release_year     profit  \n",
       "1245           6.0          2013 -165710090  "
      ]
     },
     "execution_count": 383,
     "metadata": {},
     "output_type": "execute_result"
    }
   ],
   "source": [
    "tmp = data[(data.release_year >= 2008)&(data.release_year <= 2014)] # создаем временный DataFrame с нужными годами\n",
    "tmp[tmp.profit == tmp.profit.min()]"
   ]
  },
  {
   "cell_type": "markdown",
   "metadata": {
    "colab_type": "text",
    "id": "EA7Sa9dkVp_I"
   },
   "source": [
    "# 11. Какого жанра фильмов больше всего?"
   ]
  },
  {
   "cell_type": "code",
   "execution_count": 364,
   "metadata": {},
   "outputs": [],
   "source": [
    "answers['11'] = 'Drama'"
   ]
  },
  {
   "cell_type": "code",
   "execution_count": 397,
   "metadata": {
    "colab": {},
    "colab_type": "code",
    "id": "zsJAwJ8QVp_J"
   },
   "outputs": [
    {
     "data": {
      "text/plain": [
       "NaN                4338\n",
       "Drama               782\n",
       "Comedy              683\n",
       "Thriller            596\n",
       "Action              582\n",
       "Adventure           415\n",
       "Crime               315\n",
       "Romance             308\n",
       "Family              260\n",
       "Science Fiction     248\n",
       "Fantasy             222\n",
       "Horror              176\n",
       "Mystery             168\n",
       "Animation           139\n",
       "Music                64\n",
       "History              62\n",
       "War                  58\n",
       "Western              19\n",
       "Documentary           8\n",
       "Foreign               2\n",
       "dtype: int64"
      ]
     },
     "execution_count": 397,
     "metadata": {},
     "output_type": "execute_result"
    }
   ],
   "source": [
    "# эту задачу тоже можно решать разными подходами, попробуй реализовать разные варианты\n",
    "# если будешь добавлять функцию - выноси ее в предобработку что в начале\n",
    "\n",
    "# Создаем Series с развернутым списком и колличеством элементов\n",
    "tmp = pd.Series(Counter(pd.DataFrame(data['genres'].str.split('|', expand=True)).values.ravel()))\n",
    "tmp.sort_values(ascending=False)"
   ]
  },
  {
   "cell_type": "markdown",
   "metadata": {
    "colab_type": "text",
    "id": "Ax6g2C8SVp_M"
   },
   "source": [
    "ВАРИАНТ 2"
   ]
  },
  {
   "cell_type": "code",
   "execution_count": 0,
   "metadata": {
    "colab": {},
    "colab_type": "code",
    "id": "otO3SbrSVp_N"
   },
   "outputs": [],
   "source": []
  },
  {
   "cell_type": "markdown",
   "metadata": {
    "colab_type": "text",
    "id": "T9_bPWpkVp_Q"
   },
   "source": [
    "# 12. Фильмы какого жанра чаще всего становятся прибыльными? "
   ]
  },
  {
   "cell_type": "code",
   "execution_count": 389,
   "metadata": {},
   "outputs": [],
   "source": [
    "answers['12'] = 'Drama'"
   ]
  },
  {
   "cell_type": "code",
   "execution_count": 388,
   "metadata": {},
   "outputs": [
    {
     "data": {
      "text/plain": [
       "NaN                3428\n",
       "Drama               560\n",
       "Comedy              551\n",
       "Thriller            446\n",
       "Action              444\n",
       "Adventure           337\n",
       "Romance             242\n",
       "Crime               231\n",
       "Family              226\n",
       "Science Fiction     195\n",
       "Fantasy             188\n",
       "Horror              150\n",
       "Animation           120\n",
       "Mystery             119\n",
       "Music                47\n",
       "History              46\n",
       "War                  41\n",
       "Western              12\n",
       "Documentary           7\n",
       "dtype: int64"
      ]
     },
     "execution_count": 388,
     "metadata": {},
     "output_type": "execute_result"
    }
   ],
   "source": [
    "# создаем временный DataFrame из фильмов с положительной прибылью\n",
    "tmp = data[data.profit > 0]\n",
    "# Создаем Series с развернутым списком и колличеством элементов\n",
    "tmp1 = pd.Series(Counter(pd.DataFrame(tmp['genres'].str.split('|', expand=True)).values.ravel()))\n",
    "tmp1.sort_values(ascending=False)"
   ]
  },
  {
   "cell_type": "markdown",
   "metadata": {
    "colab_type": "text",
    "id": "0F23bgsDVp_U"
   },
   "source": [
    "# 13. У какого режиссера самые большие суммарные кассовые сборы?"
   ]
  },
  {
   "cell_type": "code",
   "execution_count": 164,
   "metadata": {},
   "outputs": [],
   "source": [
    "answers['13'] = 'Peter Jackson'"
   ]
  },
  {
   "cell_type": "code",
   "execution_count": 143,
   "metadata": {
    "colab": {},
    "colab_type": "code",
    "id": "K6Z3J8ygVp_X"
   },
   "outputs": [
    {
     "data": {
      "text/plain": [
       "['Colin Trevorrow',\n",
       " None,\n",
       " 'George Miller',\n",
       " 'Robert Schwentke',\n",
       " 'J.J. Abrams',\n",
       " 'James Wan',\n",
       " 'Alejandro GonzÃ¡lez IÃ±Ã¡rritu',\n",
       " 'Alan Taylor',\n",
       " 'Ridley Scott',\n",
       " 'Kyle Balda',\n",
       " 'Pierre Coffin',\n",
       " 'Pete Docter',\n",
       " 'Sam Mendes',\n",
       " 'Lana Wachowski',\n",
       " 'Lilly Wachowski',\n",
       " 'Alex Garland',\n",
       " 'Chris Columbus',\n",
       " 'Joss Whedon',\n",
       " 'Quentin Tarantino',\n",
       " 'Olivier Megaton',\n",
       " 'Peyton Reed',\n",
       " 'Kenneth Branagh',\n",
       " 'Francis Lawrence',\n",
       " 'Brad Bird',\n",
       " 'Antoine Fuqua',\n",
       " 'Brad Peyton',\n",
       " 'Sam Taylor-Johnson',\n",
       " 'Adam McKay',\n",
       " 'Christopher McQuarrie',\n",
       " 'Seth MacFarlane',\n",
       " 'Matthew Vaughn',\n",
       " 'Tom McCarthy',\n",
       " 'Wes Ball',\n",
       " 'Neill Blomkamp',\n",
       " 'Elizabeth Banks',\n",
       " 'Steven Spielberg',\n",
       " 'Rob Letterman',\n",
       " 'Lenny Abrahamson',\n",
       " 'Peter Sohn',\n",
       " 'Jaume Collet-Serra',\n",
       " 'John Crowley',\n",
       " 'F. Gary Gray',\n",
       " 'Breck Eisner',\n",
       " 'Guy Ritchie',\n",
       " 'Lee Toland Krieger',\n",
       " 'Ilya Naishuller',\n",
       " 'Tim Johnson',\n",
       " 'Jake Schreier',\n",
       " 'Todd Haynes',\n",
       " 'Nancy Meyers',\n",
       " 'Baltasar KormÃ¡kur',\n",
       " 'Ericson Core',\n",
       " 'John Wells',\n",
       " 'Tarsem Singh',\n",
       " 'David Koepp',\n",
       " 'Tom Hooper',\n",
       " 'Michael Mann',\n",
       " 'Denis Villeneuve',\n",
       " 'Josh Trank',\n",
       " 'Paul Feig',\n",
       " 'Glenn Ficarra',\n",
       " 'John Requa',\n",
       " 'Aleksander Bach',\n",
       " 'Ron Howard',\n",
       " 'Ryan Coogler',\n",
       " 'Judd Apatow',\n",
       " 'Gavin Hood',\n",
       " 'Brian Helgeland',\n",
       " 'Joe Wright',\n",
       " 'Steve Martino',\n",
       " 'Peter Landesman',\n",
       " 'Jonathan Levine',\n",
       " 'George Tillman, Jr.',\n",
       " 'Genndy Tartakovsky',\n",
       " 'Jessie Nelson',\n",
       " 'Robert Zemeckis',\n",
       " 'John Francis Daley',\n",
       " 'Jonathan M. Goldstein',\n",
       " 'Gil Kenan',\n",
       " 'Daniel Espinosa',\n",
       " 'Joel Edgerton',\n",
       " 'Sean Anders',\n",
       " 'Mark Osborne',\n",
       " 'Jocelyn Moorhouse',\n",
       " 'Ari Sandel',\n",
       " 'Ciaran Foy',\n",
       " 'Andy Fickman',\n",
       " 'Doug Ellin',\n",
       " 'Jeremy Garelick',\n",
       " 'M. Night Shyamalan',\n",
       " 'Scott Cooper',\n",
       " 'Michael Dougherty',\n",
       " 'John Erick Dowdle',\n",
       " 'Simon Curtis',\n",
       " 'Jason Moore',\n",
       " 'Dean Israelite',\n",
       " 'Camille Delamarre',\n",
       " 'Guillermo del Toro',\n",
       " 'Gregory Jacobs',\n",
       " 'Gregory Plotkin',\n",
       " 'Jay Roach',\n",
       " 'Billy Ray',\n",
       " 'Paul Tibbitt',\n",
       " 'Boaz Yakin',\n",
       " 'Pierre Morel',\n",
       " 'Anne Fletcher',\n",
       " 'Leigh Whannell',\n",
       " 'Nicholas Hytner',\n",
       " 'Paul McGuigan',\n",
       " 'Jonathan Demme',\n",
       " 'David M. Rosenthal',\n",
       " 'Noah Baumbach',\n",
       " 'Etan Cohen',\n",
       " 'Sarah Gavron',\n",
       " 'Max Joseph',\n",
       " 'Alejandro Monteverde',\n",
       " 'Cameron Crowe',\n",
       " 'David Gordon Green',\n",
       " 'Barry Levinson',\n",
       " 'Ken Kwapis',\n",
       " 'Ken Scott',\n",
       " 'Mike Binder',\n",
       " 'Jon M. Chu',\n",
       " 'Christopher Nolan',\n",
       " 'James Gunn',\n",
       " 'Joe Russo',\n",
       " 'Anthony Russo',\n",
       " 'Chad Stahelski',\n",
       " 'David Leitch',\n",
       " 'Peter Jackson',\n",
       " 'Don Hall',\n",
       " 'Chris Williams',\n",
       " 'Morten Tyldum',\n",
       " 'David Fincher',\n",
       " 'David Ayer',\n",
       " 'Shawn Levy',\n",
       " 'Neil Burger',\n",
       " 'Bryan Singer',\n",
       " 'Luc Besson',\n",
       " 'Jonathan Liebesman',\n",
       " 'Jake Kasdan',\n",
       " 'Dan Gilroy',\n",
       " 'Michael Bay',\n",
       " 'Wes Anderson',\n",
       " 'Matt Reeves',\n",
       " 'Marc Webb',\n",
       " 'Doug Liman',\n",
       " 'Evan Goldberg',\n",
       " 'Seth Rogen',\n",
       " 'Clint Eastwood',\n",
       " 'Gareth Edwards',\n",
       " 'Robert Stromberg',\n",
       " 'Roger Donaldson',\n",
       " 'Stiles White',\n",
       " 'Dean DeBlois',\n",
       " 'Patrick Hughes',\n",
       " 'Phil Lord',\n",
       " 'Christopher Miller',\n",
       " 'Sergey Bodrov',\n",
       " 'James Marsh',\n",
       " 'Luke Greenfield',\n",
       " 'Gary Shore',\n",
       " 'Simon J. Smith',\n",
       " 'Eric Darnell',\n",
       " 'Rob Marshall',\n",
       " 'Noam Murro',\n",
       " 'Phillip Noyce',\n",
       " 'Scott Frank',\n",
       " 'Paul King',\n",
       " 'Daniel Barnz',\n",
       " 'Jon Favreau',\n",
       " 'James DeMonaco',\n",
       " 'Vic Armstrong',\n",
       " 'J.C. Chandor',\n",
       " 'Brett Ratner',\n",
       " 'Darren Aronofsky',\n",
       " 'David Dobkin',\n",
       " 'Frank Coraci',\n",
       " 'Nicholas Stoller',\n",
       " 'R.J. Cutler',\n",
       " 'Trish Sie',\n",
       " 'Josh Boone',\n",
       " 'Tim Story',\n",
       " 'Paul Thomas Anderson',\n",
       " 'Michael Spierig',\n",
       " 'Peter Spierig',\n",
       " 'JosÃ© Padilha',\n",
       " 'Wally Pfister',\n",
       " 'Nick Cassavetes',\n",
       " 'Rob Minkoff',\n",
       " 'Frank Miller',\n",
       " 'Robert Rodriguez',\n",
       " 'Carlos Saldanha',\n",
       " 'Bobby Farrelly',\n",
       " 'Peter Farrelly',\n",
       " 'George Clooney',\n",
       " 'Angelina Jolie',\n",
       " 'Ava DuVernay',\n",
       " 'Paul W.S. Anderson',\n",
       " 'Michael Hoffman',\n",
       " 'Will Gluck',\n",
       " 'Theodore Melfi',\n",
       " 'Scott Waugh',\n",
       " 'Lasse HallstrÃ¶m',\n",
       " 'Graham Annable',\n",
       " 'Anthony Stacchi',\n",
       " 'Tim Burton',\n",
       " 'Brian A Miller',\n",
       " 'Steven Quale',\n",
       " 'Roberts Gannaway',\n",
       " 'Sam Miller',\n",
       " 'Bennett Miller',\n",
       " 'Shana Feste',\n",
       " 'David MichÃ´d',\n",
       " 'Saul Dibb',\n",
       " 'John R. Leonetti',\n",
       " 'Stuart Beattie',\n",
       " 'Tom Gormican',\n",
       " 'Ben Falcone',\n",
       " 'Akiva Goldsman',\n",
       " 'Adam Wingard',\n",
       " 'Russell Crowe',\n",
       " 'Miguel Arteta',\n",
       " 'Steve Pink',\n",
       " 'Craig Gillespie',\n",
       " 'Jonathan Glazer',\n",
       " 'Rob Thomas',\n",
       " 'Christopher Spencer',\n",
       " 'Thomas Carter',\n",
       " 'GrÃ©gory Levasseur',\n",
       " 'Michael Cuesta',\n",
       " 'Charles Martin Smith',\n",
       " 'James Bobin',\n",
       " 'Randall Wallace',\n",
       " 'Renny Harlin',\n",
       " 'Andrew Erwin',\n",
       " 'Jon Erwin',\n",
       " 'Dave Green',\n",
       " 'Rupert Wyatt',\n",
       " 'Don McKellar',\n",
       " 'Harold Cronk',\n",
       " 'Matt Bettinelli-Olpin',\n",
       " 'Tyler Gillett',\n",
       " 'James Cameron',\n",
       " 'Patrick Tatopoulos',\n",
       " 'David Yates',\n",
       " 'Bob Peterson',\n",
       " 'McG',\n",
       " 'Todd Phillips',\n",
       " 'Zack Snyder',\n",
       " 'Roland Emmerich',\n",
       " 'Shane Acker',\n",
       " 'Ron Clements',\n",
       " 'John Musker',\n",
       " 'John Lee Hancock',\n",
       " 'Ruben Fleischer',\n",
       " 'Chris Weitz',\n",
       " 'Stephen Sommers',\n",
       " 'Robert Luketic',\n",
       " 'Henry Selick',\n",
       " 'Burr Steers',\n",
       " 'Steve Carr',\n",
       " 'Richard Kelly',\n",
       " 'Mark Neveldine',\n",
       " 'Brian Taylor',\n",
       " 'Christian Alvart',\n",
       " 'Sam Raimi',\n",
       " 'Alex Proyas',\n",
       " 'Duncan Jones',\n",
       " 'Hoyt Yeatman',\n",
       " 'Tony Scott',\n",
       " 'Ricky Gervais',\n",
       " 'Matthew Robinson',\n",
       " 'P.J. Hogan',\n",
       " 'Jaco Van Dormael',\n",
       " 'Peter Billingsley',\n",
       " 'Jim Sheridan',\n",
       " 'John Hillcoat',\n",
       " 'Conrad Vernon',\n",
       " 'Nora Ephron',\n",
       " 'Atom Egoyan',\n",
       " 'Karyn Kusama',\n",
       " 'Phil Traill',\n",
       " 'David R. Ellis',\n",
       " 'Betty Thomas',\n",
       " 'Gary Winick',\n",
       " 'Lee Daniels',\n",
       " 'Kevin Macdonald',\n",
       " 'David S. Goyer',\n",
       " 'John Hamburg',\n",
       " 'Steven Soderbergh',\n",
       " 'Richard Curtis',\n",
       " 'Brandon Camp',\n",
       " 'Kevin Greutert',\n",
       " 'Jean-Marc VallÃ©e',\n",
       " 'Ethan Coen',\n",
       " 'Joel Coen',\n",
       " 'David Twohy',\n",
       " 'Dominic Sena',\n",
       " 'Rajkumar Hirani',\n",
       " 'Grant Heslov',\n",
       " 'James McTeigue',\n",
       " 'Todd Graff',\n",
       " 'Brad Silberling',\n",
       " 'Jorge Blanco',\n",
       " 'Javier Abad',\n",
       " 'Marcos MartÃ\\xadnez',\n",
       " 'Harold Ramis',\n",
       " 'Patrick Lussier',\n",
       " 'Walt Becker',\n",
       " 'Alejandro AmenÃ¡bar',\n",
       " 'Troy Duffy',\n",
       " 'Werner Herzog',\n",
       " 'NimrÃ³d Antal',\n",
       " 'Paul Weitz',\n",
       " 'Lone Scherfig',\n",
       " 'Jason Reitman',\n",
       " 'David Bowers',\n",
       " 'Tom Tykwer',\n",
       " 'Justin Lin',\n",
       " 'Michael Moore',\n",
       " 'Rob Zombie',\n",
       " 'Peter Chelsom',\n",
       " 'John Schultz',\n",
       " 'Olatunde Osunsanmi',\n",
       " 'Brian Koppelman',\n",
       " 'David Levien',\n",
       " 'Tony Gilroy',\n",
       " 'Jane Campion',\n",
       " 'Greg Mottola',\n",
       " 'Mike Judge',\n",
       " 'Donald Petrie',\n",
       " 'Marcus Nispel',\n",
       " 'Daniel Barber',\n",
       " 'Jonathan Mostow',\n",
       " 'Andrzej Bartkowiak',\n",
       " 'Thor Freudenthal',\n",
       " 'Steve Shill',\n",
       " 'Michael J. Bassett',\n",
       " 'Jonas Elmer',\n",
       " 'Richard Linklater',\n",
       " 'Stewart Hendler',\n",
       " 'Derrick Borte',\n",
       " 'Vicky Jenson',\n",
       " 'Marc Lawrence',\n",
       " 'Toby Wilkins',\n",
       " 'Bruce Beresford',\n",
       " 'Chris Renaud',\n",
       " 'Sylvester Stallone',\n",
       " 'Chris Sanders',\n",
       " 'Martin Scorsese',\n",
       " 'Joseph Kosinski',\n",
       " 'Nathan Greno',\n",
       " 'Byron Howard',\n",
       " 'Lee Unkrich',\n",
       " 'Danny Boyle',\n",
       " 'Michael Apted',\n",
       " 'Florian Henckel von Donnersmarck',\n",
       " 'Mike Newell',\n",
       " 'Louis Leterrier',\n",
       " 'Jon Turteltaub',\n",
       " 'Edgar Wright',\n",
       " 'Mike Mitchell',\n",
       " 'Joe Carnahan',\n",
       " 'Ethan Maniquis',\n",
       " 'Dennis Dugan',\n",
       " 'Albert Hughes',\n",
       " 'Allen Hughes',\n",
       " 'Ben Affleck',\n",
       " 'David Slade',\n",
       " 'Tom McGrath',\n",
       " 'Edward Zwick',\n",
       " 'Peter Weir',\n",
       " 'Miguel Sapochnik',\n",
       " 'James Mangold',\n",
       " 'Ryan Murphy',\n",
       " 'Andy Tennant',\n",
       " 'Anand Tucker',\n",
       " 'Paul Greengrass',\n",
       " 'Alan Poul',\n",
       " 'Josh Gordon',\n",
       " 'Will Speck',\n",
       " 'Floria Sigismondi',\n",
       " 'Garry Marshall',\n",
       " 'Troy Nixey',\n",
       " 'Harald Zwart',\n",
       " 'Jonathan Lynn',\n",
       " 'Roman Polanski',\n",
       " 'Paul Haggis',\n",
       " 'Samuel Bayer',\n",
       " 'David O. Russell',\n",
       " 'Jimmy Hayward',\n",
       " 'Jason Friedberg',\n",
       " 'Aaron Seltzer',\n",
       " 'Scott Stewart',\n",
       " 'Michael Patrick King',\n",
       " 'Susanna White',\n",
       " 'John Luessenhop',\n",
       " 'Steve Antin',\n",
       " 'Nanette Burstein',\n",
       " 'Mark Romanek',\n",
       " 'Kevin Smith',\n",
       " 'Greg Berlanti',\n",
       " 'Neil Marshall',\n",
       " 'John Curran',\n",
       " 'Alexandre Aja',\n",
       " 'Roger Michell',\n",
       " 'Tony Goldwyn',\n",
       " 'Michael Lembeck',\n",
       " 'Colin Strause',\n",
       " 'Greg Strause',\n",
       " 'John Madden',\n",
       " 'Jorma Taccone',\n",
       " 'James L. Brooks',\n",
       " 'Brian Levant',\n",
       " 'Jim Field Smith',\n",
       " 'William Monahan',\n",
       " 'Wes Craven',\n",
       " 'Robert Redford',\n",
       " 'Neil LaBute',\n",
       " 'Tom Dey',\n",
       " 'Oliver Stone',\n",
       " 'Dan Rush',\n",
       " 'Anthony Bell',\n",
       " 'Ben Gluck',\n",
       " 'Eric Brevig',\n",
       " 'Tom Vaughan',\n",
       " 'Richard J. Lewis',\n",
       " 'Martin Campbell',\n",
       " 'Roger Kumble',\n",
       " 'Kevin Munroe',\n",
       " 'William Dear',\n",
       " 'John Landis',\n",
       " 'Tyler Perry',\n",
       " 'Vipul Amrutlal Shah',\n",
       " 'David Lynch',\n",
       " 'David Silverman',\n",
       " 'Andrew Adamson',\n",
       " 'Sharon Maguire',\n",
       " 'Gary Trousdale',\n",
       " 'Kirk Wise',\n",
       " 'Simon West',\n",
       " 'J.B. Rogers',\n",
       " 'Baz Luhrmann',\n",
       " 'Ted Demme',\n",
       " 'Jean-Jacques Annaud',\n",
       " 'Ben Stiller',\n",
       " 'Joel Gallen',\n",
       " 'Keenen Ivory Wayans',\n",
       " 'John A. Davis',\n",
       " 'Lawrence Guterman',\n",
       " 'Chris Nahon',\n",
       " 'Peter Howitt',\n",
       " 'Hironobu Sakaguchi',\n",
       " 'Motonori Sakakibara',\n",
       " 'Michael Cristofer',\n",
       " 'John Moore',\n",
       " 'Victor Salva',\n",
       " 'Rod Lurie',\n",
       " 'Lee Tamahori',\n",
       " 'Adam Shankman',\n",
       " 'Jerry Zucker',\n",
       " 'Robert Altman',\n",
       " 'James Isaac',\n",
       " 'Gore Verbinski',\n",
       " 'John Dahl',\n",
       " 'Stephen Herek',\n",
       " 'Iain Softley',\n",
       " 'Gary Fleder',\n",
       " 'Simon Wincer',\n",
       " 'Bill Paxton',\n",
       " 'Luis Mandoki',\n",
       " 'Scott Hicks',\n",
       " 'Daniel Sackheim',\n",
       " 'John Herzfeld',\n",
       " 'Brian Robbins',\n",
       " 'Ivan Reitman',\n",
       " 'Frank Oz',\n",
       " 'Dennie Gordon',\n",
       " 'John Boorman',\n",
       " \"Pat O'Connor\",\n",
       " 'Jesse Dylan',\n",
       " 'Gregory Poirier',\n",
       " 'Frank Darabont',\n",
       " 'Demian Lichtenstein',\n",
       " 'John Carpenter',\n",
       " 'Penny Marshall',\n",
       " 'Mark Waters',\n",
       " 'Rob Cohen',\n",
       " 'John Stockwell',\n",
       " 'Brendan Malloy',\n",
       " 'Emmett Malloy',\n",
       " 'Les Mayfield',\n",
       " 'Harold Becker',\n",
       " 'Mike Tollin',\n",
       " 'Tim Hill',\n",
       " 'Rob Pritts',\n",
       " 'Joe Johnston',\n",
       " 'Peter Hyams',\n",
       " 'Peter Bogdanovich',\n",
       " 'Francine McDougall',\n",
       " 'Ernest R. Dickerson',\n",
       " 'DJ Pooh',\n",
       " 'John Singleton',\n",
       " 'Andrew Stanton',\n",
       " 'Catherine Hardwicke',\n",
       " 'Marc Forster',\n",
       " 'John Stevenson',\n",
       " 'Phyllida Lloyd',\n",
       " 'Timur Bekmambetov',\n",
       " 'Loveleen Tandan',\n",
       " 'Peter Berg',\n",
       " 'Kathryn Bigelow',\n",
       " 'D.J. Caruso',\n",
       " 'Mark Herman',\n",
       " 'Scott Derrickson',\n",
       " 'Gabriele Muccino',\n",
       " 'David Frankel',\n",
       " 'Jeff Wadlow',\n",
       " 'Lexi Alexander',\n",
       " 'Pete Travis',\n",
       " 'Peter Segal',\n",
       " 'David Wain',\n",
       " 'Mathieu Kassovitz',\n",
       " 'Martin McDonagh',\n",
       " 'Jon Hurwitz',\n",
       " 'Hayden Schlossberg',\n",
       " 'Peter Sollett',\n",
       " 'Seth Gordon',\n",
       " 'Fred Wolf',\n",
       " 'David Hackl',\n",
       " 'Marco Schnabel',\n",
       " 'Woody Allen',\n",
       " 'Jon Avnet',\n",
       " 'Brad Anderson',\n",
       " 'Gregory Hoblit',\n",
       " 'Bryan Bertino',\n",
       " 'Gus Van Sant',\n",
       " 'Howard McCain',\n",
       " 'Chris Carter',\n",
       " 'John Patrick Shanley',\n",
       " 'Paul Weiland',\n",
       " 'Marcel Langenegger',\n",
       " 'David Moreau',\n",
       " 'Xavier Palud',\n",
       " 'Oxide Pang Chun',\n",
       " 'Danny Pang',\n",
       " 'GÃ¡bor CsupÃ³',\n",
       " 'Peter Cattaneo',\n",
       " 'Robert Stevenhagen',\n",
       " 'Sam Fell',\n",
       " 'Craig Mazin',\n",
       " 'Gina Prince-Bythewood',\n",
       " 'Raja Gosnell',\n",
       " 'Michael McCullers',\n",
       " 'Julian Jarrold',\n",
       " 'Rian Johnson',\n",
       " 'Kirk De Micco',\n",
       " 'Howard Deutch',\n",
       " 'RyÃ»hei Kitamura',\n",
       " 'Simon Hunter',\n",
       " 'Joshua Michael Stern',\n",
       " 'Jennifer Flackett',\n",
       " 'Mark Levin',\n",
       " 'Anthony Leondis',\n",
       " 'Robert B. Weide',\n",
       " 'Malcolm D. Lee',\n",
       " 'Nicolas Winding Refn',\n",
       " 'Andrew Niccol',\n",
       " 'Jennifer Yuh',\n",
       " 'John Lasseter',\n",
       " 'Brad Lewis',\n",
       " 'Bill Condon',\n",
       " 'Terrence Malick',\n",
       " 'Michel Hazanavicius',\n",
       " 'Brad Furman',\n",
       " 'Gary McKendry',\n",
       " 'Mikael HÃ¥fstrÃ¶m',\n",
       " 'Stephen Anderson',\n",
       " 'George Nolfi',\n",
       " 'Tom Hanks',\n",
       " 'Mark Mylod',\n",
       " 'Chris Gorak',\n",
       " 'Tate Taylor',\n",
       " 'Christian E. Christiansen',\n",
       " 'Chris Miller',\n",
       " 'Michel Gondry',\n",
       " 'Oliver Parker',\n",
       " 'Todd Strauss-Schulson',\n",
       " 'Matthijs van Heijningen Jr.',\n",
       " 'Gonzalo LÃ³pez-Gallego',\n",
       " 'Simon Wells',\n",
       " 'Joe Cornish',\n",
       " 'Stephen Daldry',\n",
       " 'Kelly Asbury',\n",
       " 'Alexander Payne',\n",
       " 'Bruce Robinson',\n",
       " 'John Michael McDonagh',\n",
       " 'Jesse Peretz',\n",
       " 'Craig Brewer',\n",
       " 'Joel Schumacher',\n",
       " 'Henry Joost',\n",
       " 'Ariel Schulman',\n",
       " 'Michael Dowse',\n",
       " 'Jason Winer',\n",
       " 'Alister Grierson',\n",
       " 'Douglas McGrath',\n",
       " 'David Cronenberg',\n",
       " 'Sean McNamara',\n",
       " 'Mike Disa',\n",
       " 'Joe Nussbaum',\n",
       " 'William Friedkin',\n",
       " 'John Whitesell',\n",
       " 'Benny Chan',\n",
       " 'Salim Akil',\n",
       " 'Thomas Bezucha',\n",
       " 'Paul Johansson',\n",
       " 'Paolo Sorrentino',\n",
       " 'Rodrigo GarcÃ\\xada',\n",
       " 'Mark Duplass',\n",
       " 'Jay Duplass',\n",
       " 'Chris Wedge',\n",
       " 'George Lucas',\n",
       " 'Barry Sonnenfeld',\n",
       " 'Corey Yuen Kwai',\n",
       " 'Wayne Wang',\n",
       " 'Curtis Hanson',\n",
       " 'Steven Brill',\n",
       " 'Joel Zwick',\n",
       " 'Andrew Davis',\n",
       " 'Stuart Baird',\n",
       " 'Kurt Wimmer',\n",
       " 'Steve Beck',\n",
       " 'Lorna Cook',\n",
       " 'Jim Gillespie',\n",
       " 'Chuck Russell',\n",
       " 'Jeff Tremaine',\n",
       " 'Julie Taymor',\n",
       " 'Barbet Schroeder',\n",
       " 'Spike Jonze',\n",
       " 'Ron Shelton',\n",
       " 'Walter Hill',\n",
       " 'John Woo',\n",
       " 'Adrian Lyne',\n",
       " 'Michael Rymer',\n",
       " 'Marcus Raboy',\n",
       " 'Robin Budd',\n",
       " 'Donovan Cook',\n",
       " 'Dewey Nicks',\n",
       " 'Brian De Palma',\n",
       " 'Michael Caton-Jones',\n",
       " 'Rob Bowman',\n",
       " 'Carl Franklin',\n",
       " 'Shekhar Kapur',\n",
       " 'Mark Pellington',\n",
       " 'Jonathan Frakes',\n",
       " 'Rick Rosenthal',\n",
       " 'Denzel Washington',\n",
       " 'Mort Nathan',\n",
       " 'Tamra Davis',\n",
       " 'Ron Underwood',\n",
       " 'Stephen Gaghan',\n",
       " 'Reginald Hudlin',\n",
       " 'Tom Shadyac',\n",
       " 'Charles Stone III',\n",
       " 'Kevin Bray',\n",
       " 'William Malone',\n",
       " 'Paul Schrader',\n",
       " 'MÃ¥ns MÃ¥rlind',\n",
       " 'BjÃ¶rn Stein',\n",
       " 'Mark Andrews',\n",
       " 'Steve Purcell',\n",
       " 'Brenda Chapman',\n",
       " 'Rupert Sanders',\n",
       " 'Ang Lee',\n",
       " 'Mike Thurmeier',\n",
       " 'Juan Antonio Bayona',\n",
       " 'Rich Moore',\n",
       " 'Gary Ross',\n",
       " 'Len Wiseman',\n",
       " 'Stephen Chbosky',\n",
       " 'Drew Goddard',\n",
       " 'Peter Ramsey',\n",
       " 'Michael Sucsy',\n",
       " 'Juan Diego Solanas',\n",
       " 'Scott Speer',\n",
       " 'Mike McCoy',\n",
       " 'Kirk Jones',\n",
       " 'Larry Charles',\n",
       " 'Nima Nourizadeh',\n",
       " 'Peter Lord',\n",
       " 'Jeff Newitt',\n",
       " 'Stephen St. Leger',\n",
       " 'James Mather',\n",
       " 'James Watkins',\n",
       " 'Asger Leth',\n",
       " 'Henry Alex Rubin',\n",
       " 'Alex Kurtzman',\n",
       " 'John Gulager',\n",
       " 'Ole Bornedal',\n",
       " 'Andrew Dominik',\n",
       " 'Mabrouk El Mechri',\n",
       " 'Nicholas Jarecki',\n",
       " 'Dan Bradley',\n",
       " 'Julie Anne Robinson',\n",
       " 'Dustin Hoffman',\n",
       " 'Chris Butler',\n",
       " 'Dean Wright',\n",
       " 'Anthony Hemingway',\n",
       " 'Josh Schwartz',\n",
       " 'Brian Klugman',\n",
       " 'Lee Sternthal',\n",
       " 'Walter Salles',\n",
       " 'David Barrett',\n",
       " 'Todd Lincoln ',\n",
       " 'Dan Cutforth',\n",
       " 'Jane Lipsitz',\n",
       " 'Mark Steven Johnson',\n",
       " 'Stephen Norrington',\n",
       " 'Steve Trenbirth',\n",
       " 'Terry Zwigoff',\n",
       " 'David Zucker',\n",
       " 'Bille Woodruff',\n",
       " 'Jan de Bont',\n",
       " 'Rob Schmidt',\n",
       " 'Jon Amiel',\n",
       " 'Clark Johnson',\n",
       " 'Charles Herman-Wurmfeld',\n",
       " 'Richard Donner',\n",
       " 'Anthony Minghella',\n",
       " 'Ronny Yu',\n",
       " 'Joe Dante',\n",
       " 'John McTiernan',\n",
       " 'Kevin Costner',\n",
       " 'Jim Fall',\n",
       " 'Lawrence Kasdan',\n",
       " 'Patty Jenkins',\n",
       " 'Martin Brest',\n",
       " 'Ronald F. Maxwell',\n",
       " 'Troy Miller',\n",
       " 'Alan Parker',\n",
       " 'Uwe Boll',\n",
       " 'Chris Koch',\n",
       " 'David Mackenzie',\n",
       " 'FranÃ§ois Ozon',\n",
       " 'Christopher Guest',\n",
       " 'Nigel Cole',\n",
       " 'James Cox',\n",
       " 'Rob Reiner',\n",
       " 'Robert Iscove',\n",
       " 'Christine Jeffs',\n",
       " 'Chris Buck',\n",
       " 'Jennifer Lee',\n",
       " 'Alfonso CuarÃ³n',\n",
       " 'Shane Black',\n",
       " 'Steve McQueen',\n",
       " 'Dan Scanlon',\n",
       " 'Tommy Wirkola',\n",
       " 'Carl Rinsch',\n",
       " 'Klay Hall',\n",
       " 'Harmony Korine',\n",
       " 'Fede Alvarez',\n",
       " 'Derek Cianfrance',\n",
       " 'Kimberly Peirce',\n",
       " 'John Carney',\n",
       " 'Justin Zackham',\n",
       " 'Taylor Hackford',\n",
       " 'Mike Flanagan',\n",
       " 'David Soren',\n",
       " 'Steven Knight',\n",
       " 'Spike Lee',\n",
       " 'Andy Muschietti',\n",
       " 'Rusty Cundieff',\n",
       " 'James Duffy',\n",
       " 'Griffin Dunne',\n",
       " 'Patrik Forsberg',\n",
       " 'Will Graham',\n",
       " 'Jonathan van Tulleken',\n",
       " 'Scott Moore',\n",
       " 'Jon Lucas',\n",
       " 'Callan Brunker',\n",
       " 'Amma Asante',\n",
       " 'Sofia Coppola',\n",
       " 'Dito Montiel',\n",
       " 'Cody Cameron',\n",
       " 'Kris Pearn',\n",
       " 'Giuseppe Tornatore',\n",
       " 'Don Scardino',\n",
       " 'Jeff Nichols',\n",
       " 'Jonathan Teplitzky',\n",
       " 'Neil Nightingale',\n",
       " 'Barry Cook',\n",
       " 'Scott Walker',\n",
       " 'Guillaume Canet',\n",
       " 'Ric Roman Waugh',\n",
       " 'Keanu Reeves',\n",
       " 'David E. Talbert',\n",
       " 'Christopher B. Landon',\n",
       " 'Benson Lee',\n",
       " 'Anthony Silverston',\n",
       " 'Kasi Lemmons',\n",
       " 'Dan St. Pierre',\n",
       " 'Zal Batmanglij',\n",
       " 'Ed Gass-Donnelly',\n",
       " 'Justin Chadwick',\n",
       " 'Stephen Frears',\n",
       " 'Oliver Hirschbiegel',\n",
       " 'Courtney Solomon',\n",
       " 'Fyodor Bondarchuk',\n",
       " 'Garth Jennings',\n",
       " 'Mark Dindal',\n",
       " 'Mike Johnson',\n",
       " 'Steve Box',\n",
       " 'Nick Park',\n",
       " 'John Maybury',\n",
       " 'Angela Robinson',\n",
       " 'Cory Edwards',\n",
       " 'Todd Edwards',\n",
       " 'Tony Leech',\n",
       " 'John Polson',\n",
       " 'Sydney Pollack',\n",
       " 'Terry Gilliam',\n",
       " 'Florent-Emilio Siri',\n",
       " 'Jay Chandrasekhar',\n",
       " 'Frederik Du Chau',\n",
       " 'Andrew Douglas',\n",
       " 'Dean Parisot',\n",
       " 'Kevin Rodney Sullivan',\n",
       " 'Jean-FranÃ§ois Richet',\n",
       " 'Jim Jarmusch',\n",
       " 'George A. Romero',\n",
       " 'Rupert Wainwright',\n",
       " 'Clare Kilner',\n",
       " 'Richard Shepard',\n",
       " 'Gary Chapman',\n",
       " 'Fernando Meirelles',\n",
       " 'Tommy Lee Jones',\n",
       " 'Danny Cannon',\n",
       " 'Geoffrey Sax',\n",
       " 'Liev Schreiber',\n",
       " 'Stephen Kay',\n",
       " 'Bruce Hunt',\n",
       " 'Niki Caro',\n",
       " 'Joe Ranft',\n",
       " 'Karey Kirkpatrick',\n",
       " 'Frank Marshall',\n",
       " 'James Wong',\n",
       " 'Christophe Gans',\n",
       " \"Steve 'Spaz' Williams\",\n",
       " 'Stefen Fangmeier',\n",
       " 'Alejandro Agresti',\n",
       " 'Mel Gibson',\n",
       " 'Robert De Niro',\n",
       " 'Kevin Reynolds',\n",
       " \"Matthew O'Callaghan\",\n",
       " 'Steven Zaillian',\n",
       " 'Joe Roth',\n",
       " 'Darren Lynn Bousman',\n",
       " 'Jared Hess',\n",
       " 'Wolfgang Petersen',\n",
       " 'Steven Shainberg',\n",
       " 'Jonathan Dayton',\n",
       " 'Valerie Faris',\n",
       " 'Greg Coolidge',\n",
       " 'Nick Hurran',\n",
       " 'Roger Allers',\n",
       " 'Jill Culton',\n",
       " 'Steve Oedekerk',\n",
       " 'Chris Noonan',\n",
       " 'Jim Sonzero',\n",
       " 'John Bonito',\n",
       " 'Liz Friedlander',\n",
       " 'Peter Hewitt',\n",
       " 'Elizabeth Allen Rosenbaum',\n",
       " 'Richard Eyre',\n",
       " 'Tony Bill',\n",
       " 'Wayne Kramer',\n",
       " 'Susannah Grant',\n",
       " 'Takashi Shimizu',\n",
       " 'Richard Loncraine',\n",
       " 'Liam Lynch',\n",
       " 'Sanjay Gadhvi',\n",
       " 'Glen Morgan',\n",
       " 'Phil Joanou',\n",
       " 'Mira Nair',\n",
       " 'Rachid Bouchareb',\n",
       " 'William Brent Bell',\n",
       " 'Asif Kapadia',\n",
       " 'Doug Atchison',\n",
       " 'Beeban Kidron',\n",
       " 'Eric Bress',\n",
       " 'J. Mackye Gruber',\n",
       " 'Alexander Witt',\n",
       " 'Bibo Bergeron',\n",
       " 'Kerry Conran',\n",
       " 'Stephen Hillenburg',\n",
       " \"Tommy O'Haver\",\n",
       " 'Mark Rosman',\n",
       " 'Rawson Marshall Thurber',\n",
       " 'Danny Leiner',\n",
       " 'Jeff Schaffer',\n",
       " 'Mike Nichols',\n",
       " 'Jonathan Hensleigh',\n",
       " 'Pitof',\n",
       " 'Don Mancini',\n",
       " 'Charles Shyer',\n",
       " 'Will Finn',\n",
       " 'John Sanford',\n",
       " 'Terry George',\n",
       " 'Philip Kaufman',\n",
       " 'Trey Parker',\n",
       " 'Sara Sugarman',\n",
       " 'Guy Ferland',\n",
       " 'Joseph Ruben',\n",
       " 'Nick Hamm',\n",
       " 'Paul Abascal',\n",
       " 'Joseph Kahn',\n",
       " \"Gavin O'Connor\",\n",
       " 'E. Elias Merhige',\n",
       " 'George Armitage',\n",
       " 'David Mamet',\n",
       " 'Kevin Allen',\n",
       " 'Christopher Erskin',\n",
       " 'Jay Russell',\n",
       " 'Jan Pinkava',\n",
       " 'Sean Penn',\n",
       " 'Raman Hui',\n",
       " 'Steve Hickner',\n",
       " 'Stephen J. Anderson',\n",
       " 'Richard LaGravenese',\n",
       " 'Kevin Lima',\n",
       " 'Juan Carlos Fresnadillo',\n",
       " 'Steve Bendelack',\n",
       " 'Bruce A. Evans',\n",
       " 'Kirsten Sheridan',\n",
       " 'Joby Harold',\n",
       " 'Philip G. Atwell',\n",
       " 'Mennan Yapo',\n",
       " 'Michael Davis',\n",
       " 'Ash Brannon',\n",
       " 'Xavier Gens',\n",
       " 'Eli Roth',\n",
       " 'Jason Eisener',\n",
       " 'David Schwimmer',\n",
       " 'Dave Meyers',\n",
       " 'Chris Sivertson',\n",
       " 'Michael Haneke',\n",
       " 'Sidney Lumet',\n",
       " 'Fred Savage',\n",
       " 'Russell Mulcahy',\n",
       " 'Michael Winterbottom',\n",
       " 'Stephen Hopkins',\n",
       " 'James Foley',\n",
       " 'Mark Helfrich',\n",
       " 'Jon Kasdan',\n",
       " 'Shari Springer Berman',\n",
       " 'Robert Pulcini',\n",
       " 'James Gray',\n",
       " 'Peter Hedges',\n",
       " 'Roland JoffÃ©',\n",
       " 'Amy Heckerling',\n",
       " 'Susanne Bier',\n",
       " 'Alastair Fothergill',\n",
       " 'Mark Linfield',\n",
       " 'Doug Lefler',\n",
       " 'Wong Kar-wai',\n",
       " 'Sylvain White',\n",
       " 'David Leland',\n",
       " 'Chris Rock',\n",
       " 'Peter Webber',\n",
       " 'Feng Xiaogang',\n",
       " 'Ben Garant',\n",
       " 'Ralph Zondag',\n",
       " 'Eric Leighton',\n",
       " 'David McNally',\n",
       " 'Ben Younger',\n",
       " 'Don Michael Paul',\n",
       " 'Mimi Leder',\n",
       " 'Paul Verhoeven',\n",
       " 'Mary Harron',\n",
       " 'Lars von Trier',\n",
       " 'Roger Spottiswoode',\n",
       " 'Antony Hoffman',\n",
       " 'Stephen T. Kay',\n",
       " 'Don Bluth',\n",
       " 'Gary Goldman',\n",
       " 'John Frankenheimer',\n",
       " 'Edward Norton',\n",
       " 'Jack Sholder',\n",
       " 'Christian Duguay',\n",
       " 'David Raynr',\n",
       " 'Douglas Aarniokoski',\n",
       " 'Davis Guggenheim',\n",
       " 'Bonnie Hunt',\n",
       " 'Uli Edel',\n",
       " 'Des McAnuff',\n",
       " 'Diane Keaton',\n",
       " 'Mary Lambert']"
      ]
     },
     "execution_count": 143,
     "metadata": {},
     "output_type": "execute_result"
    }
   ],
   "source": [
    "# Создаем список всех режесеров\n",
    "tmp = list(Counter(pd.DataFrame(data['director'].str.split('|', expand=True)).values.ravel()))\n",
    "tmp"
   ]
  },
  {
   "cell_type": "code",
   "execution_count": 187,
   "metadata": {},
   "outputs": [
    {
     "data": {
      "text/plain": [
       "'Peter Jackson'"
      ]
     },
     "execution_count": 187,
     "metadata": {},
     "output_type": "execute_result"
    }
   ],
   "source": [
    "# Ищем режесера с наибольшими кассовыми сборами\n",
    "sum_profit = 0\n",
    "sum_max = 0\n",
    "Name_max = ''\n",
    "for i in tmp:\n",
    "    sum_profit = data[data.director.str.contains(str(i), na=False)].profit.sum()\n",
    "    if sum_max < sum_profit:\n",
    "        sum_max = sum_profit\n",
    "        Name_max = i\n",
    "Name_max"
   ]
  },
  {
   "cell_type": "markdown",
   "metadata": {
    "colab_type": "text",
    "id": "PsYC9FgRVp_a"
   },
   "source": [
    "# 14. Какой режисер снял больше всего фильмов в стиле Action?"
   ]
  },
  {
   "cell_type": "code",
   "execution_count": 184,
   "metadata": {
    "colab": {},
    "colab_type": "code",
    "id": "wd2M-wHeVp_b"
   },
   "outputs": [],
   "source": [
    "answers['14'] = 'Robert Rodriguez'"
   ]
  },
  {
   "cell_type": "code",
   "execution_count": 185,
   "metadata": {},
   "outputs": [],
   "source": [
    "# Создаем список всех режесеров\n",
    "tmp1 = list(Counter(pd.DataFrame(data['director'].str.split('|', expand=True)).values.ravel()))\n",
    "# создаем временный DataFrame только с фильмами Action\n",
    "tmp2 = data[data.genres.str.contains('Action', na=False)]"
   ]
  },
  {
   "cell_type": "code",
   "execution_count": 186,
   "metadata": {},
   "outputs": [
    {
     "data": {
      "text/plain": [
       "'Robert Rodriguez'"
      ]
     },
     "execution_count": 186,
     "metadata": {},
     "output_type": "execute_result"
    }
   ],
   "source": [
    "# Ищем режесера с наибольшим колличеством фильмов в стиле Action\n",
    "sum_genres = 0\n",
    "sum_max = 0\n",
    "Name_max = ''\n",
    "for i in tmp1:\n",
    "    sum_genres = len(tmp2[tmp2.director.str.contains(str(i), na=False)])\n",
    "    if sum_max < sum_genres:\n",
    "        sum_max = sum_genres\n",
    "        Name_max = i\n",
    "Name_max"
   ]
  },
  {
   "cell_type": "markdown",
   "metadata": {
    "colab_type": "text",
    "id": "PQ0KciD7Vp_f"
   },
   "source": [
    "# 15. Фильмы с каким актером принесли самые высокие кассовые сборы в 2012 году? "
   ]
  },
  {
   "cell_type": "code",
   "execution_count": 418,
   "metadata": {
    "colab": {},
    "colab_type": "code",
    "id": "aga62oeKVp_g"
   },
   "outputs": [],
   "source": [
    "answers['15'] = 'Tess Harper'"
   ]
  },
  {
   "cell_type": "code",
   "execution_count": 410,
   "metadata": {},
   "outputs": [],
   "source": [
    "# Создаем список всех актеров\n",
    "tmp = list(Counter(pd.DataFrame(data['cast'].str.split('|', expand=True)).values.ravel()))"
   ]
  },
  {
   "cell_type": "code",
   "execution_count": 415,
   "metadata": {},
   "outputs": [],
   "source": [
    "# создаем временный DataFrame только с фильмами 2012г.\n",
    "data_new = data[data.release_year == 2012]"
   ]
  },
  {
   "cell_type": "code",
   "execution_count": 417,
   "metadata": {},
   "outputs": [
    {
     "data": {
      "text/plain": [
       "'Tess Harper'"
      ]
     },
     "execution_count": 417,
     "metadata": {},
     "output_type": "execute_result"
    }
   ],
   "source": [
    "# Ищем актера \n",
    "sum_cast = 0\n",
    "sum_max = 0\n",
    "Name_max = ''\n",
    "for i in tmp:\n",
    "    sum_cast = data[data.cast.str.contains(str(i), na=False)].revenue.max()\n",
    "    if sum_max < sum_cast:\n",
    "        sum_max = sum_genres\n",
    "        Name_max = i\n",
    "Name_max"
   ]
  },
  {
   "cell_type": "markdown",
   "metadata": {
    "colab_type": "text",
    "id": "mWHyyL7QVp_j"
   },
   "source": [
    "# 16. Какой актер снялся в большем количестве высокобюджетных фильмов?"
   ]
  },
  {
   "cell_type": "code",
   "execution_count": 202,
   "metadata": {
    "colab": {},
    "colab_type": "code",
    "id": "qQtmHKTFVp_k"
   },
   "outputs": [],
   "source": [
    "answers['16'] = 'Matt Damon'"
   ]
  },
  {
   "cell_type": "code",
   "execution_count": 198,
   "metadata": {},
   "outputs": [],
   "source": [
    "# Создаем список всех актеров\n",
    "tmp1 = list(Counter(pd.DataFrame(data['cast'].str.split('|', expand=True)).values.ravel()))\n",
    "# создаем временный DataFrame только с фильмами, бюджет которых выше среднего\n",
    "tmp2 = data[data.budget > data.budget.mean()]"
   ]
  },
  {
   "cell_type": "code",
   "execution_count": 201,
   "metadata": {},
   "outputs": [
    {
     "data": {
      "text/plain": [
       "'Matt Damon'"
      ]
     },
     "execution_count": 201,
     "metadata": {},
     "output_type": "execute_result"
    }
   ],
   "source": [
    "# Ищем актера\n",
    "sum_baget = 0\n",
    "sum_max = 0\n",
    "Name_max = ''\n",
    "for i in tmp1:\n",
    "    sum_baget = len(tmp2[tmp2.cast.str.contains(str(i), na=False)])\n",
    "    if sum_max < sum_baget:\n",
    "        sum_max = sum_baget\n",
    "        Name_max = i\n",
    "Name_max"
   ]
  },
  {
   "cell_type": "markdown",
   "metadata": {
    "colab_type": "text",
    "id": "NIh6AaW5Vp_n"
   },
   "source": [
    "# 17. В фильмах какого жанра больше всего снимался Nicolas Cage? "
   ]
  },
  {
   "cell_type": "code",
   "execution_count": 372,
   "metadata": {
    "colab": {},
    "colab_type": "code",
    "id": "H74SJDIBVp_n"
   },
   "outputs": [],
   "source": [
    "answers['17'] = 'Drama'"
   ]
  },
  {
   "cell_type": "code",
   "execution_count": 204,
   "metadata": {},
   "outputs": [],
   "source": [
    "# создаем временный DataFrame только с фильмами, где участвовал Nicolas Cage\n",
    "tmp = data[data.cast.str.contains('Nicolas Cage', na=False)]"
   ]
  },
  {
   "cell_type": "code",
   "execution_count": 371,
   "metadata": {},
   "outputs": [
    {
     "data": {
      "text/plain": [
       "NaN                3425\n",
       "Drama               560\n",
       "Comedy              551\n",
       "Thriller            446\n",
       "Action              443\n",
       "Adventure           337\n",
       "Romance             242\n",
       "Crime               231\n",
       "Family              226\n",
       "Science Fiction     195\n",
       "Fantasy             188\n",
       "Horror              150\n",
       "Animation           120\n",
       "Mystery             119\n",
       "Music                47\n",
       "History              46\n",
       "War                  40\n",
       "Western              12\n",
       "Documentary           7\n",
       "dtype: int64"
      ]
     },
     "execution_count": 371,
     "metadata": {},
     "output_type": "execute_result"
    }
   ],
   "source": [
    "# Создаем Series с развернутым списком и колличеством элементов genres\n",
    "tmp = pd.Series(Counter(pd.DataFrame(tmp['genres'].str.split('|', expand=True)).values.ravel()))\n",
    "# фильтруем Series\n",
    "tmp.sort_values(ascending=False)"
   ]
  },
  {
   "cell_type": "markdown",
   "metadata": {
    "colab_type": "text",
    "id": "RqOmPRfWVp_q"
   },
   "source": [
    "# 18. Самый убыточный фильм от Paramount Pictures"
   ]
  },
  {
   "cell_type": "code",
   "execution_count": 212,
   "metadata": {},
   "outputs": [],
   "source": [
    "answers['18'] = 'Next (tt0435705)'"
   ]
  },
  {
   "cell_type": "code",
   "execution_count": 213,
   "metadata": {
    "colab": {},
    "colab_type": "code",
    "id": "9E_B0Y96Vp_r"
   },
   "outputs": [],
   "source": [
    "# создаем временный DataFrame только с фильмами, где участвовал Paramount Pictures\n",
    "tmp = data[data.production_companies.str.contains('Paramount Pictures', na=False)]"
   ]
  },
  {
   "cell_type": "code",
   "execution_count": 211,
   "metadata": {},
   "outputs": [
    {
     "data": {
      "text/html": [
       "<div>\n",
       "<style scoped>\n",
       "    .dataframe tbody tr th:only-of-type {\n",
       "        vertical-align: middle;\n",
       "    }\n",
       "\n",
       "    .dataframe tbody tr th {\n",
       "        vertical-align: top;\n",
       "    }\n",
       "\n",
       "    .dataframe thead th {\n",
       "        text-align: right;\n",
       "    }\n",
       "</style>\n",
       "<table border=\"1\" class=\"dataframe\">\n",
       "  <thead>\n",
       "    <tr style=\"text-align: right;\">\n",
       "      <th></th>\n",
       "      <th>imdb_id</th>\n",
       "      <th>budget</th>\n",
       "      <th>revenue</th>\n",
       "      <th>original_title</th>\n",
       "      <th>cast</th>\n",
       "      <th>director</th>\n",
       "      <th>tagline</th>\n",
       "      <th>overview</th>\n",
       "      <th>runtime</th>\n",
       "      <th>genres</th>\n",
       "      <th>production_companies</th>\n",
       "      <th>release_date</th>\n",
       "      <th>vote_average</th>\n",
       "      <th>release_year</th>\n",
       "      <th>profit</th>\n",
       "    </tr>\n",
       "  </thead>\n",
       "  <tbody>\n",
       "    <tr>\n",
       "      <th>1722</th>\n",
       "      <td>tt0435705</td>\n",
       "      <td>70000000</td>\n",
       "      <td>18211013</td>\n",
       "      <td>Next</td>\n",
       "      <td>Nicolas Cage|Julianne Moore|Jessica Biel|Thoma...</td>\n",
       "      <td>Lee Tamahori</td>\n",
       "      <td>If you can see the future, you can save it.</td>\n",
       "      <td>Las Vegas showroom magician Cris Johnson has a...</td>\n",
       "      <td>96</td>\n",
       "      <td>Action|Science Fiction|Thriller</td>\n",
       "      <td>Paramount Pictures|Virtual Studios|Revolution ...</td>\n",
       "      <td>4/24/2007</td>\n",
       "      <td>5.9</td>\n",
       "      <td>2007</td>\n",
       "      <td>-51788987</td>\n",
       "    </tr>\n",
       "  </tbody>\n",
       "</table>\n",
       "</div>"
      ],
      "text/plain": [
       "        imdb_id    budget   revenue original_title  \\\n",
       "1722  tt0435705  70000000  18211013           Next   \n",
       "\n",
       "                                                   cast      director  \\\n",
       "1722  Nicolas Cage|Julianne Moore|Jessica Biel|Thoma...  Lee Tamahori   \n",
       "\n",
       "                                          tagline  \\\n",
       "1722  If you can see the future, you can save it.   \n",
       "\n",
       "                                               overview  runtime  \\\n",
       "1722  Las Vegas showroom magician Cris Johnson has a...       96   \n",
       "\n",
       "                               genres  \\\n",
       "1722  Action|Science Fiction|Thriller   \n",
       "\n",
       "                                   production_companies release_date  \\\n",
       "1722  Paramount Pictures|Virtual Studios|Revolution ...    4/24/2007   \n",
       "\n",
       "      vote_average  release_year    profit  \n",
       "1722           5.9          2007 -51788987  "
      ]
     },
     "execution_count": 211,
     "metadata": {},
     "output_type": "execute_result"
    }
   ],
   "source": [
    "tmp[tmp.profit == tmp.profit.min()]"
   ]
  },
  {
   "cell_type": "markdown",
   "metadata": {
    "colab_type": "text",
    "id": "vS8Ur6ddVp_u"
   },
   "source": [
    "# 19. Какой год стал самым успешным по суммарным кассовым сборам?"
   ]
  },
  {
   "cell_type": "code",
   "execution_count": 215,
   "metadata": {},
   "outputs": [],
   "source": [
    "answers['19'] = '2015'"
   ]
  },
  {
   "cell_type": "code",
   "execution_count": 214,
   "metadata": {
    "colab": {},
    "colab_type": "code",
    "id": "Dnbt4GdIVp_v"
   },
   "outputs": [
    {
     "data": {
      "text/plain": [
       "release_year\n",
       "2000    10664099805\n",
       "2001    13017764865\n",
       "2002    14136361487\n",
       "2003    14346123312\n",
       "2004    15663430720\n",
       "2005    15309425558\n",
       "2006    14775042320\n",
       "2007    18162406801\n",
       "2008    18252781990\n",
       "2009    20261791024\n",
       "2010    21071204961\n",
       "2011    22676791872\n",
       "2012    23079001687\n",
       "2013    23213799791\n",
       "2014    23405862953\n",
       "2015    25449202382\n",
       "Name: revenue, dtype: int64"
      ]
     },
     "execution_count": 214,
     "metadata": {},
     "output_type": "execute_result"
    }
   ],
   "source": [
    "data.groupby(['release_year'])['revenue'].sum()"
   ]
  },
  {
   "cell_type": "markdown",
   "metadata": {
    "colab_type": "text",
    "id": "JAzJh4QAVp_z"
   },
   "source": [
    "# 20. Какой самый прибыльный год для студии Warner Bros?"
   ]
  },
  {
   "cell_type": "code",
   "execution_count": 281,
   "metadata": {},
   "outputs": [],
   "source": [
    "answers['20'] = '2014'"
   ]
  },
  {
   "cell_type": "code",
   "execution_count": 217,
   "metadata": {
    "colab": {},
    "colab_type": "code",
    "id": "wgVu02DEVp_0"
   },
   "outputs": [],
   "source": [
    "# создаем временный DataFrame только с фильмами, где участвовал Warner Bros\n",
    "tmp = data[data.production_companies.str.contains('Warner Bros', na=False)]"
   ]
  },
  {
   "cell_type": "code",
   "execution_count": 218,
   "metadata": {},
   "outputs": [
    {
     "data": {
      "text/plain": [
       "release_year\n",
       "2000    1025531386\n",
       "2001    2266545668\n",
       "2002    1702709901\n",
       "2003    2745493377\n",
       "2004    2731933725\n",
       "2005    2412980298\n",
       "2006    1521170743\n",
       "2007    3183675217\n",
       "2008    3050595031\n",
       "2009    2737954136\n",
       "2010    3008712985\n",
       "2011    2845393682\n",
       "2012    1869520056\n",
       "2013    2599953400\n",
       "2014    3243064519\n",
       "2015    1691168351\n",
       "Name: revenue, dtype: int64"
      ]
     },
     "execution_count": 218,
     "metadata": {},
     "output_type": "execute_result"
    }
   ],
   "source": [
    "tmp.groupby(['release_year'])['revenue'].sum()"
   ]
  },
  {
   "cell_type": "markdown",
   "metadata": {
    "colab_type": "text",
    "id": "8Im1S2HRVp_4"
   },
   "source": [
    "# 21. В каком месяце за все годы суммарно вышло больше всего фильмов?"
   ]
  },
  {
   "cell_type": "code",
   "execution_count": 273,
   "metadata": {
    "colab": {},
    "colab_type": "code",
    "id": "lev6TH7gVp_4"
   },
   "outputs": [],
   "source": [
    "answers['21'] = '9'"
   ]
  },
  {
   "cell_type": "code",
   "execution_count": 256,
   "metadata": {},
   "outputs": [
    {
     "data": {
      "text/plain": [
       "{1: 0, 2: 0, 3: 0, 4: 0, 5: 0, 6: 0, 7: 0, 8: 0, 9: 0, 10: 0, 11: 0, 12: 0}"
      ]
     },
     "execution_count": 256,
     "metadata": {},
     "output_type": "execute_result"
    }
   ],
   "source": [
    "# создаем словарь с номерами месяцев\n",
    "month = dict.fromkeys([1, 2, 3, 4, 5, 6, 7, 8, 9, 10, 11, 12], 0)\n",
    "month"
   ]
  },
  {
   "cell_type": "code",
   "execution_count": 268,
   "metadata": {},
   "outputs": [],
   "source": [
    "# создаем функцию фильтрации счетом\n",
    "def sum_month(x):\n",
    "    month_tmp = str(x).split('/')\n",
    "    month[int(month_tmp[0])] += 1\n",
    "    return x\n"
   ]
  },
  {
   "cell_type": "code",
   "execution_count": 269,
   "metadata": {},
   "outputs": [
    {
     "data": {
      "text/plain": [
       "0         6/9/2015\n",
       "1        5/13/2015\n",
       "2        3/18/2015\n",
       "3       12/15/2015\n",
       "4         4/1/2015\n",
       "           ...    \n",
       "1884     7/13/2000\n",
       "1885    10/27/2000\n",
       "1886     6/30/2000\n",
       "1887     2/16/2000\n",
       "1888     7/19/2000\n",
       "Name: release_date, Length: 1889, dtype: object"
      ]
     },
     "execution_count": 269,
     "metadata": {},
     "output_type": "execute_result"
    }
   ],
   "source": [
    "# применяем функцию фильтрации счетом к DataFrame\n",
    "data.release_date.apply(sum_month)"
   ]
  },
  {
   "cell_type": "code",
   "execution_count": 270,
   "metadata": {},
   "outputs": [
    {
     "data": {
      "text/plain": [
       "{1: 110,\n",
       " 2: 135,\n",
       " 3: 156,\n",
       " 4: 149,\n",
       " 5: 140,\n",
       " 6: 147,\n",
       " 7: 142,\n",
       " 8: 161,\n",
       " 9: 227,\n",
       " 10: 186,\n",
       " 11: 146,\n",
       " 12: 190}"
      ]
     },
     "execution_count": 270,
     "metadata": {},
     "output_type": "execute_result"
    }
   ],
   "source": [
    "# Смотрим результат\n",
    "month"
   ]
  },
  {
   "cell_type": "markdown",
   "metadata": {
    "colab_type": "text",
    "id": "uAJsZ_NeVp_7"
   },
   "source": [
    "# 22. Сколько суммарно вышло фильмов летом? (за июнь, июль, август)"
   ]
  },
  {
   "cell_type": "code",
   "execution_count": 275,
   "metadata": {
    "colab": {},
    "colab_type": "code",
    "id": "Aa-hEREoVp_8"
   },
   "outputs": [],
   "source": [
    "answers['22'] = '516'"
   ]
  },
  {
   "cell_type": "code",
   "execution_count": 274,
   "metadata": {},
   "outputs": [
    {
     "data": {
      "text/plain": [
       "516"
      ]
     },
     "execution_count": 274,
     "metadata": {},
     "output_type": "execute_result"
    }
   ],
   "source": [
    "# суммируем данные из предыдущего задантя\n",
    "sum_month = month[6] + month[7] + month[9]\n",
    "sum_month"
   ]
  },
  {
   "cell_type": "markdown",
   "metadata": {
    "colab_type": "text",
    "id": "G94ppOY1VqAA"
   },
   "source": [
    "# 23. Для какого режиссера зима – самое продуктивное время года? "
   ]
  },
  {
   "cell_type": "code",
   "execution_count": 300,
   "metadata": {
    "colab": {},
    "colab_type": "code",
    "id": "RhNTsamuVqAB"
   },
   "outputs": [],
   "source": [
    "answers['22'] = 'Clint Eastwood'"
   ]
  },
  {
   "cell_type": "code",
   "execution_count": 284,
   "metadata": {},
   "outputs": [],
   "source": [
    "# Создаем временные DataFrame с нужными месяцами\n",
    "tmp1 = data[data.release_date.str.match('1')]\n",
    "tmp2 = data[data.release_date.str.match('2')]\n",
    "tmp3 = data[data.release_date.str.match('12')]"
   ]
  },
  {
   "cell_type": "code",
   "execution_count": 285,
   "metadata": {},
   "outputs": [],
   "source": [
    "# Соединяем в один\n",
    "tmp = pd.concat([tmp1, tmp2, tmp3])"
   ]
  },
  {
   "cell_type": "code",
   "execution_count": 299,
   "metadata": {},
   "outputs": [
    {
     "data": {
      "text/plain": [
       "NaN                  10454\n",
       "Clint Eastwood          15\n",
       "Peter Jackson           15\n",
       "Steven Soderbergh       11\n",
       "Martin Scorsese          9\n",
       "                     ...  \n",
       "Terry Zwigoff            1\n",
       "Jon Favreau              1\n",
       "Josh Schwartz            1\n",
       "Anthony Hemingway        1\n",
       "Diane Keaton             1\n",
       "Length: 556, dtype: int64"
      ]
     },
     "execution_count": 299,
     "metadata": {},
     "output_type": "execute_result"
    }
   ],
   "source": [
    "# Создаем Series с развернутым списком и колличеством элементов, фильтруем его\n",
    "s = pd.Series(Counter(pd.DataFrame(tmp['director'].str.split('|', expand=True)).values.ravel()))\n",
    "s.sort_values(ascending=False)"
   ]
  },
  {
   "cell_type": "markdown",
   "metadata": {
    "colab_type": "text",
    "id": "RBo0JVjVVqAF"
   },
   "source": [
    "# 24. Какая студия дает самые длинные названия своим фильмам по количеству символов?"
   ]
  },
  {
   "cell_type": "code",
   "execution_count": 324,
   "metadata": {},
   "outputs": [],
   "source": [
    "# создаем функцию подсчета колличества символов\n",
    "def long_Name(x):\n",
    "    x = len(x)\n",
    "    return x"
   ]
  },
  {
   "cell_type": "code",
   "execution_count": 419,
   "metadata": {},
   "outputs": [
    {
     "data": {
      "text/plain": [
       "1448    83\n",
       "1314    62\n",
       "219     59\n",
       "1751    58\n",
       "385     56\n",
       "        ..\n",
       "1483     2\n",
       "714      2\n",
       "1172     2\n",
       "1282     2\n",
       "252      1\n",
       "Name: original_title, Length: 1889, dtype: int64"
      ]
     },
     "execution_count": 419,
     "metadata": {},
     "output_type": "execute_result"
    }
   ],
   "source": [
    "# применяем функцию и фильтруем результат\n",
    "tmp = data.original_title.apply(long_Name)\n",
    "# второй вариант через lambda \n",
    "tmp = data.original_title.apply(lambda x:len(x))\n",
    "\n",
    "tmp.sort_values(ascending=False)"
   ]
  },
  {
   "cell_type": "code",
   "execution_count": 335,
   "metadata": {},
   "outputs": [
    {
     "name": "stdout",
     "output_type": "stream",
     "text": [
      "imdb_id                                                         tt0389860\n",
      "budget                                                           82500000\n",
      "revenue                                                         237681299\n",
      "original_title                                                      Click\n",
      "cast                    Adam Sandler|Kate Beckinsale|Christopher Walke...\n",
      "director                                                     Frank Coraci\n",
      "tagline                 What If You Had A Remote... That Controlled Yo...\n",
      "overview                A workaholic architect finds a universal remot...\n",
      "runtime                                                               107\n",
      "genres                                       Comedy|Drama|Fantasy|Romance\n",
      "production_companies    Original Film|Columbia Pictures Corporation|Re...\n",
      "release_date                                                    6/22/2006\n",
      "vote_average                                                          5.9\n",
      "release_year                                                         2006\n",
      "Name: 1449, dtype: object\n"
     ]
    }
   ],
   "source": [
    "# смотрим результат\n",
    "print(data.iloc[1448])"
   ]
  },
  {
   "cell_type": "markdown",
   "metadata": {
    "colab_type": "text",
    "id": "9G0hbvR7VqAK"
   },
   "source": [
    "# 25. Описание фильмов какой студии в среднем самые длинные по количеству слов?"
   ]
  },
  {
   "cell_type": "code",
   "execution_count": 0,
   "metadata": {
    "colab": {},
    "colab_type": "code",
    "id": "Ge2GsLNxVqAK"
   },
   "outputs": [],
   "source": [
    "# ввиду загруженности на работе не хватило времени"
   ]
  },
  {
   "cell_type": "markdown",
   "metadata": {
    "colab_type": "text",
    "id": "FJ1AFt90VqAP"
   },
   "source": [
    "# 26. Какие фильмы входят в 1 процент лучших по рейтингу? \n",
    "по vote_average"
   ]
  },
  {
   "cell_type": "code",
   "execution_count": 0,
   "metadata": {
    "colab": {},
    "colab_type": "code",
    "id": "8qmJVq4CVqAQ"
   },
   "outputs": [],
   "source": [
    "# ввиду загруженности на работе не хватило времени"
   ]
  },
  {
   "cell_type": "markdown",
   "metadata": {
    "colab_type": "text",
    "id": "MdXsUXbCVqAV"
   },
   "source": [
    "# 27. Какие актеры чаще всего снимаются в одном фильме вместе?\n"
   ]
  },
  {
   "cell_type": "markdown",
   "metadata": {
    "colab_type": "text",
    "id": "4ymnxEVoVqAW"
   },
   "source": [
    "ВАРИАНТ 2"
   ]
  },
  {
   "cell_type": "code",
   "execution_count": null,
   "metadata": {},
   "outputs": [],
   "source": []
  },
  {
   "cell_type": "markdown",
   "metadata": {},
   "source": [
    "##  Прошу простить за то, что пришло на день позже, выкладывал поздно ночью и забыл нажать \"Отправить ответ на проверку\""
   ]
  },
  {
   "cell_type": "markdown",
   "metadata": {},
   "source": [
    "## Зарание благодарю"
   ]
  },
  {
   "cell_type": "code",
   "execution_count": null,
   "metadata": {},
   "outputs": [],
   "source": []
  },
  {
   "cell_type": "markdown",
   "metadata": {
    "colab_type": "text",
    "id": "U0nONFnGVqAX"
   },
   "source": [
    "# Submission"
   ]
  },
  {
   "cell_type": "code",
   "execution_count": 336,
   "metadata": {
    "colab": {},
    "colab_type": "code",
    "id": "IfcaRO9-VqAX",
    "outputId": "0f132912-32bb-4196-c98c-abfbc4ad5a5f"
   },
   "outputs": [
    {
     "data": {
      "text/plain": [
       "{'1': 'Pirates of the Caribbean: On Stranger Tide (tt1298650)',\n",
       " '2': 'Gods and Generals (tt0279111)',\n",
       " '3': 'Winnie the Pooh (tt1449283)',\n",
       " '4': '109.6585494970884',\n",
       " '5': '107.0',\n",
       " '6': 'Avatar (tt0499549)',\n",
       " '7': 'The Lone Ranger (tt1210819)',\n",
       " '8': '1478',\n",
       " '9': 'The Dark Knight (tt0468569)',\n",
       " '13': 'Peter Jackson',\n",
       " '14': 'Emma Watson',\n",
       " '15': 'Emma Watson',\n",
       " '16': 'Matt Damon',\n",
       " '17': 'Action',\n",
       " '18': 'Next (tt0435705)',\n",
       " '19': '2015',\n",
       " '20': '2014',\n",
       " '21': '9',\n",
       " '22': 'Clint Eastwood',\n",
       " '10': 'The Lone Ranger (tt1210819)',\n",
       " '11': 'Drama',\n",
       " '12': 'Western'}"
      ]
     },
     "execution_count": 336,
     "metadata": {},
     "output_type": "execute_result"
    }
   ],
   "source": [
    "# в конце можно посмотреть свои ответы к каждому вопросу\n",
    "answers"
   ]
  },
  {
   "cell_type": "code",
   "execution_count": 283,
   "metadata": {
    "colab": {},
    "colab_type": "code",
    "id": "SiRmHPl8VqAd"
   },
   "outputs": [
    {
     "data": {
      "text/plain": [
       "22"
      ]
     },
     "execution_count": 283,
     "metadata": {},
     "output_type": "execute_result"
    }
   ],
   "source": [
    "# и убедиться что ни чего не пропустил)\n",
    "len(answers)"
   ]
  },
  {
   "cell_type": "code",
   "execution_count": 0,
   "metadata": {
    "colab": {},
    "colab_type": "code",
    "id": "uCfuTkRbVqAg"
   },
   "outputs": [],
   "source": []
  },
  {
   "cell_type": "code",
   "execution_count": 0,
   "metadata": {
    "colab": {},
    "colab_type": "code",
    "id": "Vwx3NrkSVqAl"
   },
   "outputs": [],
   "source": []
  }
 ],
 "metadata": {
  "colab": {
   "name": "Copy of [SF-DST] Movies IMBD v4.1 TEMPLATE.ipynb",
   "provenance": []
  },
  "kernelspec": {
   "display_name": "Python 3",
   "language": "python",
   "name": "python3"
  },
  "language_info": {
   "codemirror_mode": {
    "name": "ipython",
    "version": 3
   },
   "file_extension": ".py",
   "mimetype": "text/x-python",
   "name": "python",
   "nbconvert_exporter": "python",
   "pygments_lexer": "ipython3",
   "version": "3.8.10"
  }
 },
 "nbformat": 4,
 "nbformat_minor": 1
}
