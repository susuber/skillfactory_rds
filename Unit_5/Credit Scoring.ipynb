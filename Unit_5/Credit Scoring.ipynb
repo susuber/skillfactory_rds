{
 "metadata": {
  "kernelspec": {
   "language": "python",
   "display_name": "Python 3",
   "name": "python3"
  },
  "language_info": {
   "name": "python",
   "version": "3.7.12",
   "mimetype": "text/x-python",
   "codemirror_mode": {
    "name": "ipython",
    "version": 3
   },
   "pygments_lexer": "ipython3",
   "nbconvert_exporter": "python",
   "file_extension": ".py"
  }
 },
 "nbformat_minor": 4,
 "nbformat": 4,
 "cells": [
  {
   "cell_type": "markdown",
   "source": [
    "# Описание Датасета:\n",
    "* client_id - идентификатор клиента\n",
    "* education - уровень образования\n",
    "* sex - пол заемщика\n",
    "* age - возраст заемщика\n",
    "* car - флаг наличия автомобиля\n",
    "* car_type - флаг автомобиля иномарки\n",
    "* decline_app_cnt - количество отказанных прошлых заявок\n",
    "* good_work - флаг наличия “хорошей” работы\n",
    "* bki_request_cnt - количество запросов в БКИ\n",
    "* home_address - категоризация домашнего адреса\n",
    "* work_address - категоризация рабочего адреса\n",
    "* income - доход заемщика\n",
    "* foreign_passport - наличие загранпаспорта\n",
    "* sna - связь заемщика с клиентами банка\n",
    "* first_time - давность наличия информации о заемщике\n",
    "* score_bki - скоринговый балл по данным из БКИ\n",
    "* region_rating - рейтинг региона\n",
    "* app_date - дата подачи заявки\n",
    "* default - флаг дефолта по кредиту "
   ],
   "metadata": {}
  },
  {
   "cell_type": "markdown",
   "source": [
    "# Import"
   ],
   "metadata": {}
  },
  {
   "cell_type": "code",
   "source": [
    "import pandas as pd \n",
    "import numpy as np\n",
    "import seaborn as sns\n",
    "import matplotlib.pyplot as plt\n",
    "from datetime import datetime\n",
    "from sklearn.feature_selection import f_classif\n",
    "from sklearn.preprocessing import LabelEncoder\n",
    "from sklearn.preprocessing import StandardScaler\n",
    "from sklearn.model_selection import train_test_split\n",
    "from sklearn.linear_model import LogisticRegression\n",
    "from sklearn.metrics import confusion_matrix\n",
    "from sklearn.metrics import roc_auc_score\n",
    "from sklearn.metrics import roc_curve\n",
    "from sklearn.model_selection import KFold\n",
    "from sklearn.metrics import accuracy_score, precision_score, recall_score, f1_score\n",
    "from sklearn.model_selection import StratifiedKFold\n",
    "from sklearn.linear_model import SGDClassifier\n",
    "from sklearn.model_selection import GridSearchCV\n",
    "from sklearn.preprocessing import RobustScaler\n",
    "from imblearn.under_sampling import RandomUnderSampler\n",
    "import warnings\n"
   ],
   "metadata": {
    "execution": {
     "iopub.status.busy": "2022-01-11T18:09:26.140029Z",
     "iopub.execute_input": "2022-01-11T18:09:26.141324Z",
     "iopub.status.idle": "2022-01-11T18:09:26.160514Z",
     "shell.execute_reply.started": "2022-01-11T18:09:26.14122Z",
     "shell.execute_reply": "2022-01-11T18:09:26.159161Z"
    },
    "trusted": true
   },
   "execution_count": null,
   "outputs": []
  },
  {
   "cell_type": "markdown",
   "source": [
    "# Functions"
   ],
   "metadata": {}
  },
  {
   "cell_type": "code",
   "source": [
    "def education_num(value):\n",
    "    if value == 'SCH':\n",
    "        return 1\n",
    "    elif value == 'GRD':\n",
    "        return 2\n",
    "    elif value == 'UGR':\n",
    "        return 3\n",
    "    elif value == 'PGR':\n",
    "        return 4\n",
    "    elif value == 'ACD':\n",
    "        return 5\n",
    "    else:\n",
    "        return 0"
   ],
   "metadata": {
    "execution": {
     "iopub.status.busy": "2022-01-11T18:09:26.164Z",
     "iopub.execute_input": "2022-01-11T18:09:26.164401Z",
     "iopub.status.idle": "2022-01-11T18:09:26.176171Z",
     "shell.execute_reply.started": "2022-01-11T18:09:26.164353Z",
     "shell.execute_reply": "2022-01-11T18:09:26.174823Z"
    },
    "trusted": true
   },
   "execution_count": null,
   "outputs": []
  },
  {
   "cell_type": "code",
   "source": [
    "def cross_plot(series_1, series_2):\n",
    "    pt = pd.crosstab([series_1], series_2)\n",
    "    display(pt)\n",
    "    pt.plot(kind='bar', title=series_2.name)"
   ],
   "metadata": {
    "execution": {
     "iopub.status.busy": "2022-01-11T18:09:26.178093Z",
     "iopub.execute_input": "2022-01-11T18:09:26.17866Z",
     "iopub.status.idle": "2022-01-11T18:09:26.192857Z",
     "shell.execute_reply.started": "2022-01-11T18:09:26.17861Z",
     "shell.execute_reply": "2022-01-11T18:09:26.192016Z"
    },
    "trusted": true
   },
   "execution_count": null,
   "outputs": []
  },
  {
   "cell_type": "code",
   "source": [
    "def time(value):\n",
    "    date = datetime.strptime(value, '%d%b%Y')\n",
    "    return date.timestamp()"
   ],
   "metadata": {
    "execution": {
     "iopub.status.busy": "2022-01-11T18:09:26.194544Z",
     "iopub.execute_input": "2022-01-11T18:09:26.195223Z",
     "iopub.status.idle": "2022-01-11T18:09:26.206771Z",
     "shell.execute_reply.started": "2022-01-11T18:09:26.195176Z",
     "shell.execute_reply": "2022-01-11T18:09:26.205556Z"
    },
    "trusted": true
   },
   "execution_count": null,
   "outputs": []
  },
  {
   "cell_type": "code",
   "source": [
    "def num_hist(series):\n",
    "    plt.figure()\n",
    "    sns.distplot(series)\n",
    "    plt.title(series.name)\n",
    "    plt.show()"
   ],
   "metadata": {
    "execution": {
     "iopub.status.busy": "2022-01-11T18:09:26.209176Z",
     "iopub.execute_input": "2022-01-11T18:09:26.209843Z",
     "iopub.status.idle": "2022-01-11T18:09:26.223195Z",
     "shell.execute_reply.started": "2022-01-11T18:09:26.209804Z",
     "shell.execute_reply": "2022-01-11T18:09:26.221831Z"
    },
    "trusted": true
   },
   "execution_count": null,
   "outputs": []
  },
  {
   "cell_type": "code",
   "source": [
    "def get_boxplot(data, column):\n",
    "    for col in list_numeric:\n",
    "        fig, ax = plt.subplots(figsize = (14, 4))\n",
    "        ax.set_title('Boxplot for ' + col)\n",
    "        sns.boxplot(x=data[col])"
   ],
   "metadata": {
    "execution": {
     "iopub.status.busy": "2022-01-11T18:09:26.225372Z",
     "iopub.execute_input": "2022-01-11T18:09:26.226291Z",
     "iopub.status.idle": "2022-01-11T18:09:26.235582Z",
     "shell.execute_reply.started": "2022-01-11T18:09:26.226254Z",
     "shell.execute_reply": "2022-01-11T18:09:26.234778Z"
    },
    "trusted": true
   },
   "execution_count": null,
   "outputs": []
  },
  {
   "cell_type": "code",
   "source": [
    "def log_num(data, columns):\n",
    "    for col in columns:\n",
    "        data[col] = data[col].apply(lambda x: np.log(x+1))\n",
    "    return data"
   ],
   "metadata": {
    "execution": {
     "iopub.status.busy": "2022-01-11T18:09:26.237367Z",
     "iopub.execute_input": "2022-01-11T18:09:26.238289Z",
     "iopub.status.idle": "2022-01-11T18:09:26.252591Z",
     "shell.execute_reply.started": "2022-01-11T18:09:26.238256Z",
     "shell.execute_reply": "2022-01-11T18:09:26.251778Z"
    },
    "trusted": true
   },
   "execution_count": null,
   "outputs": []
  },
  {
   "cell_type": "code",
   "source": [
    "def heatmap(data, columns, method):\n",
    "    corr = data[columns].corr(method=method)\n",
    "    mask = np.zeros_like(corr)\n",
    "    mask[np.triu_indices_from(mask)] = True\n",
    "    with sns.axes_style(\"white\"):\n",
    "        f, ax = plt.subplots(figsize=(10, 10))\n",
    "        ax = sns.heatmap(corr, mask=mask, annot=True, square=True, vmin=0, vmax=1)"
   ],
   "metadata": {
    "execution": {
     "iopub.status.busy": "2022-01-11T18:09:26.254226Z",
     "iopub.execute_input": "2022-01-11T18:09:26.255008Z",
     "iopub.status.idle": "2022-01-11T18:09:26.275097Z",
     "shell.execute_reply.started": "2022-01-11T18:09:26.254959Z",
     "shell.execute_reply": "2022-01-11T18:09:26.273944Z"
    },
    "trusted": true
   },
   "execution_count": null,
   "outputs": []
  },
  {
   "cell_type": "code",
   "source": [
    "def increase_data(data):\n",
    "    data_contact = data[data.default == 1]\n",
    "    for n in range(1,11):\n",
    "        data = pd.concat([data, data_contact])"
   ],
   "metadata": {
    "execution": {
     "iopub.status.busy": "2022-01-11T18:09:26.276565Z",
     "iopub.execute_input": "2022-01-11T18:09:26.277365Z",
     "iopub.status.idle": "2022-01-11T18:09:26.288708Z",
     "shell.execute_reply.started": "2022-01-11T18:09:26.277324Z",
     "shell.execute_reply": "2022-01-11T18:09:26.287727Z"
    },
    "trusted": true
   },
   "execution_count": null,
   "outputs": []
  },
  {
   "cell_type": "code",
   "source": [
    "def removal_condition(values):\n",
    "    global lower_lim\n",
    "    global upper_lim\n",
    "    if values < lower_lim:\n",
    "        return lower_lim\n",
    "    elif values > upper_lim:\n",
    "        return upper_lim\n",
    "    else:\n",
    "        return values"
   ],
   "metadata": {
    "execution": {
     "iopub.status.busy": "2022-01-11T18:09:26.294913Z",
     "iopub.execute_input": "2022-01-11T18:09:26.295589Z",
     "iopub.status.idle": "2022-01-11T18:09:26.304493Z",
     "shell.execute_reply.started": "2022-01-11T18:09:26.295552Z",
     "shell.execute_reply": "2022-01-11T18:09:26.303537Z"
    },
    "trusted": true
   },
   "execution_count": null,
   "outputs": []
  },
  {
   "cell_type": "code",
   "source": [
    "def remove_outliers(data, columns):\n",
    "    global lower_lim\n",
    "    global upper_lim\n",
    "    for col in columns:\n",
    "        Q3 = np.quantile(data[col], 0.75)\n",
    "        Q1 = np.quantile(data[col], 0.25)\n",
    "        IQR = Q3 - Q1\n",
    "        lower_lim = Q1 - (1.5 * IQR)\n",
    "        upper_lim = Q3 + (1.5 * IQR)\n",
    "        data[col] = data[col].apply(removal_condition)\n",
    "    return data"
   ],
   "metadata": {
    "execution": {
     "iopub.status.busy": "2022-01-11T18:09:26.306392Z",
     "iopub.execute_input": "2022-01-11T18:09:26.306991Z",
     "iopub.status.idle": "2022-01-11T18:09:26.318816Z",
     "shell.execute_reply.started": "2022-01-11T18:09:26.306954Z",
     "shell.execute_reply": "2022-01-11T18:09:26.318138Z"
    },
    "trusted": true
   },
   "execution_count": null,
   "outputs": []
  },
  {
   "cell_type": "markdown",
   "source": [
    "# Data"
   ],
   "metadata": {}
  },
  {
   "cell_type": "code",
   "source": [
    "import os\n",
    "for dirname, _, filenames in os.walk('/kaggle/input'):\n",
    "    for filename in filenames:\n",
    "        print(os.path.join(dirname, filename))"
   ],
   "metadata": {
    "execution": {
     "iopub.status.busy": "2022-01-11T18:09:26.320203Z",
     "iopub.execute_input": "2022-01-11T18:09:26.321089Z",
     "iopub.status.idle": "2022-01-11T18:09:26.340862Z",
     "shell.execute_reply.started": "2022-01-11T18:09:26.321023Z",
     "shell.execute_reply": "2022-01-11T18:09:26.339836Z"
    },
    "trusted": true
   },
   "execution_count": null,
   "outputs": []
  },
  {
   "cell_type": "code",
   "source": [
    "warnings.filterwarnings(\"ignore\")"
   ],
   "metadata": {
    "execution": {
     "iopub.status.busy": "2022-01-11T18:09:26.34263Z",
     "iopub.execute_input": "2022-01-11T18:09:26.343733Z",
     "iopub.status.idle": "2022-01-11T18:09:26.349456Z",
     "shell.execute_reply.started": "2022-01-11T18:09:26.343685Z",
     "shell.execute_reply": "2022-01-11T18:09:26.348505Z"
    },
    "trusted": true
   },
   "execution_count": null,
   "outputs": []
  },
  {
   "cell_type": "code",
   "source": [
    "DATA_DIR = '/kaggle/input/sf-scoring/'\n",
    "#DATA_DIR = './data'\n",
    "df_train = pd.read_csv(DATA_DIR +'/train.csv')\n",
    "df_test = pd.read_csv(DATA_DIR +'/test.csv')\n",
    "sample_submission = pd.read_csv(DATA_DIR+'/sample_submission.csv')"
   ],
   "metadata": {
    "execution": {
     "iopub.status.busy": "2022-01-11T18:09:26.351384Z",
     "iopub.execute_input": "2022-01-11T18:09:26.352094Z",
     "iopub.status.idle": "2022-01-11T18:09:26.731761Z",
     "shell.execute_reply.started": "2022-01-11T18:09:26.352026Z",
     "shell.execute_reply": "2022-01-11T18:09:26.730962Z"
    },
    "trusted": true
   },
   "execution_count": null,
   "outputs": []
  },
  {
   "cell_type": "code",
   "source": [
    "df_train.info()"
   ],
   "metadata": {
    "execution": {
     "iopub.status.busy": "2022-01-11T18:09:26.733332Z",
     "iopub.execute_input": "2022-01-11T18:09:26.733852Z",
     "iopub.status.idle": "2022-01-11T18:09:26.808674Z",
     "shell.execute_reply.started": "2022-01-11T18:09:26.733807Z",
     "shell.execute_reply": "2022-01-11T18:09:26.807678Z"
    },
    "trusted": true
   },
   "execution_count": null,
   "outputs": []
  },
  {
   "cell_type": "code",
   "source": [
    "df_test.info()"
   ],
   "metadata": {
    "execution": {
     "iopub.status.busy": "2022-01-11T18:09:26.810159Z",
     "iopub.execute_input": "2022-01-11T18:09:26.81037Z",
     "iopub.status.idle": "2022-01-11T18:09:26.857298Z",
     "shell.execute_reply.started": "2022-01-11T18:09:26.810344Z",
     "shell.execute_reply": "2022-01-11T18:09:26.854141Z"
    },
    "trusted": true
   },
   "execution_count": null,
   "outputs": []
  },
  {
   "cell_type": "code",
   "source": [
    "df_train['sample'] = 1\n",
    "df_test['sample'] = 0\n",
    "df_test['default'] = 0 \n",
    "data = df_test.append(df_train, sort=False).reset_index(drop=True)"
   ],
   "metadata": {
    "execution": {
     "iopub.status.busy": "2022-01-11T18:09:26.858727Z",
     "iopub.execute_input": "2022-01-11T18:09:26.85898Z",
     "iopub.status.idle": "2022-01-11T18:09:26.930626Z",
     "shell.execute_reply.started": "2022-01-11T18:09:26.858949Z",
     "shell.execute_reply": "2022-01-11T18:09:26.929957Z"
    },
    "trusted": true
   },
   "execution_count": null,
   "outputs": []
  },
  {
   "cell_type": "markdown",
   "source": [
    "# EDA"
   ],
   "metadata": {}
  },
  {
   "cell_type": "code",
   "source": [
    "data.sample(10)"
   ],
   "metadata": {
    "execution": {
     "iopub.status.busy": "2022-01-11T18:09:26.932118Z",
     "iopub.execute_input": "2022-01-11T18:09:26.932444Z",
     "iopub.status.idle": "2022-01-11T18:09:26.967113Z",
     "shell.execute_reply.started": "2022-01-11T18:09:26.932399Z",
     "shell.execute_reply": "2022-01-11T18:09:26.965944Z"
    },
    "trusted": true
   },
   "execution_count": null,
   "outputs": []
  },
  {
   "cell_type": "code",
   "source": [
    "data.nunique(dropna=False)"
   ],
   "metadata": {
    "execution": {
     "iopub.status.busy": "2022-01-11T18:09:26.968608Z",
     "iopub.execute_input": "2022-01-11T18:09:26.969179Z",
     "iopub.status.idle": "2022-01-11T18:09:27.063278Z",
     "shell.execute_reply.started": "2022-01-11T18:09:26.969133Z",
     "shell.execute_reply": "2022-01-11T18:09:27.062324Z"
    },
    "trusted": true
   },
   "execution_count": null,
   "outputs": []
  },
  {
   "cell_type": "markdown",
   "source": [
    "Как видно имеются бинарные переменные: \n",
    "* sex\n",
    "* car\n",
    "* car_type\n",
    "* good_work\n",
    "* foreign_passport"
   ],
   "metadata": {}
  },
  {
   "cell_type": "code",
   "source": [
    "list_binary = ['sex', 'car', 'car_type', 'good_work', 'foreign_passport']"
   ],
   "metadata": {
    "execution": {
     "iopub.status.busy": "2022-01-11T18:09:27.064944Z",
     "iopub.execute_input": "2022-01-11T18:09:27.065377Z",
     "iopub.status.idle": "2022-01-11T18:09:27.069609Z",
     "shell.execute_reply.started": "2022-01-11T18:09:27.065341Z",
     "shell.execute_reply": "2022-01-11T18:09:27.068708Z"
    },
    "trusted": true
   },
   "execution_count": null,
   "outputs": []
  },
  {
   "cell_type": "code",
   "source": [
    "list_other_columns = set.difference(set(data.columns), set(list_binary), {'default', 'sample'})\n",
    "for i in list_other_columns:\n",
    "    print(f'column:                \\033[32m{i}\\033[0m')\n",
    "    print(f'Колличество значений:  {data[i].nunique()}')\n",
    "    print(f'Уникальные значения:   {data[i].unique()}\\n')"
   ],
   "metadata": {
    "execution": {
     "iopub.status.busy": "2022-01-11T18:09:27.071541Z",
     "iopub.execute_input": "2022-01-11T18:09:27.0721Z",
     "iopub.status.idle": "2022-01-11T18:09:27.172622Z",
     "shell.execute_reply.started": "2022-01-11T18:09:27.072042Z",
     "shell.execute_reply": "2022-01-11T18:09:27.171814Z"
    },
    "trusted": true
   },
   "execution_count": null,
   "outputs": []
  },
  {
   "cell_type": "markdown",
   "source": [
    "Из остальных переменных можно выделить\n",
    "\n",
    "категориальные переменные:\n",
    "* home_address\n",
    "* decline_app_cnt\n",
    "* first_time\n",
    "* education\n",
    "* region_rating\n",
    "* sna\n",
    "* work_address\n",
    "\n",
    "числовые переменные:\n",
    "* income\n",
    "* score_bki\n",
    "* age\n",
    "* bki_request_cnt\n",
    "\n",
    "даты:\n",
    "* app_date\n",
    "\n",
    "client_id не имеет смысла для модели"
   ],
   "metadata": {}
  },
  {
   "cell_type": "code",
   "source": [
    "list_сategorical = ['home_address', 'decline_app_cnt', 'first_time', \n",
    "                    'education', 'region_rating', 'sna', 'work_address']\n",
    "list_numeric = ['income', 'score_bki', 'age', 'bki_request_cnt']"
   ],
   "metadata": {
    "execution": {
     "iopub.status.busy": "2022-01-11T18:09:27.17424Z",
     "iopub.execute_input": "2022-01-11T18:09:27.174471Z",
     "iopub.status.idle": "2022-01-11T18:09:27.179188Z",
     "shell.execute_reply.started": "2022-01-11T18:09:27.174443Z",
     "shell.execute_reply": "2022-01-11T18:09:27.178344Z"
    },
    "trusted": true
   },
   "execution_count": null,
   "outputs": []
  },
  {
   "cell_type": "code",
   "source": [
    "sns.histplot(data.default)\n",
    "print(f'Отношение значений default: {round(len(data[data.default == 0]) / len(data[data.default == 1]), 2)}')"
   ],
   "metadata": {
    "execution": {
     "iopub.status.busy": "2022-01-11T18:09:27.180726Z",
     "iopub.execute_input": "2022-01-11T18:09:27.180982Z",
     "iopub.status.idle": "2022-01-11T18:09:27.598676Z",
     "shell.execute_reply.started": "2022-01-11T18:09:27.180955Z",
     "shell.execute_reply": "2022-01-11T18:09:27.597839Z"
    },
    "trusted": true
   },
   "execution_count": null,
   "outputs": []
  },
  {
   "cell_type": "markdown",
   "source": [
    "Имеется дисбаланс признаков. \n",
    "Скопируем default = 1 10 раз"
   ],
   "metadata": {}
  },
  {
   "cell_type": "code",
   "source": [
    "data_contact = data[data.default == 1]\n",
    "for n in range(1,11):\n",
    "    data = pd.concat([data, data_contact])"
   ],
   "metadata": {
    "execution": {
     "iopub.status.busy": "2022-01-11T18:09:27.603703Z",
     "iopub.execute_input": "2022-01-11T18:09:27.604141Z",
     "iopub.status.idle": "2022-01-11T18:09:27.782147Z",
     "shell.execute_reply.started": "2022-01-11T18:09:27.604089Z",
     "shell.execute_reply": "2022-01-11T18:09:27.78123Z"
    },
    "trusted": true
   },
   "execution_count": null,
   "outputs": []
  },
  {
   "cell_type": "code",
   "source": [
    "sns.histplot(data.default)\n",
    "print(f'Отношение значений default: {round(len(data[data.default == 0]) / len(data[data.default == 1]), 2)}')"
   ],
   "metadata": {
    "execution": {
     "iopub.status.busy": "2022-01-11T18:09:27.783286Z",
     "iopub.execute_input": "2022-01-11T18:09:27.783488Z",
     "iopub.status.idle": "2022-01-11T18:09:28.279904Z",
     "shell.execute_reply.started": "2022-01-11T18:09:27.783463Z",
     "shell.execute_reply": "2022-01-11T18:09:28.278806Z"
    },
    "trusted": true
   },
   "execution_count": null,
   "outputs": []
  },
  {
   "cell_type": "code",
   "source": [
    "for col in list_сategorical:\n",
    "    cross_plot(data.default, data[col])"
   ],
   "metadata": {
    "execution": {
     "iopub.status.busy": "2022-01-11T18:09:28.281472Z",
     "iopub.execute_input": "2022-01-11T18:09:28.281863Z",
     "iopub.status.idle": "2022-01-11T18:09:30.774346Z",
     "shell.execute_reply.started": "2022-01-11T18:09:28.281834Z",
     "shell.execute_reply": "2022-01-11T18:09:30.773293Z"
    },
    "trusted": true
   },
   "execution_count": null,
   "outputs": []
  },
  {
   "cell_type": "code",
   "source": [
    "heatmap(data, list_сategorical, 'spearman')"
   ],
   "metadata": {
    "collapsed": false,
    "pycharm": {
     "name": "#%%\n"
    },
    "jupyter": {
     "outputs_hidden": false
    },
    "execution": {
     "iopub.status.busy": "2022-01-11T18:09:30.775746Z",
     "iopub.execute_input": "2022-01-11T18:09:30.776442Z",
     "iopub.status.idle": "2022-01-11T18:09:31.268882Z",
     "shell.execute_reply.started": "2022-01-11T18:09:30.776408Z",
     "shell.execute_reply": "2022-01-11T18:09:31.268232Z"
    },
    "trusted": true
   },
   "execution_count": null,
   "outputs": []
  },
  {
   "cell_type": "markdown",
   "source": [
    "Из распределения данных относительно default видно, что все категориальные переменные имеют значимые отклонения для default=0 и default=1. Также видно, что education имеет строковый вид."
   ],
   "metadata": {}
  },
  {
   "cell_type": "markdown",
   "source": [
    "Из распределения данных относительно default видно, что все категориальные переменные имеют значимые отклонения для default=0 и default=1. Также видно, что education имеет строковый вид."
   ],
   "metadata": {}
  },
  {
   "cell_type": "markdown",
   "source": [
    "Высокая корреляцияя между home_address и work_address"
   ],
   "metadata": {
    "pycharm": {
     "name": "#%% md\n"
    }
   }
  },
  {
   "cell_type": "code",
   "source": [
    "heatmap(data, ['home_address', 'work_address', 'default'], 'kendall')"
   ],
   "metadata": {
    "collapsed": false,
    "pycharm": {
     "name": "#%%\n"
    },
    "jupyter": {
     "outputs_hidden": false
    },
    "execution": {
     "iopub.status.busy": "2022-01-11T18:09:31.270231Z",
     "iopub.execute_input": "2022-01-11T18:09:31.270486Z",
     "iopub.status.idle": "2022-01-11T18:09:31.629551Z",
     "shell.execute_reply.started": "2022-01-11T18:09:31.270456Z",
     "shell.execute_reply": "2022-01-11T18:09:31.628444Z"
    },
    "trusted": true
   },
   "execution_count": null,
   "outputs": []
  },
  {
   "cell_type": "markdown",
   "source": [
    "Для построения модели примем home_address"
   ],
   "metadata": {
    "pycharm": {
     "name": "#%% md\n"
    }
   }
  },
  {
   "cell_type": "markdown",
   "source": [
    "Посмотрим на переменную app_date"
   ],
   "metadata": {}
  },
  {
   "cell_type": "code",
   "source": [
    "data.app_date = data.app_date.apply(lambda x: datetime.strptime(x, '%d%b%Y'))"
   ],
   "metadata": {
    "execution": {
     "iopub.status.busy": "2022-01-11T18:09:31.631289Z",
     "iopub.execute_input": "2022-01-11T18:09:31.631603Z",
     "iopub.status.idle": "2022-01-11T18:09:34.680671Z",
     "shell.execute_reply.started": "2022-01-11T18:09:31.63156Z",
     "shell.execute_reply": "2022-01-11T18:09:34.679545Z"
    },
    "trusted": true
   },
   "execution_count": null,
   "outputs": []
  },
  {
   "cell_type": "code",
   "source": [
    "data['month'] = data.app_date.apply(lambda x: int(x.month))\n",
    "data['day'] = data.app_date.apply(lambda x: int(x.day))"
   ],
   "metadata": {
    "execution": {
     "iopub.status.busy": "2022-01-11T18:09:34.683032Z",
     "iopub.execute_input": "2022-01-11T18:09:34.684336Z",
     "iopub.status.idle": "2022-01-11T18:09:37.758245Z",
     "shell.execute_reply.started": "2022-01-11T18:09:34.684288Z",
     "shell.execute_reply": "2022-01-11T18:09:37.757308Z"
    },
    "trusted": true
   },
   "execution_count": null,
   "outputs": []
  },
  {
   "cell_type": "code",
   "source": [
    "cross_plot(data.default, data.month)\n",
    "cross_plot(data.default, data.day)"
   ],
   "metadata": {
    "execution": {
     "iopub.status.busy": "2022-01-11T18:09:37.759651Z",
     "iopub.execute_input": "2022-01-11T18:09:37.75995Z",
     "iopub.status.idle": "2022-01-11T18:09:38.683506Z",
     "shell.execute_reply.started": "2022-01-11T18:09:37.759907Z",
     "shell.execute_reply": "2022-01-11T18:09:38.682621Z"
    },
    "trusted": true
   },
   "execution_count": null,
   "outputs": []
  },
  {
   "cell_type": "markdown",
   "source": [
    "Как видно из данных распределение month и day относительно default:\n",
    "* month имеет значимые расхождения\n",
    "* расхождение day незначительны"
   ],
   "metadata": {}
  },
  {
   "cell_type": "markdown",
   "source": [
    "Посмотрим на бинарные переменные"
   ],
   "metadata": {}
  },
  {
   "cell_type": "code",
   "source": [
    "for col in list_binary:\n",
    "    cross_plot(data.default, data[col])"
   ],
   "metadata": {
    "_cell_guid": "b1076dfc-b9ad-4769-8c92-a6c4dae69d19",
    "_uuid": "8f2839f25d086af736a60e9eeb907d3b93b6e0e5",
    "execution": {
     "iopub.status.busy": "2022-01-11T18:09:38.684631Z",
     "iopub.execute_input": "2022-01-11T18:09:38.684839Z",
     "iopub.status.idle": "2022-01-11T18:09:39.949788Z",
     "shell.execute_reply.started": "2022-01-11T18:09:38.684813Z",
     "shell.execute_reply": "2022-01-11T18:09:39.94893Z"
    },
    "trusted": true
   },
   "execution_count": null,
   "outputs": []
  },
  {
   "cell_type": "markdown",
   "source": [
    "Переведем бинарные переменные в числа"
   ],
   "metadata": {}
  },
  {
   "cell_type": "code",
   "source": [
    "heatmap(data, list_binary, 'spearman')"
   ],
   "metadata": {
    "collapsed": false,
    "pycharm": {
     "name": "#%%\n"
    },
    "jupyter": {
     "outputs_hidden": false
    },
    "execution": {
     "iopub.status.busy": "2022-01-11T18:09:39.951024Z",
     "iopub.execute_input": "2022-01-11T18:09:39.95129Z",
     "iopub.status.idle": "2022-01-11T18:09:40.223855Z",
     "shell.execute_reply.started": "2022-01-11T18:09:39.951259Z",
     "shell.execute_reply": "2022-01-11T18:09:40.222988Z"
    },
    "trusted": true
   },
   "execution_count": null,
   "outputs": []
  },
  {
   "cell_type": "code",
   "source": [
    "label_encoder = LabelEncoder()\n",
    "for col in list_binary:\n",
    "    data[col] = label_encoder.fit_transform(data[col])\n",
    "data.head(10)"
   ],
   "metadata": {
    "execution": {
     "iopub.status.busy": "2022-01-11T18:09:40.22545Z",
     "iopub.execute_input": "2022-01-11T18:09:40.226721Z",
     "iopub.status.idle": "2022-01-11T18:09:40.542291Z",
     "shell.execute_reply.started": "2022-01-11T18:09:40.226674Z",
     "shell.execute_reply": "2022-01-11T18:09:40.541425Z"
    },
    "trusted": true
   },
   "execution_count": null,
   "outputs": []
  },
  {
   "cell_type": "code",
   "source": [
    "sort_corr = data.corr()\n",
    "sort_corr = sort_corr.default.apply(lambda x: np.abs(x))\n",
    "sort_corr.sort_values(ascending=False)"
   ],
   "metadata": {
    "execution": {
     "iopub.status.busy": "2022-01-11T18:09:40.543827Z",
     "iopub.execute_input": "2022-01-11T18:09:40.544341Z",
     "iopub.status.idle": "2022-01-11T18:09:40.814766Z",
     "shell.execute_reply.started": "2022-01-11T18:09:40.544297Z",
     "shell.execute_reply": "2022-01-11T18:09:40.813825Z"
    },
    "trusted": true
   },
   "execution_count": null,
   "outputs": []
  },
  {
   "cell_type": "code",
   "source": [
    "bin_to_num = pd.Series(f_classif(data[['car_type', 'car']], data['default'])[0], index = ['car_type', 'car'])\n",
    "bin_to_num.sort_values(inplace = True)\n",
    "bin_to_num.plot(kind = 'barh')"
   ],
   "metadata": {
    "execution": {
     "iopub.status.busy": "2022-01-11T18:09:40.815718Z",
     "iopub.execute_input": "2022-01-11T18:09:40.815915Z",
     "iopub.status.idle": "2022-01-11T18:09:41.037086Z",
     "shell.execute_reply.started": "2022-01-11T18:09:40.81589Z",
     "shell.execute_reply": "2022-01-11T18:09:41.036403Z"
    },
    "trusted": true
   },
   "execution_count": null,
   "outputs": []
  },
  {
   "cell_type": "markdown",
   "source": [
    "Как видно бинарные переменные имеют не значительные изменения относительно default. Имеются две связянные переменные: car_type, car. Предпочтительно взять car_type для обучения "
   ],
   "metadata": {}
  },
  {
   "cell_type": "code",
   "source": [
    "for col in list_numeric:\n",
    "    num_hist(data[col])"
   ],
   "metadata": {
    "execution": {
     "iopub.status.busy": "2022-01-11T18:09:41.038132Z",
     "iopub.execute_input": "2022-01-11T18:09:41.03886Z",
     "iopub.status.idle": "2022-01-11T18:09:45.344928Z",
     "shell.execute_reply.started": "2022-01-11T18:09:41.038823Z",
     "shell.execute_reply": "2022-01-11T18:09:45.343887Z"
    },
    "trusted": true
   },
   "execution_count": null,
   "outputs": []
  },
  {
   "cell_type": "code",
   "source": [
    "#for col in list_numeric:\n",
    "    #fig, ax = plt.subplots(figsize = (14, 4))\n",
    "    #ax.set_title('Boxplot for ' + col)\n",
    "    #sns.boxplot(x=data[col])\n",
    "get_boxplot(data, list_numeric)"
   ],
   "metadata": {
    "execution": {
     "iopub.status.busy": "2022-01-11T18:09:45.346443Z",
     "iopub.execute_input": "2022-01-11T18:09:45.346666Z",
     "iopub.status.idle": "2022-01-11T18:09:46.272893Z",
     "shell.execute_reply.started": "2022-01-11T18:09:45.346638Z",
     "shell.execute_reply": "2022-01-11T18:09:46.271903Z"
    },
    "trusted": true
   },
   "execution_count": null,
   "outputs": []
  },
  {
   "cell_type": "markdown",
   "source": [
    "Имеются выбросы. Прологорифмируем и приведем выбросы к нижнему и верхнему квартилю."
   ],
   "metadata": {}
  },
  {
   "cell_type": "code",
   "source": [
    "data = remove_outliers(data, list_numeric)"
   ],
   "metadata": {
    "execution": {
     "iopub.status.busy": "2022-01-11T18:09:46.274446Z",
     "iopub.execute_input": "2022-01-11T18:09:46.274924Z",
     "iopub.status.idle": "2022-01-11T18:09:47.447019Z",
     "shell.execute_reply.started": "2022-01-11T18:09:46.274798Z",
     "shell.execute_reply": "2022-01-11T18:09:47.446082Z"
    },
    "trusted": true
   },
   "execution_count": null,
   "outputs": []
  },
  {
   "cell_type": "code",
   "source": [
    "get_boxplot(data, list_numeric)"
   ],
   "metadata": {
    "execution": {
     "iopub.status.busy": "2022-01-11T18:09:47.448393Z",
     "iopub.execute_input": "2022-01-11T18:09:47.448718Z",
     "iopub.status.idle": "2022-01-11T18:09:48.098313Z",
     "shell.execute_reply.started": "2022-01-11T18:09:47.448676Z",
     "shell.execute_reply": "2022-01-11T18:09:48.097615Z"
    },
    "trusted": true
   },
   "execution_count": null,
   "outputs": []
  },
  {
   "cell_type": "code",
   "source": [
    "data = log_num(data, ['income', 'age', 'bki_request_cnt'])"
   ],
   "metadata": {
    "execution": {
     "iopub.status.busy": "2022-01-11T18:09:48.099321Z",
     "iopub.execute_input": "2022-01-11T18:09:48.100149Z",
     "iopub.status.idle": "2022-01-11T18:09:49.422112Z",
     "shell.execute_reply.started": "2022-01-11T18:09:48.100112Z",
     "shell.execute_reply": "2022-01-11T18:09:49.421115Z"
    },
    "trusted": true
   },
   "execution_count": null,
   "outputs": []
  },
  {
   "cell_type": "code",
   "source": [
    "for col in list_numeric:\n",
    "    num_hist(data[col])"
   ],
   "metadata": {
    "execution": {
     "iopub.status.busy": "2022-01-11T18:09:49.423268Z",
     "iopub.execute_input": "2022-01-11T18:09:49.423484Z",
     "iopub.status.idle": "2022-01-11T18:09:53.604177Z",
     "shell.execute_reply.started": "2022-01-11T18:09:49.423458Z",
     "shell.execute_reply": "2022-01-11T18:09:53.603253Z"
    },
    "trusted": true
   },
   "execution_count": null,
   "outputs": []
  },
  {
   "cell_type": "markdown",
   "source": [
    "bki_request_cnt имеет странное распределение"
   ],
   "metadata": {}
  },
  {
   "cell_type": "code",
   "source": [
    "heatmap(data, ['income', 'score_bki', 'age', 'bki_request_cnt', 'default'], 'pearson')"
   ],
   "metadata": {
    "execution": {
     "iopub.status.busy": "2022-01-11T18:09:53.605559Z",
     "iopub.execute_input": "2022-01-11T18:09:53.605769Z",
     "iopub.status.idle": "2022-01-11T18:09:53.969912Z",
     "shell.execute_reply.started": "2022-01-11T18:09:53.605743Z",
     "shell.execute_reply": "2022-01-11T18:09:53.969277Z"
    },
    "trusted": true
   },
   "execution_count": null,
   "outputs": []
  },
  {
   "cell_type": "markdown",
   "source": [
    "Значимые корреляции между score_bki и default, что вполне логично."
   ],
   "metadata": {}
  },
  {
   "cell_type": "code",
   "source": [
    "sort_corr = data[['income', 'score_bki', 'age', 'bki_request_cnt', 'default']].corr()\n",
    "sort_corr = sort_corr.default.apply(lambda x: np.abs(x))\n",
    "sort_corr.sort_values(ascending=False)"
   ],
   "metadata": {
    "execution": {
     "iopub.status.busy": "2022-01-11T18:09:53.971611Z",
     "iopub.execute_input": "2022-01-11T18:09:53.971844Z",
     "iopub.status.idle": "2022-01-11T18:09:54.004974Z",
     "shell.execute_reply.started": "2022-01-11T18:09:53.971814Z",
     "shell.execute_reply": "2022-01-11T18:09:54.004227Z"
    },
    "trusted": true
   },
   "execution_count": null,
   "outputs": []
  },
  {
   "cell_type": "markdown",
   "source": [
    "Еще раз оценим зависимости парамеров межде собой"
   ],
   "metadata": {
    "pycharm": {
     "name": "#%% md\n"
    }
   }
  },
  {
   "cell_type": "code",
   "source": [
    "DATA_DIR = '/kaggle/input/sf-scoring/'\n",
    "#DATA_DIR = './data'\n",
    "df_train = pd.read_csv(DATA_DIR +'/train.csv')\n",
    "df_test = pd.read_csv(DATA_DIR +'/test.csv')\n",
    "sample_submission = pd.read_csv(DATA_DIR+'/sample_submission.csv')"
   ],
   "metadata": {
    "collapsed": false,
    "pycharm": {
     "name": "#%%\n"
    },
    "jupyter": {
     "outputs_hidden": false
    },
    "execution": {
     "iopub.status.busy": "2022-01-11T18:09:54.006337Z",
     "iopub.execute_input": "2022-01-11T18:09:54.006557Z",
     "iopub.status.idle": "2022-01-11T18:09:54.208611Z",
     "shell.execute_reply.started": "2022-01-11T18:09:54.006531Z",
     "shell.execute_reply": "2022-01-11T18:09:54.207414Z"
    },
    "trusted": true
   },
   "execution_count": null,
   "outputs": []
  },
  {
   "cell_type": "code",
   "source": [
    "list_binary = ['sex', 'car_type', 'good_work', 'foreign_passport']\n",
    "list_сategorical = ['home_address', 'decline_app_cnt', 'first_time',\n",
    "                    'education', 'region_rating', 'sna']\n",
    "list_numeric = ['income', 'score_bki', 'age', 'bki_request_cnt']\n",
    "drop_list = ['client_id', 'car', 'work_address']\n",
    "heatmap(data, list_binary + list_сategorical + list_numeric + ['default'], 'kendall')"
   ],
   "metadata": {
    "collapsed": false,
    "pycharm": {
     "name": "#%%\n"
    },
    "jupyter": {
     "outputs_hidden": false
    },
    "execution": {
     "iopub.status.busy": "2022-01-11T18:09:54.21022Z",
     "iopub.execute_input": "2022-01-11T18:09:54.210545Z",
     "iopub.status.idle": "2022-01-11T18:09:57.646532Z",
     "shell.execute_reply.started": "2022-01-11T18:09:54.210502Z",
     "shell.execute_reply": "2022-01-11T18:09:57.645616Z"
    },
    "trusted": true
   },
   "execution_count": null,
   "outputs": []
  },
  {
   "cell_type": "markdown",
   "source": [
    "Значимых корреляций необнаружено"
   ],
   "metadata": {
    "pycharm": {
     "name": "#%% md\n"
    }
   }
  },
  {
   "cell_type": "markdown",
   "source": [
    "# Data Preprocessing"
   ],
   "metadata": {}
  },
  {
   "cell_type": "code",
   "source": [
    "class Data:\n",
    "    def __init__(self, df_train, df_test, list_binary, list_сategorical, list_numeric, drop_list, date_column):\n",
    "        self.train = df_train\n",
    "        self.test = df_test\n",
    "        self.list_binary = list_binary\n",
    "        self.list_categorical = list_сategorical\n",
    "        self.list_numeric = list_numeric\n",
    "        self.drop_list = drop_list\n",
    "        self.train['sample'] = 1\n",
    "        self.test['sample'] = 0\n",
    "        self.test['default'] = 0\n",
    "        self.full_data = self.test.append(self.train, sort=False).reset_index(drop=True)\n",
    "        self.date_column = date_column\n",
    "\n",
    "\n",
    "    def date(self):\n",
    "        self.full_data[self.date_column] = self.full_data[self.date_column].apply(lambda x: datetime.strptime(x, '%d%b%Y'))\n",
    "        self.full_data['mouth'] = self.full_data[self.date_column].apply(lambda x: x.month)\n",
    "        self.full_data.drop(self.date_column, axis=1, inplace=True)\n",
    "       \n",
    "       \n",
    "    def get_dummies(self):\n",
    "         self.full_data = pd.get_dummies(self.full_data, columns=self.list_categorical, dummy_na=True)\n",
    "        \n",
    "        \n",
    "    def encoder(self):\n",
    "        __label_encoder = LabelEncoder()\n",
    "        for _col in self.list_binary:\n",
    "            self.full_data[_col] = label_encoder.fit_transform(self.full_data[_col])\n",
    "\n",
    "\n",
    "    def remove_outliers(self):\n",
    "        self.full_data[self.list_numeric] = RobustScaler().fit_transform(self.full_data[list_numeric])\n",
    "\n",
    "\n",
    "    def log_num(self):\n",
    "        for __col in ['income', 'age', 'bki_request_cnt']:\n",
    "            self.full_data[_col] = self.full_data[_col].apply(lambda x: np.log(x+1))\n",
    "\n",
    "\n",
    "    def standard(self):\n",
    "        self.train[self.list_numeric] = StandardScaler().fit_transform(self.train[self.list_numeric].values)\n",
    "        self.test[self.list_numeric] = StandardScaler().fit_transform(self.test[self.list_numeric].values)\n",
    "\n",
    "\n",
    "    def drop_column(self):\n",
    "        self.full_data = self.full_data.drop(self.drop_list, axis = 1)\n",
    "\n",
    "\n",
    "    def data_split(self):\n",
    "        self.train = self.full_data.query('sample == 1').drop(['sample'], axis=1)\n",
    "        self.test = self.full_data.query('sample == 0').drop(['sample', 'default'], axis=1)\n",
    "\n",
    "\n",
    "    def preprocessing(self):\n",
    "        self.date()\n",
    "        self.encoder()\n",
    "        self.log_num()\n",
    "        self.remove_outliers()\n",
    "        self.get_dummies()\n",
    "        self.drop_column()\n",
    "        self.data_split()\n",
    "        self.standard()\n",
    "\n"
   ],
   "metadata": {
    "collapsed": false,
    "pycharm": {
     "name": "#%%\n"
    },
    "jupyter": {
     "outputs_hidden": false
    },
    "execution": {
     "iopub.status.busy": "2022-01-11T18:09:57.648157Z",
     "iopub.execute_input": "2022-01-11T18:09:57.64841Z",
     "iopub.status.idle": "2022-01-11T18:09:57.667361Z",
     "shell.execute_reply.started": "2022-01-11T18:09:57.648378Z",
     "shell.execute_reply": "2022-01-11T18:09:57.666246Z"
    },
    "trusted": true
   },
   "execution_count": null,
   "outputs": []
  },
  {
   "cell_type": "code",
   "source": "DATA_DIR = '/kaggle/input/sf-scoring/'\n#DATA_DIR = './data'\ndf_train = pd.read_csv(DATA_DIR +'/train.csv')\ndf_test = pd.read_csv(DATA_DIR +'/test.csv')\nsample_submission = pd.read_csv(DATA_DIR+'/sample_submission.csv')",
   "metadata": {
    "execution": {
     "iopub.status.busy": "2022-01-11T18:09:57.669195Z",
     "iopub.execute_input": "2022-01-11T18:09:57.669551Z",
     "iopub.status.idle": "2022-01-11T18:09:57.877679Z",
     "shell.execute_reply.started": "2022-01-11T18:09:57.669506Z",
     "shell.execute_reply": "2022-01-11T18:09:57.876564Z"
    },
    "trusted": true
   },
   "execution_count": null,
   "outputs": []
  },
  {
   "cell_type": "code",
   "source": "list_binary = ['sex', 'car_type', 'good_work', 'foreign_passport']\nlist_сategorical = ['home_address', 'decline_app_cnt', 'first_time',\n                    'education', 'region_rating', 'sna']\nlist_numeric = ['income', 'score_bki', 'age', 'bki_request_cnt']\ndrop_list = ['client_id', 'car', 'work_address']",
   "metadata": {
    "execution": {
     "iopub.status.busy": "2022-01-11T18:09:57.879262Z",
     "iopub.execute_input": "2022-01-11T18:09:57.879603Z",
     "iopub.status.idle": "2022-01-11T18:09:57.887877Z",
     "shell.execute_reply.started": "2022-01-11T18:09:57.879556Z",
     "shell.execute_reply": "2022-01-11T18:09:57.886982Z"
    },
    "trusted": true
   },
   "execution_count": null,
   "outputs": []
  },
  {
   "cell_type": "code",
   "source": "",
   "metadata": {
    "collapsed": false,
    "pycharm": {
     "name": "#%%\n"
    },
    "jupyter": {
     "outputs_hidden": false
    }
   },
   "execution_count": null,
   "outputs": []
  },
  {
   "cell_type": "code",
   "source": "df = Data(df_train, df_test, list_binary, list_сategorical, list_numeric, drop_list, 'app_date')\ndf.preprocessing()\n#df_train, df_test = preprocessing(df_train, df_test, list_binary, list_сategorical, list_numeric, drop_list)",
   "metadata": {
    "collapsed": false,
    "pycharm": {
     "name": "#%%\n"
    },
    "jupyter": {
     "outputs_hidden": false
    },
    "execution": {
     "iopub.status.busy": "2022-01-11T18:09:57.889142Z",
     "iopub.execute_input": "2022-01-11T18:09:57.889506Z",
     "iopub.status.idle": "2022-01-11T18:10:01.365594Z",
     "shell.execute_reply.started": "2022-01-11T18:09:57.889468Z",
     "shell.execute_reply": "2022-01-11T18:10:01.364578Z"
    },
    "trusted": true
   },
   "execution_count": null,
   "outputs": []
  },
  {
   "cell_type": "code",
   "source": "df.train.info()",
   "metadata": {
    "collapsed": false,
    "pycharm": {
     "name": "#%%\n"
    },
    "jupyter": {
     "outputs_hidden": false
    },
    "execution": {
     "iopub.status.busy": "2022-01-11T18:10:01.367048Z",
     "iopub.execute_input": "2022-01-11T18:10:01.367398Z",
     "iopub.status.idle": "2022-01-11T18:10:01.391902Z",
     "shell.execute_reply.started": "2022-01-11T18:10:01.367355Z",
     "shell.execute_reply": "2022-01-11T18:10:01.390949Z"
    },
    "trusted": true
   },
   "execution_count": null,
   "outputs": []
  },
  {
   "cell_type": "code",
   "source": "df.test.info()\n",
   "metadata": {
    "execution": {
     "iopub.status.busy": "2022-01-11T18:10:01.393091Z",
     "iopub.execute_input": "2022-01-11T18:10:01.393417Z",
     "iopub.status.idle": "2022-01-11T18:10:01.413324Z",
     "shell.execute_reply.started": "2022-01-11T18:10:01.393387Z",
     "shell.execute_reply": "2022-01-11T18:10:01.412652Z"
    },
    "trusted": true
   },
   "execution_count": null,
   "outputs": []
  },
  {
   "cell_type": "markdown",
   "source": "# Model",
   "metadata": {}
  },
  {
   "cell_type": "code",
   "source": "y = df.train['default']\nX = df.train.drop(['default'], axis=1)",
   "metadata": {
    "execution": {
     "iopub.status.busy": "2022-01-11T18:10:01.414281Z",
     "iopub.execute_input": "2022-01-11T18:10:01.415046Z",
     "iopub.status.idle": "2022-01-11T18:10:01.423951Z",
     "shell.execute_reply.started": "2022-01-11T18:10:01.415005Z",
     "shell.execute_reply": "2022-01-11T18:10:01.422852Z"
    },
    "trusted": true
   },
   "execution_count": null,
   "outputs": []
  },
  {
   "cell_type": "code",
   "source": "X_train, X_test, y_train, y_test = train_test_split(X, y, test_size=0.2)",
   "metadata": {
    "execution": {
     "iopub.status.busy": "2022-01-11T18:10:01.425365Z",
     "iopub.execute_input": "2022-01-11T18:10:01.425959Z",
     "iopub.status.idle": "2022-01-11T18:10:01.457097Z",
     "shell.execute_reply.started": "2022-01-11T18:10:01.425913Z",
     "shell.execute_reply": "2022-01-11T18:10:01.456024Z"
    },
    "trusted": true
   },
   "execution_count": null,
   "outputs": []
  },
  {
   "cell_type": "code",
   "source": "X_train.shape, X_test.shape, y_train.shape, y_test.shape\n",
   "metadata": {
    "execution": {
     "iopub.status.busy": "2022-01-11T18:10:01.458677Z",
     "iopub.execute_input": "2022-01-11T18:10:01.458914Z",
     "iopub.status.idle": "2022-01-11T18:10:01.465103Z",
     "shell.execute_reply.started": "2022-01-11T18:10:01.458886Z",
     "shell.execute_reply": "2022-01-11T18:10:01.464266Z"
    },
    "trusted": true
   },
   "execution_count": null,
   "outputs": []
  },
  {
   "cell_type": "code",
   "source": "#logreg = LogisticRegression()\n#logreg.fit(X_train, y_train)\n#y_pred = logreg.predict(X_test)",
   "metadata": {
    "execution": {
     "iopub.status.busy": "2022-01-11T18:10:01.46666Z",
     "iopub.execute_input": "2022-01-11T18:10:01.467451Z",
     "iopub.status.idle": "2022-01-11T18:10:01.478168Z",
     "shell.execute_reply.started": "2022-01-11T18:10:01.467413Z",
     "shell.execute_reply": "2022-01-11T18:10:01.477474Z"
    },
    "trusted": true
   },
   "execution_count": null,
   "outputs": []
  },
  {
   "cell_type": "code",
   "source": "#fpr, tpr, thresholds = roc_curve(y_train,logreg.predict_proba(X_train).T[1])\n#roc_auc = roc_auc_score(y_train,logreg.predict_proba(X_train).T[1])   \n#plt.figure(figsize=(8, 8))\n#plt.plot(fpr, tpr, label=f'AUC = {roc_auc:.4f}')\n#plt.title('Receiver Operating Characteristic', fontsize=15)\n#plt.xlabel('False positive rate (FPR)', fontsize=15)\n#plt.ylabel('True positive rate (TPR)', fontsize=15)\n#plt.legend(fontsize=15)",
   "metadata": {
    "execution": {
     "iopub.status.busy": "2022-01-11T18:10:01.479423Z",
     "iopub.execute_input": "2022-01-11T18:10:01.479773Z",
     "iopub.status.idle": "2022-01-11T18:10:01.490563Z",
     "shell.execute_reply.started": "2022-01-11T18:10:01.479745Z",
     "shell.execute_reply": "2022-01-11T18:10:01.489496Z"
    },
    "trusted": true
   },
   "execution_count": null,
   "outputs": []
  },
  {
   "cell_type": "code",
   "source": "#classification_report = classification_report(y_test, y_pred)\n#print(classification_report)",
   "metadata": {
    "execution": {
     "iopub.status.busy": "2022-01-11T18:10:01.491956Z",
     "iopub.execute_input": "2022-01-11T18:10:01.492353Z",
     "iopub.status.idle": "2022-01-11T18:10:01.502134Z",
     "shell.execute_reply.started": "2022-01-11T18:10:01.492311Z",
     "shell.execute_reply": "2022-01-11T18:10:01.501469Z"
    },
    "trusted": true
   },
   "execution_count": null,
   "outputs": []
  },
  {
   "cell_type": "code",
   "source": "#print(accuracy_score(y_test, y_pred))\n#print(precision_score(y_test, y_pred))\n#print(recall_score(y_test, y_pred))\n#print(f1_score(y_test, y_pred))",
   "metadata": {
    "execution": {
     "iopub.status.busy": "2022-01-11T18:10:01.503315Z",
     "iopub.execute_input": "2022-01-11T18:10:01.503685Z",
     "iopub.status.idle": "2022-01-11T18:10:01.513976Z",
     "shell.execute_reply.started": "2022-01-11T18:10:01.503657Z",
     "shell.execute_reply": "2022-01-11T18:10:01.513286Z"
    },
    "trusted": true
   },
   "execution_count": null,
   "outputs": []
  },
  {
   "cell_type": "code",
   "source": "model = LogisticRegression()\n\niter_ = 50\nepsilon_stop = 1e-3\n\nparam_grid = [\n    {'penalty': ['l1'], \n     'solver': ['liblinear', 'lbfgs'], \n     'class_weight':['none', 'balanced'], \n     'multi_class': ['auto','ovr'], \n     'max_iter':[iter_],\n     'tol':[epsilon_stop]},\n    {'penalty': ['l2'], \n     'solver': ['newton-cg', 'lbfgs', 'liblinear', 'sag', 'saga'], \n     'class_weight':['none', 'balanced'], \n     'multi_class': ['auto','ovr'], \n     'max_iter':[iter_],\n     'tol':[epsilon_stop]},\n    {'penalty': ['none'], \n     'solver': ['newton-cg', 'lbfgs', 'sag', 'saga'], \n     'class_weight':['none', 'balanced'], \n     'multi_class': ['auto','ovr'], \n     'max_iter':[iter_],\n     'tol':[epsilon_stop]},\n]\n\n\ngridsearch = GridSearchCV(model, param_grid, scoring='f1', n_jobs=-1, cv=5)\ngridsearch.fit(X_train, y_train)\nmodel = gridsearch.best_estimator_\n\n\nbest_parameters = model.get_params()\nfor param_name in sorted(best_parameters.keys()):\n        print('\\t%s: %r' % (param_name, best_parameters[param_name]))",
   "metadata": {
    "execution": {
     "iopub.status.busy": "2022-01-11T18:10:01.515418Z",
     "iopub.execute_input": "2022-01-11T18:10:01.515851Z",
     "iopub.status.idle": "2022-01-11T18:12:55.626677Z",
     "shell.execute_reply.started": "2022-01-11T18:10:01.515814Z",
     "shell.execute_reply": "2022-01-11T18:12:55.62527Z"
    },
    "trusted": true
   },
   "execution_count": null,
   "outputs": []
  },
  {
   "cell_type": "code",
   "source": "model = LogisticRegression()",
   "metadata": {
    "execution": {
     "iopub.status.busy": "2022-01-11T18:12:55.629243Z",
     "iopub.execute_input": "2022-01-11T18:12:55.629597Z",
     "iopub.status.idle": "2022-01-11T18:12:55.635334Z",
     "shell.execute_reply.started": "2022-01-11T18:12:55.62955Z",
     "shell.execute_reply": "2022-01-11T18:12:55.634328Z"
    },
    "trusted": true
   },
   "execution_count": null,
   "outputs": []
  },
  {
   "cell_type": "code",
   "source": "gridsearch = GridSearchCV(model, param_grid, scoring='f1', n_jobs=-1, cv=5)\ngridsearch.fit(X_train, y_train)\nmodel = gridsearch.best_estimator_",
   "metadata": {
    "execution": {
     "iopub.status.busy": "2022-01-11T18:12:55.636894Z",
     "iopub.execute_input": "2022-01-11T18:12:55.637262Z",
     "iopub.status.idle": "2022-01-11T18:15:46.229023Z",
     "shell.execute_reply.started": "2022-01-11T18:12:55.637216Z",
     "shell.execute_reply": "2022-01-11T18:15:46.228166Z"
    },
    "trusted": true
   },
   "execution_count": null,
   "outputs": []
  },
  {
   "cell_type": "code",
   "source": "fpr, tpr, thresholds = roc_curve(y_train,model.predict_proba(X_train).T[1])\nroc_auc = roc_auc_score(y_train,model.predict_proba(X_train).T[1])   \nplt.figure(figsize=(8, 8))\nplt.plot(fpr, tpr, label=f'AUC = {roc_auc:.4f}')\nplt.title('Receiver Operating Characteristic', fontsize=15)\nplt.xlabel('False positive rate (FPR)', fontsize=15)\nplt.ylabel('True positive rate (TPR)', fontsize=15)\nplt.legend(fontsize=15)",
   "metadata": {
    "execution": {
     "iopub.status.busy": "2022-01-11T18:15:46.230518Z",
     "iopub.execute_input": "2022-01-11T18:15:46.230932Z",
     "iopub.status.idle": "2022-01-11T18:15:46.625928Z",
     "shell.execute_reply.started": "2022-01-11T18:15:46.2309Z",
     "shell.execute_reply": "2022-01-11T18:15:46.625275Z"
    },
    "trusted": true
   },
   "execution_count": null,
   "outputs": []
  },
  {
   "cell_type": "code",
   "source": "y_pred = model.predict(X_test)\nprint(accuracy_score(y_test, y_pred))\nprint(precision_score(y_test, y_pred))\nprint(recall_score(y_test, y_pred))\nprint(f1_score(y_test, y_pred))",
   "metadata": {
    "execution": {
     "iopub.status.busy": "2022-01-11T18:15:46.627172Z",
     "iopub.execute_input": "2022-01-11T18:15:46.627949Z",
     "iopub.status.idle": "2022-01-11T18:15:46.682475Z",
     "shell.execute_reply.started": "2022-01-11T18:15:46.627909Z",
     "shell.execute_reply": "2022-01-11T18:15:46.68149Z"
    },
    "trusted": true
   },
   "execution_count": null,
   "outputs": []
  },
  {
   "cell_type": "code",
   "source": "kf = KFold(n_splits=10)\nkfmodel = LogisticRegression(C=1.0, class_weight='balanced', dual=False, fit_intercept=True, intercept_scaling=1,\n                             l1_ratio=None, max_iter=1000, multi_class='auto', n_jobs=None, penalty='l2', \n                             random_state=None, solver='sag', tol=1e-5, verbose=0, warm_start=False)",
   "metadata": {
    "execution": {
     "iopub.status.busy": "2022-01-11T18:15:46.684413Z",
     "iopub.execute_input": "2022-01-11T18:15:46.684998Z",
     "iopub.status.idle": "2022-01-11T18:15:46.696112Z",
     "shell.execute_reply.started": "2022-01-11T18:15:46.684951Z",
     "shell.execute_reply": "2022-01-11T18:15:46.695112Z"
    },
    "trusted": true
   },
   "execution_count": null,
   "outputs": []
  },
  {
   "cell_type": "code",
   "source": "for train_index, test_index in kf.split(X):\n    X_train, X_test = X.iloc[train_index], X.iloc[test_index]\n    y_train, y_test = y.iloc[train_index], y.iloc[test_index]\n    kfmodel.fit(X_train, y_train)\n",
   "metadata": {
    "execution": {
     "iopub.status.busy": "2022-01-11T18:15:46.712843Z",
     "iopub.execute_input": "2022-01-11T18:15:46.713816Z",
     "iopub.status.idle": "2022-01-11T18:17:19.105672Z",
     "shell.execute_reply.started": "2022-01-11T18:15:46.713753Z",
     "shell.execute_reply": "2022-01-11T18:17:19.104738Z"
    },
    "trusted": true
   },
   "execution_count": null,
   "outputs": []
  },
  {
   "cell_type": "code",
   "source": "X_train, X_test, y_train, y_test = train_test_split(X, y, test_size=0.2)\ny_pred = kfmodel.predict(X_test)",
   "metadata": {
    "execution": {
     "iopub.status.busy": "2022-01-11T18:17:19.107219Z",
     "iopub.execute_input": "2022-01-11T18:17:19.107489Z",
     "iopub.status.idle": "2022-01-11T18:17:19.136415Z",
     "shell.execute_reply.started": "2022-01-11T18:17:19.107457Z",
     "shell.execute_reply": "2022-01-11T18:17:19.13541Z"
    },
    "trusted": true
   },
   "execution_count": null,
   "outputs": []
  },
  {
   "cell_type": "code",
   "source": "fpr, tpr, thresholds = roc_curve(y_train,kfmodel.predict_proba(X_train).T[1])\nroc_auc = roc_auc_score(y_train,kfmodel.predict_proba(X_train).T[1])   \nplt.figure(figsize=(8, 8))\nplt.plot(fpr, tpr, label=f'AUC = {roc_auc:.4f}')\nplt.title('Receiver Operating Characteristic', fontsize=15)\nplt.xlabel('False positive rate (FPR)', fontsize=15)\nplt.ylabel('True positive rate (TPR)', fontsize=15)\nplt.legend(fontsize=15)",
   "metadata": {
    "execution": {
     "iopub.status.busy": "2022-01-11T18:17:19.137701Z",
     "iopub.execute_input": "2022-01-11T18:17:19.137935Z",
     "iopub.status.idle": "2022-01-11T18:17:19.487879Z",
     "shell.execute_reply.started": "2022-01-11T18:17:19.137908Z",
     "shell.execute_reply": "2022-01-11T18:17:19.486734Z"
    },
    "trusted": true
   },
   "execution_count": null,
   "outputs": []
  },
  {
   "cell_type": "code",
   "source": "print(accuracy_score(y_test, y_pred))\nprint(precision_score(y_test, y_pred))\nprint(recall_score(y_test, y_pred))\nprint(f1_score(y_test, y_pred))",
   "metadata": {
    "execution": {
     "iopub.status.busy": "2022-01-11T18:17:19.489667Z",
     "iopub.execute_input": "2022-01-11T18:17:19.490659Z",
     "iopub.status.idle": "2022-01-11T18:17:19.523654Z",
     "shell.execute_reply.started": "2022-01-11T18:17:19.490608Z",
     "shell.execute_reply": "2022-01-11T18:17:19.522258Z"
    },
    "trusted": true
   },
   "execution_count": null,
   "outputs": []
  },
  {
   "cell_type": "code",
   "source": "rus = RandomUnderSampler(random_state=42)\nX_us, y_us = rus.fit_resample(X, y)",
   "metadata": {
    "execution": {
     "iopub.status.busy": "2022-01-11T18:17:19.525539Z",
     "iopub.execute_input": "2022-01-11T18:17:19.525859Z",
     "iopub.status.idle": "2022-01-11T18:17:19.613166Z",
     "shell.execute_reply.started": "2022-01-11T18:17:19.525814Z",
     "shell.execute_reply": "2022-01-11T18:17:19.612033Z"
    },
    "trusted": true
   },
   "execution_count": null,
   "outputs": []
  },
  {
   "cell_type": "code",
   "source": "kfmodelrus = LogisticRegression(C=1.0, class_weight='balanced', dual=False, fit_intercept=True, intercept_scaling=1,\n                             l1_ratio=None, max_iter=1000, multi_class='auto', n_jobs=None, penalty='l2', \n                             random_state=None, solver='sag', tol=1e-5, verbose=0, warm_start=False)",
   "metadata": {
    "execution": {
     "iopub.status.busy": "2022-01-11T18:17:19.614357Z",
     "iopub.execute_input": "2022-01-11T18:17:19.614578Z",
     "iopub.status.idle": "2022-01-11T18:17:19.621477Z",
     "shell.execute_reply.started": "2022-01-11T18:17:19.61455Z",
     "shell.execute_reply": "2022-01-11T18:17:19.620398Z"
    },
    "trusted": true
   },
   "execution_count": null,
   "outputs": []
  },
  {
   "cell_type": "code",
   "source": "for train_index, test_index in kf.split(X_us):\n    X_train, X_test = X_us.iloc[train_index], X_us.iloc[test_index]\n    y_train, y_test = y_us.iloc[train_index], y_us.iloc[test_index]\n    kfmodelrus.fit(X_train, y_train)",
   "metadata": {
    "execution": {
     "iopub.status.busy": "2022-01-11T18:17:19.622854Z",
     "iopub.execute_input": "2022-01-11T18:17:19.623852Z",
     "iopub.status.idle": "2022-01-11T18:17:38.85585Z",
     "shell.execute_reply.started": "2022-01-11T18:17:19.62381Z",
     "shell.execute_reply": "2022-01-11T18:17:38.854763Z"
    },
    "trusted": true
   },
   "execution_count": null,
   "outputs": []
  },
  {
   "cell_type": "code",
   "source": "X_train, X_test, y_train, y_test = train_test_split(X, y, test_size=0.2)\ny_pred = kfmodelrus.predict(X_test)",
   "metadata": {
    "execution": {
     "iopub.status.busy": "2022-01-11T18:17:38.857402Z",
     "iopub.execute_input": "2022-01-11T18:17:38.857627Z",
     "iopub.status.idle": "2022-01-11T18:17:38.885957Z",
     "shell.execute_reply.started": "2022-01-11T18:17:38.857601Z",
     "shell.execute_reply": "2022-01-11T18:17:38.884818Z"
    },
    "trusted": true
   },
   "execution_count": null,
   "outputs": []
  },
  {
   "cell_type": "code",
   "source": "fpr, tpr, thresholds = roc_curve(y_train,kfmodelrus.predict_proba(X_train).T[1])\nroc_auc = roc_auc_score(y_train,kfmodelrus.predict_proba(X_train).T[1])   \nplt.figure(figsize=(8, 8))\nplt.plot(fpr, tpr, label=f'AUC = {roc_auc:.4f}')\nplt.title('Receiver Operating Characteristic', fontsize=15)\nplt.xlabel('False positive rate (FPR)', fontsize=15)\nplt.ylabel('True positive rate (TPR)', fontsize=15)\nplt.legend(fontsize=15)",
   "metadata": {
    "execution": {
     "iopub.status.busy": "2022-01-11T18:17:38.887647Z",
     "iopub.execute_input": "2022-01-11T18:17:38.893557Z",
     "iopub.status.idle": "2022-01-11T18:17:39.295907Z",
     "shell.execute_reply.started": "2022-01-11T18:17:38.893482Z",
     "shell.execute_reply": "2022-01-11T18:17:39.295068Z"
    },
    "trusted": true
   },
   "execution_count": null,
   "outputs": []
  },
  {
   "cell_type": "code",
   "source": "print(accuracy_score(y_test, y_pred))\nprint(precision_score(y_test, y_pred))\nprint(recall_score(y_test, y_pred))\nprint(f1_score(y_test, y_pred))\nmatrix_con = confusion_matrix(y_test, y_pred)\nsns.heatmap(matrix_con, annot=True)",
   "metadata": {
    "execution": {
     "iopub.status.busy": "2022-01-11T18:17:39.297359Z",
     "iopub.execute_input": "2022-01-11T18:17:39.298021Z",
     "iopub.status.idle": "2022-01-11T18:17:39.600821Z",
     "shell.execute_reply.started": "2022-01-11T18:17:39.297977Z",
     "shell.execute_reply": "2022-01-11T18:17:39.599835Z"
    },
    "trusted": true
   },
   "execution_count": null,
   "outputs": []
  },
  {
   "cell_type": "code",
   "source": "sgd_clf = SGDClassifier(max_iter=1000) # классификатор на основе метода стохастического градиентного спуска (Stochastic Gradient Descent SGD)\nskfolds = StratifiedKFold(n_splits=10)\nfor train, test in skfolds.split(X, y):\n    X_train, X_test, y_train, y_test = X.iloc[train], X.iloc[test], y.iloc[train], y.iloc[test]\n    sgd_clf.fit(X_train, y_train)",
   "metadata": {
    "execution": {
     "iopub.status.busy": "2022-01-11T18:17:39.602049Z",
     "iopub.execute_input": "2022-01-11T18:17:39.602281Z",
     "iopub.status.idle": "2022-01-11T18:17:45.567116Z",
     "shell.execute_reply.started": "2022-01-11T18:17:39.602255Z",
     "shell.execute_reply": "2022-01-11T18:17:45.566121Z"
    },
    "trusted": true
   },
   "execution_count": null,
   "outputs": []
  },
  {
   "cell_type": "code",
   "source": "#df_train_contact = df_train[df_train.default == 1]\n#for n in range(1,11):\n    #df_train = pd.concat([df_train, df_train_contact])",
   "metadata": {
    "execution": {
     "iopub.status.busy": "2022-01-11T18:17:45.568653Z",
     "iopub.execute_input": "2022-01-11T18:17:45.568908Z",
     "iopub.status.idle": "2022-01-11T18:17:45.574517Z",
     "shell.execute_reply.started": "2022-01-11T18:17:45.568879Z",
     "shell.execute_reply": "2022-01-11T18:17:45.573513Z"
    },
    "trusted": true
   },
   "execution_count": null,
   "outputs": []
  },
  {
   "cell_type": "code",
   "source": "y = df.train['default']\nX = df.train.drop(['default'], axis=1)",
   "metadata": {
    "execution": {
     "iopub.status.busy": "2022-01-11T18:17:45.57618Z",
     "iopub.execute_input": "2022-01-11T18:17:45.577161Z",
     "iopub.status.idle": "2022-01-11T18:17:45.592823Z",
     "shell.execute_reply.started": "2022-01-11T18:17:45.577105Z",
     "shell.execute_reply": "2022-01-11T18:17:45.591869Z"
    },
    "trusted": true
   },
   "execution_count": null,
   "outputs": []
  },
  {
   "cell_type": "code",
   "source": "X_train, X_test, y_train, y_test = train_test_split(X, y, test_size=0.2)\ny_pred = sgd_clf.predict(X_test)",
   "metadata": {
    "execution": {
     "iopub.status.busy": "2022-01-11T18:17:45.594308Z",
     "iopub.execute_input": "2022-01-11T18:17:45.594787Z",
     "iopub.status.idle": "2022-01-11T18:17:45.635562Z",
     "shell.execute_reply.started": "2022-01-11T18:17:45.594741Z",
     "shell.execute_reply": "2022-01-11T18:17:45.634518Z"
    },
    "trusted": true
   },
   "execution_count": null,
   "outputs": []
  },
  {
   "cell_type": "code",
   "source": "#fpr, tpr, thresholds = roc_curve(y_train,sgd_clf.predict(X_train).T[1])\n#roc_auc = roc_auc_score(y_train,sgd_clf.predict(X_train).T[1])   \n#plt.figure(figsize=(8, 8))\n#plt.plot(fpr, tpr, label=f'AUC = {roc_auc:.4f}')\n#plt.title('Receiver Operating Characteristic', fontsize=15)\n#plt.xlabel('False positive rate (FPR)', fontsize=15)\n#plt.ylabel('True positive rate (TPR)', fontsize=15)\n#plt.legend(fontsize=15)",
   "metadata": {
    "execution": {
     "iopub.status.busy": "2022-01-11T18:17:45.637361Z",
     "iopub.execute_input": "2022-01-11T18:17:45.637902Z",
     "iopub.status.idle": "2022-01-11T18:17:45.642842Z",
     "shell.execute_reply.started": "2022-01-11T18:17:45.637844Z",
     "shell.execute_reply": "2022-01-11T18:17:45.641984Z"
    },
    "trusted": true
   },
   "execution_count": null,
   "outputs": []
  },
  {
   "cell_type": "code",
   "source": "print(accuracy_score(y_test, y_pred))\nprint(precision_score(y_test, y_pred))\nprint(recall_score(y_test, y_pred))\nprint(f1_score(y_test, y_pred))\nmatrix_con = confusion_matrix(y_test, y_pred)\nsns.heatmap(matrix_con, annot=True)",
   "metadata": {
    "execution": {
     "iopub.status.busy": "2022-01-11T18:17:45.644396Z",
     "iopub.execute_input": "2022-01-11T18:17:45.644884Z",
     "iopub.status.idle": "2022-01-11T18:17:45.960131Z",
     "shell.execute_reply.started": "2022-01-11T18:17:45.644841Z",
     "shell.execute_reply": "2022-01-11T18:17:45.959082Z"
    },
    "trusted": true
   },
   "execution_count": null,
   "outputs": []
  },
  {
   "cell_type": "markdown",
   "source": "Лучшие результаты показала модель \"model\" обученная через GridSearchCV, разбиение на большее количество частей пириводит к ухудшению показателей. SGDClassifier в итоге выдает одни нуыли, что нас не устраевет. Примем данную модель для Submission",
   "metadata": {}
  },
  {
   "cell_type": "code",
   "source": "df.test.shape, X.shape",
   "metadata": {
    "execution": {
     "iopub.status.busy": "2022-01-11T18:17:45.961945Z",
     "iopub.execute_input": "2022-01-11T18:17:45.962332Z",
     "iopub.status.idle": "2022-01-11T18:17:45.969629Z",
     "shell.execute_reply.started": "2022-01-11T18:17:45.962289Z",
     "shell.execute_reply": "2022-01-11T18:17:45.968761Z"
    },
    "trusted": true
   },
   "execution_count": null,
   "outputs": []
  },
  {
   "cell_type": "markdown",
   "source": "# Submission",
   "metadata": {}
  },
  {
   "cell_type": "code",
   "source": "predict_submission = model.predict(df.test)",
   "metadata": {
    "execution": {
     "iopub.status.busy": "2022-01-11T18:17:45.971039Z",
     "iopub.execute_input": "2022-01-11T18:17:45.971258Z",
     "iopub.status.idle": "2022-01-11T18:17:45.993032Z",
     "shell.execute_reply.started": "2022-01-11T18:17:45.971233Z",
     "shell.execute_reply": "2022-01-11T18:17:45.991816Z"
    },
    "trusted": true
   },
   "execution_count": null,
   "outputs": []
  },
  {
   "cell_type": "code",
   "source": "sample_submission['default'] = predict_submission\nsample_submission.to_csv('submission.csv', index=False)\nsample_submission.head(10)",
   "metadata": {
    "execution": {
     "iopub.status.busy": "2022-01-11T18:17:45.995385Z",
     "iopub.execute_input": "2022-01-11T18:17:45.99608Z",
     "iopub.status.idle": "2022-01-11T18:17:46.129153Z",
     "shell.execute_reply.started": "2022-01-11T18:17:45.996009Z",
     "shell.execute_reply": "2022-01-11T18:17:46.128241Z"
    },
    "trusted": true
   },
   "execution_count": null,
   "outputs": []
  },
  {
   "cell_type": "code",
   "source": "!kaggle competitions submit -c sf-scoring -f ssubmission.csv -m \"Message\"",
   "metadata": {
    "pycharm": {
     "name": "#%%\n"
    },
    "execution": {
     "iopub.status.busy": "2022-01-11T18:17:46.131078Z",
     "iopub.execute_input": "2022-01-11T18:17:46.131705Z",
     "iopub.status.idle": "2022-01-11T18:17:47.284151Z",
     "shell.execute_reply.started": "2022-01-11T18:17:46.131657Z",
     "shell.execute_reply": "2022-01-11T18:17:47.282951Z"
    },
    "trusted": true
   },
   "execution_count": null,
   "outputs": []
  },
  {
   "cell_type": "code",
   "source": "",
   "metadata": {
    "collapsed": false,
    "pycharm": {
     "name": "#%%\n"
    },
    "jupyter": {
     "outputs_hidden": false
    }
   },
   "execution_count": null,
   "outputs": []
  }
 ]
}